{
 "cells": [
  {
   "cell_type": "markdown",
   "source": [
    "# Tests"
   ],
   "metadata": {
    "collapsed": false,
    "pycharm": {
     "name": "#%% md\n"
    }
   }
  },
  {
   "cell_type": "markdown",
   "source": [
    "We start with some housekeeping and imports"
   ],
   "metadata": {
    "collapsed": false,
    "pycharm": {
     "name": "#%% md\n"
    }
   }
  },
  {
   "cell_type": "code",
   "execution_count": 3,
   "outputs": [],
   "source": [
    "%load_ext autoreload\n",
    "%autoreload 2"
   ],
   "metadata": {
    "collapsed": false,
    "pycharm": {
     "name": "#%%\n"
    }
   }
  },
  {
   "cell_type": "code",
   "execution_count": 1,
   "outputs": [],
   "source": [
    "from relations.experiment_help import test_save\n",
    "from pathlib import Path\n",
    "from relations.mahalanobis import MahalanobisCorrelationDistanceFactory, DMLMJFactory\n",
    "from relations.distances import CosineMeasureFactory\n",
    "from frlearn.feature_preprocessors import RangeNormaliser\n",
    "from frlearn.parametrisations import at_most"
   ],
   "metadata": {
    "collapsed": false,
    "pycharm": {
     "name": "#%%\n"
    }
   }
  },
  {
   "cell_type": "markdown",
   "source": [
    "Get the path where the data is located"
   ],
   "metadata": {
    "collapsed": false,
    "pycharm": {
     "name": "#%% md\n"
    }
   }
  },
  {
   "cell_type": "code",
   "execution_count": 2,
   "outputs": [],
   "source": [
    "all_path = Path.cwd() / 'keel-data'"
   ],
   "metadata": {
    "collapsed": false,
    "pycharm": {
     "name": "#%%\n"
    }
   }
  },
  {
   "cell_type": "markdown",
   "source": [
    "Now we will perform a sensitivity analysis on the number of neighbours"
   ],
   "metadata": {
    "collapsed": false,
    "pycharm": {
     "name": "#%% md\n"
    }
   }
  },
  {
   "cell_type": "code",
   "execution_count": 6,
   "outputs": [
    {
     "name": "stdout",
     "output_type": "stream",
     "text": [
      "3\n",
      "ecoli\n",
      "wisconsin\n",
      "thyroid\n",
      "wdbc\n",
      "sonar\n",
      "dermatology\n",
      "page-blocks\n",
      "haberman\n",
      "cleveland\n",
      "crx\n",
      "texture\n",
      "winequality-red\n",
      "contraceptive\n",
      "spectfheart\n",
      "bupa\n",
      "yeast\n",
      "titanic\n",
      "heart\n",
      "australian\n",
      "mammographic\n",
      "winequality-white\n",
      "glass\n",
      "pima\n",
      "vowel\n",
      "vehicle\n",
      "wine\n",
      "automobile\n",
      "phoneme\n",
      "banana\n",
      "german\n",
      "ionosphere\n",
      "bands\n",
      "movement_libras\n"
     ]
    }
   ],
   "source": [
    "k = 3\n",
    "print(k)\n",
    "norm = RangeNormaliser()\n",
    "to_test = [DMLMJFactory(n_neighbors=k)]\n",
    "excluded_sets = ['abalone', 'balance', 'marketing', 'ring', 'satimage', 'segment', 'spambase', 'twonorm', 'saheart', 'monk']  # too big\n",
    "results_path = Path.cwd() / 'full_results' / f'k{k}-range-last-mah'\n",
    "test_save(normaliser=norm,\n",
    "          measures_to_test=to_test,\n",
    "          datasets_folder=all_path,\n",
    "          excluded_sets=excluded_sets,\n",
    "          # must_include=['balance', 'marketing', 'ring', 'satimage', 'segment', 'spambase', 'twonorm', 'saheart', 'monk'],\n",
    "          results_folder=results_path,\n",
    "          verbose=True,\n",
    "          k=at_most(k))"
   ],
   "metadata": {
    "collapsed": false,
    "pycharm": {
     "name": "#%%\n"
    }
   }
  },
  {
   "cell_type": "code",
   "execution_count": 10,
   "outputs": [
    {
     "data": {
      "text/plain": "1"
     },
     "execution_count": 10,
     "metadata": {},
     "output_type": "execute_result"
    }
   ],
   "source": [
    "1"
   ],
   "metadata": {
    "collapsed": false,
    "pycharm": {
     "name": "#%%\n"
    }
   }
  },
  {
   "cell_type": "code",
   "execution_count": 50,
   "outputs": [],
   "source": [
    "from relations.experiment_help import calculate_score\n",
    "from sklearn.metrics import balanced_accuracy_score"
   ],
   "metadata": {
    "collapsed": false,
    "pycharm": {
     "name": "#%%\n"
    }
   }
  },
  {
   "cell_type": "code",
   "execution_count": 51,
   "outputs": [
    {
     "name": "stderr",
     "output_type": "stream",
     "text": [
      "/Users/henri/Documents/GitHub/frlearn-cl-nca/venv/lib/python3.10/site-packages/sklearn/metrics/_classification.py:2006: UserWarning: y_pred contains classes not in y_true\n",
      "  warnings.warn(\"y_pred contains classes not in y_true\")\n"
     ]
    },
    {
     "data": {
      "text/plain": "                        cos\necoli              0.722436\nwisconsin               NaN\nthyroid                 NaN\nwdbc                    NaN\nsonar                   NaN\ndermatology             NaN\nmonk               0.847755\nsaheart            0.570806\npage-blocks             NaN\nhaberman                NaN\ncleveland               NaN\nspambase            0.90116\ncrx                     NaN\ntexture                 NaN\nwinequality-red         NaN\ncontraceptive           NaN\nspectfheart             NaN\nbupa                    NaN\nyeast                   NaN\ntitanic                 NaN\nmarketing          0.265695\nring               0.808374\nheart                   NaN\nbalance                 NaN\ntwonorm            0.965545\naustralian              NaN\nsegment            0.968398\nmammographic            NaN\nwinequality-white       NaN\nsatimage           0.878673\nglass                   NaN\npima                    NaN\nvowel                   NaN\nvehicle                 NaN\nwine                    NaN\nautomobile              NaN\nphoneme                 NaN\nbanana                  NaN\ngerman                  NaN\nionosphere              NaN\nbands                   NaN\nmovement_libras         NaN",
      "text/html": "<div>\n<style scoped>\n    .dataframe tbody tr th:only-of-type {\n        vertical-align: middle;\n    }\n\n    .dataframe tbody tr th {\n        vertical-align: top;\n    }\n\n    .dataframe thead th {\n        text-align: right;\n    }\n</style>\n<table border=\"1\" class=\"dataframe\">\n  <thead>\n    <tr style=\"text-align: right;\">\n      <th></th>\n      <th>cos</th>\n    </tr>\n  </thead>\n  <tbody>\n    <tr>\n      <th>ecoli</th>\n      <td>0.722436</td>\n    </tr>\n    <tr>\n      <th>wisconsin</th>\n      <td>NaN</td>\n    </tr>\n    <tr>\n      <th>thyroid</th>\n      <td>NaN</td>\n    </tr>\n    <tr>\n      <th>wdbc</th>\n      <td>NaN</td>\n    </tr>\n    <tr>\n      <th>sonar</th>\n      <td>NaN</td>\n    </tr>\n    <tr>\n      <th>dermatology</th>\n      <td>NaN</td>\n    </tr>\n    <tr>\n      <th>monk</th>\n      <td>0.847755</td>\n    </tr>\n    <tr>\n      <th>saheart</th>\n      <td>0.570806</td>\n    </tr>\n    <tr>\n      <th>page-blocks</th>\n      <td>NaN</td>\n    </tr>\n    <tr>\n      <th>haberman</th>\n      <td>NaN</td>\n    </tr>\n    <tr>\n      <th>cleveland</th>\n      <td>NaN</td>\n    </tr>\n    <tr>\n      <th>spambase</th>\n      <td>0.90116</td>\n    </tr>\n    <tr>\n      <th>crx</th>\n      <td>NaN</td>\n    </tr>\n    <tr>\n      <th>texture</th>\n      <td>NaN</td>\n    </tr>\n    <tr>\n      <th>winequality-red</th>\n      <td>NaN</td>\n    </tr>\n    <tr>\n      <th>contraceptive</th>\n      <td>NaN</td>\n    </tr>\n    <tr>\n      <th>spectfheart</th>\n      <td>NaN</td>\n    </tr>\n    <tr>\n      <th>bupa</th>\n      <td>NaN</td>\n    </tr>\n    <tr>\n      <th>yeast</th>\n      <td>NaN</td>\n    </tr>\n    <tr>\n      <th>titanic</th>\n      <td>NaN</td>\n    </tr>\n    <tr>\n      <th>marketing</th>\n      <td>0.265695</td>\n    </tr>\n    <tr>\n      <th>ring</th>\n      <td>0.808374</td>\n    </tr>\n    <tr>\n      <th>heart</th>\n      <td>NaN</td>\n    </tr>\n    <tr>\n      <th>balance</th>\n      <td>NaN</td>\n    </tr>\n    <tr>\n      <th>twonorm</th>\n      <td>0.965545</td>\n    </tr>\n    <tr>\n      <th>australian</th>\n      <td>NaN</td>\n    </tr>\n    <tr>\n      <th>segment</th>\n      <td>0.968398</td>\n    </tr>\n    <tr>\n      <th>mammographic</th>\n      <td>NaN</td>\n    </tr>\n    <tr>\n      <th>winequality-white</th>\n      <td>NaN</td>\n    </tr>\n    <tr>\n      <th>satimage</th>\n      <td>0.878673</td>\n    </tr>\n    <tr>\n      <th>glass</th>\n      <td>NaN</td>\n    </tr>\n    <tr>\n      <th>pima</th>\n      <td>NaN</td>\n    </tr>\n    <tr>\n      <th>vowel</th>\n      <td>NaN</td>\n    </tr>\n    <tr>\n      <th>vehicle</th>\n      <td>NaN</td>\n    </tr>\n    <tr>\n      <th>wine</th>\n      <td>NaN</td>\n    </tr>\n    <tr>\n      <th>automobile</th>\n      <td>NaN</td>\n    </tr>\n    <tr>\n      <th>phoneme</th>\n      <td>NaN</td>\n    </tr>\n    <tr>\n      <th>banana</th>\n      <td>NaN</td>\n    </tr>\n    <tr>\n      <th>german</th>\n      <td>NaN</td>\n    </tr>\n    <tr>\n      <th>ionosphere</th>\n      <td>NaN</td>\n    </tr>\n    <tr>\n      <th>bands</th>\n      <td>NaN</td>\n    </tr>\n    <tr>\n      <th>movement_libras</th>\n      <td>NaN</td>\n    </tr>\n  </tbody>\n</table>\n</div>"
     },
     "execution_count": 51,
     "metadata": {},
     "output_type": "execute_result"
    }
   ],
   "source": [
    "calculate_score(data_folder=Path.cwd() / 'keel-data', results_folder=Path.cwd() / 'full_results' / f'k{3}-range-last-cos', metric=balanced_accuracy_score, wanted_measures=['cos'])"
   ],
   "metadata": {
    "collapsed": false,
    "pycharm": {
     "name": "#%%\n"
    }
   }
  },
  {
   "cell_type": "code",
   "execution_count": null,
   "outputs": [],
   "source": [],
   "metadata": {
    "collapsed": false,
    "pycharm": {
     "name": "#%%\n"
    }
   }
  }
 ],
 "metadata": {
  "kernelspec": {
   "display_name": "Python 3",
   "language": "python",
   "name": "python3"
  },
  "language_info": {
   "codemirror_mode": {
    "name": "ipython",
    "version": 2
   },
   "file_extension": ".py",
   "mimetype": "text/x-python",
   "name": "python",
   "nbconvert_exporter": "python",
   "pygments_lexer": "ipython2",
   "version": "2.7.6"
  }
 },
 "nbformat": 4,
 "nbformat_minor": 0
}