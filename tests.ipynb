{
 "cells": [
  {
   "cell_type": "markdown",
   "source": [
    "# First bugfixing tests"
   ],
   "metadata": {
    "collapsed": false,
    "pycharm": {
     "name": "#%% md\n"
    }
   }
  },
  {
   "cell_type": "markdown",
   "source": [
    "We start with some housekeeping and imports"
   ],
   "metadata": {
    "collapsed": false,
    "pycharm": {
     "name": "#%% md\n"
    }
   }
  },
  {
   "cell_type": "code",
   "execution_count": 1,
   "outputs": [],
   "source": [
    "%load_ext autoreload\n",
    "%autoreload 2"
   ],
   "metadata": {
    "collapsed": false,
    "pycharm": {
     "name": "#%%\n"
    }
   }
  },
  {
   "cell_type": "code",
   "execution_count": 12,
   "outputs": [],
   "source": [
    "from relations.experiment_help import test_save\n",
    "from pathlib import Path\n",
    "import numpy as np\n",
    "import relations.measures as measures\n",
    "from frlearn.feature_preprocessors import RangeNormaliser,MinMaxNormaliser"
   ],
   "metadata": {
    "collapsed": false,
    "pycharm": {
     "name": "#%%\n"
    }
   }
  },
  {
   "cell_type": "markdown",
   "source": [
    "Get the path where the data is located"
   ],
   "metadata": {
    "collapsed": false,
    "pycharm": {
     "name": "#%% md\n"
    }
   }
  },
  {
   "cell_type": "code",
   "execution_count": 6,
   "outputs": [],
   "source": [
    "all_path = Path.cwd() / 'keel-data'"
   ],
   "metadata": {
    "collapsed": false,
    "pycharm": {
     "name": "#%%\n"
    }
   }
  },
  {
   "cell_type": "markdown",
   "source": [
    "Parameters of the testing procedure"
   ],
   "metadata": {
    "collapsed": false,
    "pycharm": {
     "name": "#%% md\n"
    }
   }
  },
  {
   "cell_type": "code",
   "execution_count": 22,
   "outputs": [],
   "source": [
    "k = 3\n",
    "norm = RangeNormaliser()\n",
    "results_path = Path.cwd() / 'full_results' / f'k{k}-range'"
   ],
   "metadata": {
    "collapsed": false,
    "pycharm": {
     "name": "#%%\n"
    }
   }
  },
  {
   "cell_type": "code",
   "execution_count": 23,
   "outputs": [],
   "source": [
    "to_test = [measures.ClassNCAFactory()]\n",
    "excluded_sets = ['abalone', 'balance', 'marketing', 'ring', 'satimage', 'segment', 'spambase', 'twonorm', 'saheart'] # too big\n",
    "excluded_sets.append('monk') # error for combo"
   ],
   "metadata": {
    "collapsed": false,
    "pycharm": {
     "name": "#%%\n"
    }
   }
  },
  {
   "cell_type": "code",
   "execution_count": 24,
   "outputs": [
    {
     "name": "stdout",
     "output_type": "stream",
     "text": [
      "ecoli\n",
      "wisconsin\n",
      "thyroid\n",
      "wdbc\n"
     ]
    },
    {
     "ename": "KeyboardInterrupt",
     "evalue": "",
     "output_type": "error",
     "traceback": [
      "\u001B[0;31m---------------------------------------------------------------------------\u001B[0m",
      "\u001B[0;31mKeyboardInterrupt\u001B[0m                         Traceback (most recent call last)",
      "Cell \u001B[0;32mIn [24], line 1\u001B[0m\n\u001B[0;32m----> 1\u001B[0m \u001B[43mtest_save\u001B[49m\u001B[43m(\u001B[49m\u001B[43mnormaliser\u001B[49m\u001B[38;5;241;43m=\u001B[39;49m\u001B[43mnorm\u001B[49m\u001B[43m,\u001B[49m\n\u001B[1;32m      2\u001B[0m \u001B[43m          \u001B[49m\u001B[43mmeasures_to_test\u001B[49m\u001B[38;5;241;43m=\u001B[39;49m\u001B[43mto_test\u001B[49m\u001B[43m,\u001B[49m\n\u001B[1;32m      3\u001B[0m \u001B[43m          \u001B[49m\u001B[43mdatasets_folder\u001B[49m\u001B[38;5;241;43m=\u001B[39;49m\u001B[43mall_path\u001B[49m\u001B[43m,\u001B[49m\n\u001B[1;32m      4\u001B[0m \u001B[43m          \u001B[49m\u001B[43mexcluded_sets\u001B[49m\u001B[38;5;241;43m=\u001B[39;49m\u001B[43mexcluded_sets\u001B[49m\u001B[43m,\u001B[49m\n\u001B[1;32m      5\u001B[0m \u001B[43m          \u001B[49m\u001B[43mresults_folder\u001B[49m\u001B[38;5;241;43m=\u001B[39;49m\u001B[43mresults_path\u001B[49m\u001B[43m,\u001B[49m\n\u001B[1;32m      6\u001B[0m \u001B[43m          \u001B[49m\u001B[43mverbose\u001B[49m\u001B[38;5;241;43m=\u001B[39;49m\u001B[38;5;28;43;01mTrue\u001B[39;49;00m\u001B[43m,\u001B[49m\n\u001B[1;32m      7\u001B[0m \u001B[43m          \u001B[49m\u001B[43mk\u001B[49m\u001B[38;5;241;43m=\u001B[39;49m\u001B[43mk\u001B[49m\u001B[43m)\u001B[49m\n",
      "File \u001B[0;32m~/Documents/GitHub/frlearn-cl-nca/relations/experiment_help.py:122\u001B[0m, in \u001B[0;36mtest_save\u001B[0;34m(measures_to_test, datasets_folder, results_folder, excluded_sets, must_include, verbose, remove_cat, weights, normaliser, k, nr_of_folds)\u001B[0m\n\u001B[1;32m    118\u001B[0m \u001B[38;5;28;01mif\u001B[39;00m \u001B[38;5;129;01mnot\u001B[39;00m (fold_result_path \u001B[38;5;241m/\u001B[39m \u001B[38;5;124mf\u001B[39m\u001B[38;5;124m\"\u001B[39m\u001B[38;5;132;01m{\u001B[39;00mmeasure\u001B[38;5;241m.\u001B[39mget_name()\u001B[38;5;132;01m}\u001B[39;00m\u001B[38;5;124m_fold\u001B[39m\u001B[38;5;132;01m{\u001B[39;00mfold \u001B[38;5;241m+\u001B[39m \u001B[38;5;241m1\u001B[39m\u001B[38;5;132;01m}\u001B[39;00m\u001B[38;5;124m.dat\u001B[39m\u001B[38;5;124m\"\u001B[39m)\u001B[38;5;241m.\u001B[39mis_file():\n\u001B[1;32m    119\u001B[0m     \u001B[38;5;66;03m# check that we can apply the measure to both train and test sets\u001B[39;00m\n\u001B[1;32m    120\u001B[0m     \u001B[38;5;28;01mif\u001B[39;00m measure\u001B[38;5;241m.\u001B[39mcan_apply(x_train_n, y_train) \u001B[38;5;129;01mand\u001B[39;00m measure\u001B[38;5;241m.\u001B[39mcan_apply(x_test_n, y_test):\n\u001B[1;32m    121\u001B[0m         \u001B[38;5;66;03m# fit the measure to the training set\u001B[39;00m\n\u001B[0;32m--> 122\u001B[0m         \u001B[43mmeasure\u001B[49m\u001B[38;5;241;43m.\u001B[39;49m\u001B[43mfit\u001B[49m\u001B[43m(\u001B[49m\u001B[43mx_train_n\u001B[49m\u001B[43m,\u001B[49m\u001B[43m \u001B[49m\u001B[43my_train\u001B[49m\u001B[43m)\u001B[49m\n\u001B[1;32m    123\u001B[0m         \u001B[38;5;66;03m# instantiate the FRNN classifier factory\u001B[39;00m\n\u001B[1;32m    124\u001B[0m         clf \u001B[38;5;241m=\u001B[39m FRNN(preprocessors\u001B[38;5;241m=\u001B[39m(),\n\u001B[1;32m    125\u001B[0m                    nn_search\u001B[38;5;241m=\u001B[39mBallTree(),\n\u001B[1;32m    126\u001B[0m                    dissimilarity\u001B[38;5;241m=\u001B[39mmeasure\u001B[38;5;241m.\u001B[39mget_metric(),\n\u001B[0;32m   (...)\u001B[0m\n\u001B[1;32m    129\u001B[0m                    lower_weights\u001B[38;5;241m=\u001B[39mweights,\n\u001B[1;32m    130\u001B[0m                    upper_weights\u001B[38;5;241m=\u001B[39mweights)\n",
      "File \u001B[0;32m~/Documents/GitHub/frlearn-cl-nca/relations/measures.py:1977\u001B[0m, in \u001B[0;36mClassNCAFactory.fit\u001B[0;34m(self, X, y)\u001B[0m\n\u001B[1;32m   1976\u001B[0m \u001B[38;5;28;01mdef\u001B[39;00m \u001B[38;5;21mfit\u001B[39m(\u001B[38;5;28mself\u001B[39m, X, y\u001B[38;5;241m=\u001B[39m\u001B[38;5;28;01mNone\u001B[39;00m):\n\u001B[0;32m-> 1977\u001B[0m     \u001B[38;5;28;43mself\u001B[39;49m\u001B[38;5;241;43m.\u001B[39;49m\u001B[43mmodel\u001B[49m\u001B[38;5;241;43m.\u001B[39;49m\u001B[43mfit\u001B[49m\u001B[43m(\u001B[49m\u001B[43mX\u001B[49m\u001B[38;5;241;43m=\u001B[39;49m\u001B[43mX\u001B[49m\u001B[43m,\u001B[49m\u001B[43m \u001B[49m\u001B[43my\u001B[49m\u001B[38;5;241;43m=\u001B[39;49m\u001B[43my\u001B[49m\u001B[43m)\u001B[49m\n\u001B[1;32m   1978\u001B[0m     \u001B[38;5;28mself\u001B[39m\u001B[38;5;241m.\u001B[39mmatrix_dict \u001B[38;5;241m=\u001B[39m \u001B[38;5;28mself\u001B[39m\u001B[38;5;241m.\u001B[39mmodel\u001B[38;5;241m.\u001B[39mmetric()\n\u001B[1;32m   1979\u001B[0m     \u001B[38;5;66;03m# calcualte overal max distance\u001B[39;00m\n",
      "File \u001B[0;32m~/Documents/GitHub/frlearn-cl-nca/algorithms/clnca.py:186\u001B[0m, in \u001B[0;36mClassNCA.fit\u001B[0;34m(self, X, y)\u001B[0m\n\u001B[1;32m    182\u001B[0m     matrix_dict[cc] \u001B[38;5;241m=\u001B[39m L\u001B[38;5;241m.\u001B[39mcopy()\n\u001B[1;32m    184\u001B[0m \u001B[38;5;28mself\u001B[39m\u001B[38;5;241m.\u001B[39minitial_softmax_ \u001B[38;5;241m=\u001B[39m \u001B[38;5;28mself\u001B[39m\u001B[38;5;241m.\u001B[39m_compute_expected_success(matrix_dict, X, y, class_split_inds) \u001B[38;5;241m/\u001B[39m \u001B[38;5;28mlen\u001B[39m(y)\n\u001B[0;32m--> 186\u001B[0m \u001B[38;5;28;43mself\u001B[39;49m\u001B[38;5;241;43m.\u001B[39;49m\u001B[43m_SGD_fit\u001B[49m\u001B[43m(\u001B[49m\u001B[43mX\u001B[49m\u001B[43m,\u001B[49m\u001B[43m \u001B[49m\u001B[43my\u001B[49m\u001B[43m,\u001B[49m\u001B[43m \u001B[49m\u001B[43mgeneral_matrix\u001B[49m\u001B[43m,\u001B[49m\u001B[43m \u001B[49m\u001B[43mmatrix_dict\u001B[49m\u001B[43m,\u001B[49m\u001B[43m \u001B[49m\u001B[43mclass_split_inds\u001B[49m\u001B[43m)\u001B[49m\n\u001B[1;32m    188\u001B[0m \u001B[38;5;28mself\u001B[39m\u001B[38;5;241m.\u001B[39mfinal_softmax_ \u001B[38;5;241m=\u001B[39m \u001B[38;5;28mself\u001B[39m\u001B[38;5;241m.\u001B[39m_compute_expected_success(\u001B[38;5;28mself\u001B[39m\u001B[38;5;241m.\u001B[39mmatrix_dict, X, y, class_split_inds) \u001B[38;5;241m/\u001B[39m \u001B[38;5;28mlen\u001B[39m(y)\n\u001B[1;32m    189\u001B[0m \u001B[38;5;28;01mreturn\u001B[39;00m \u001B[38;5;28mself\u001B[39m\n",
      "File \u001B[0;32m~/Documents/GitHub/frlearn-cl-nca/algorithms/clnca.py:264\u001B[0m, in \u001B[0;36mClassNCA._SGD_fit\u001B[0;34m(self, X, y, general_matrix, matrix_dict, class_split_inds)\u001B[0m\n\u001B[1;32m    261\u001B[0m sum_same \u001B[38;5;241m=\u001B[39m np\u001B[38;5;241m.\u001B[39mzeros([d, d])\n\u001B[1;32m    263\u001B[0m \u001B[38;5;28;01mfor\u001B[39;00m k \u001B[38;5;129;01min\u001B[39;00m xrange(n):\n\u001B[0;32m--> 264\u001B[0m     s \u001B[38;5;241m=\u001B[39m softmax[k] \u001B[38;5;241m*\u001B[39m matrix_dict[y[k]] \u001B[38;5;241m@\u001B[39m \u001B[43mnp\u001B[49m\u001B[38;5;241;43m.\u001B[39;49m\u001B[43mouter\u001B[49m\u001B[43m(\u001B[49m\u001B[43mX\u001B[49m\u001B[43m[\u001B[49m\u001B[43mk\u001B[49m\u001B[43m,\u001B[49m\u001B[43m \u001B[49m\u001B[43m:\u001B[49m\u001B[43m]\u001B[49m\u001B[43m,\u001B[49m\u001B[43m \u001B[49m\u001B[43mX\u001B[49m\u001B[43m[\u001B[49m\u001B[43mk\u001B[49m\u001B[43m,\u001B[49m\u001B[43m \u001B[49m\u001B[43m:\u001B[49m\u001B[43m]\u001B[49m\u001B[43m)\u001B[49m\n\u001B[1;32m    265\u001B[0m     sum_all \u001B[38;5;241m+\u001B[39m\u001B[38;5;241m=\u001B[39m s\n\u001B[1;32m    266\u001B[0m     \u001B[38;5;28;01mif\u001B[39;00m y[i] \u001B[38;5;241m==\u001B[39m y[k]:\n",
      "File \u001B[0;32m<__array_function__ internals>:177\u001B[0m, in \u001B[0;36mouter\u001B[0;34m(*args, **kwargs)\u001B[0m\n",
      "\u001B[0;31mKeyboardInterrupt\u001B[0m: "
     ]
    }
   ],
   "source": [
    "test_save(normaliser=norm,\n",
    "          measures_to_test=to_test,\n",
    "          datasets_folder=all_path,\n",
    "          excluded_sets=excluded_sets,\n",
    "          results_folder=results_path,\n",
    "          verbose=True,\n",
    "          k=k)"
   ],
   "metadata": {
    "collapsed": false,
    "pycharm": {
     "name": "#%%\n"
    }
   }
  },
  {
   "cell_type": "code",
   "execution_count": null,
   "outputs": [],
   "source": [],
   "metadata": {
    "collapsed": false,
    "pycharm": {
     "name": "#%%\n"
    }
   }
  }
 ],
 "metadata": {
  "kernelspec": {
   "display_name": "Python 3",
   "language": "python",
   "name": "python3"
  },
  "language_info": {
   "codemirror_mode": {
    "name": "ipython",
    "version": 2
   },
   "file_extension": ".py",
   "mimetype": "text/x-python",
   "name": "python",
   "nbconvert_exporter": "python",
   "pygments_lexer": "ipython2",
   "version": "2.7.6"
  }
 },
 "nbformat": 4,
 "nbformat_minor": 0
}