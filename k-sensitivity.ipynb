{
 "cells": [
  {
   "cell_type": "markdown",
   "source": [
    "Sensitivity analysis on k\n",
    "==="
   ],
   "metadata": {
    "collapsed": false,
    "pycharm": {
     "name": "#%% md\n"
    }
   }
  },
  {
   "cell_type": "code",
   "execution_count": 1,
   "metadata": {
    "collapsed": true,
    "pycharm": {
     "name": "#%%\n"
    }
   },
   "outputs": [],
   "source": [
    "%load_ext autoreload\n",
    "%autoreload 2"
   ]
  },
  {
   "cell_type": "code",
   "execution_count": 85,
   "outputs": [],
   "source": [
    "from pathlib import Path\n",
    "import numpy as np\n",
    "import pandas as pd\n",
    "from relations.experiment_help import calculate_score, get_dataset, bold_max\n",
    "from sklearn.metrics import balanced_accuracy_score\n",
    "from re import search"
   ],
   "metadata": {
    "collapsed": false,
    "pycharm": {
     "name": "#%%\n"
    }
   }
  },
  {
   "cell_type": "markdown",
   "source": [
    "Getting the paths"
   ],
   "metadata": {
    "collapsed": false,
    "pycharm": {
     "name": "#%% md\n"
    }
   }
  },
  {
   "cell_type": "code",
   "execution_count": 3,
   "outputs": [],
   "source": [
    "data_path = Path.cwd() / 'keel-data'\n",
    "result_paths ={}\n",
    "ks = [1,3,5,10,15,20]\n",
    "for k in ks:\n",
    "     result_paths[k] = Path.cwd() / 'full_results' / f'k{k}-range'"
   ],
   "metadata": {
    "collapsed": false,
    "pycharm": {
     "name": "#%%\n"
    }
   }
  },
  {
   "cell_type": "markdown",
   "source": [
    "Getting the tables"
   ],
   "metadata": {
    "collapsed": false,
    "pycharm": {
     "name": "#%% md\n"
    }
   }
  },
  {
   "cell_type": "code",
   "execution_count": 148,
   "outputs": [
    {
     "name": "stderr",
     "output_type": "stream",
     "text": [
      "/Users/henri/Documents/GitHub/frlearn-cl-nca/venv/lib/python3.10/site-packages/sklearn/metrics/_classification.py:2006: UserWarning: y_pred contains classes not in y_true\n",
      "  warnings.warn(\"y_pred contains classes not in y_true\")\n",
      "/Users/henri/Documents/GitHub/frlearn-cl-nca/venv/lib/python3.10/site-packages/sklearn/metrics/_classification.py:2006: UserWarning: y_pred contains classes not in y_true\n",
      "  warnings.warn(\"y_pred contains classes not in y_true\")\n",
      "/Users/henri/Documents/GitHub/frlearn-cl-nca/venv/lib/python3.10/site-packages/sklearn/metrics/_classification.py:2006: UserWarning: y_pred contains classes not in y_true\n",
      "  warnings.warn(\"y_pred contains classes not in y_true\")\n",
      "/Users/henri/Documents/GitHub/frlearn-cl-nca/venv/lib/python3.10/site-packages/sklearn/metrics/_classification.py:2006: UserWarning: y_pred contains classes not in y_true\n",
      "  warnings.warn(\"y_pred contains classes not in y_true\")\n",
      "/Users/henri/Documents/GitHub/frlearn-cl-nca/venv/lib/python3.10/site-packages/sklearn/metrics/_classification.py:2006: UserWarning: y_pred contains classes not in y_true\n",
      "  warnings.warn(\"y_pred contains classes not in y_true\")\n",
      "/Users/henri/Documents/GitHub/frlearn-cl-nca/venv/lib/python3.10/site-packages/sklearn/metrics/_classification.py:2006: UserWarning: y_pred contains classes not in y_true\n",
      "  warnings.warn(\"y_pred contains classes not in y_true\")\n",
      "/Users/henri/Documents/GitHub/frlearn-cl-nca/venv/lib/python3.10/site-packages/sklearn/metrics/_classification.py:2006: UserWarning: y_pred contains classes not in y_true\n",
      "  warnings.warn(\"y_pred contains classes not in y_true\")\n",
      "/Users/henri/Documents/GitHub/frlearn-cl-nca/venv/lib/python3.10/site-packages/sklearn/metrics/_classification.py:2006: UserWarning: y_pred contains classes not in y_true\n",
      "  warnings.warn(\"y_pred contains classes not in y_true\")\n",
      "/Users/henri/Documents/GitHub/frlearn-cl-nca/venv/lib/python3.10/site-packages/sklearn/metrics/_classification.py:2006: UserWarning: y_pred contains classes not in y_true\n",
      "  warnings.warn(\"y_pred contains classes not in y_true\")\n",
      "/Users/henri/Documents/GitHub/frlearn-cl-nca/venv/lib/python3.10/site-packages/sklearn/metrics/_classification.py:2006: UserWarning: y_pred contains classes not in y_true\n",
      "  warnings.warn(\"y_pred contains classes not in y_true\")\n",
      "/Users/henri/Documents/GitHub/frlearn-cl-nca/venv/lib/python3.10/site-packages/sklearn/metrics/_classification.py:2006: UserWarning: y_pred contains classes not in y_true\n",
      "  warnings.warn(\"y_pred contains classes not in y_true\")\n",
      "/Users/henri/Documents/GitHub/frlearn-cl-nca/venv/lib/python3.10/site-packages/sklearn/metrics/_classification.py:2006: UserWarning: y_pred contains classes not in y_true\n",
      "  warnings.warn(\"y_pred contains classes not in y_true\")\n",
      "/Users/henri/Documents/GitHub/frlearn-cl-nca/venv/lib/python3.10/site-packages/sklearn/metrics/_classification.py:2006: UserWarning: y_pred contains classes not in y_true\n",
      "  warnings.warn(\"y_pred contains classes not in y_true\")\n",
      "/Users/henri/Documents/GitHub/frlearn-cl-nca/venv/lib/python3.10/site-packages/sklearn/metrics/_classification.py:2006: UserWarning: y_pred contains classes not in y_true\n",
      "  warnings.warn(\"y_pred contains classes not in y_true\")\n",
      "/Users/henri/Documents/GitHub/frlearn-cl-nca/venv/lib/python3.10/site-packages/sklearn/metrics/_classification.py:2006: UserWarning: y_pred contains classes not in y_true\n",
      "  warnings.warn(\"y_pred contains classes not in y_true\")\n",
      "/Users/henri/Documents/GitHub/frlearn-cl-nca/venv/lib/python3.10/site-packages/sklearn/metrics/_classification.py:2006: UserWarning: y_pred contains classes not in y_true\n",
      "  warnings.warn(\"y_pred contains classes not in y_true\")\n",
      "/Users/henri/Documents/GitHub/frlearn-cl-nca/venv/lib/python3.10/site-packages/sklearn/metrics/_classification.py:2006: UserWarning: y_pred contains classes not in y_true\n",
      "  warnings.warn(\"y_pred contains classes not in y_true\")\n",
      "/Users/henri/Documents/GitHub/frlearn-cl-nca/venv/lib/python3.10/site-packages/sklearn/metrics/_classification.py:2006: UserWarning: y_pred contains classes not in y_true\n",
      "  warnings.warn(\"y_pred contains classes not in y_true\")\n",
      "/Users/henri/Documents/GitHub/frlearn-cl-nca/venv/lib/python3.10/site-packages/sklearn/metrics/_classification.py:2006: UserWarning: y_pred contains classes not in y_true\n",
      "  warnings.warn(\"y_pred contains classes not in y_true\")\n",
      "/Users/henri/Documents/GitHub/frlearn-cl-nca/venv/lib/python3.10/site-packages/sklearn/metrics/_classification.py:2006: UserWarning: y_pred contains classes not in y_true\n",
      "  warnings.warn(\"y_pred contains classes not in y_true\")\n",
      "/Users/henri/Documents/GitHub/frlearn-cl-nca/venv/lib/python3.10/site-packages/sklearn/metrics/_classification.py:2006: UserWarning: y_pred contains classes not in y_true\n",
      "  warnings.warn(\"y_pred contains classes not in y_true\")\n",
      "/Users/henri/Documents/GitHub/frlearn-cl-nca/venv/lib/python3.10/site-packages/sklearn/metrics/_classification.py:2006: UserWarning: y_pred contains classes not in y_true\n",
      "  warnings.warn(\"y_pred contains classes not in y_true\")\n",
      "/Users/henri/Documents/GitHub/frlearn-cl-nca/venv/lib/python3.10/site-packages/sklearn/metrics/_classification.py:2006: UserWarning: y_pred contains classes not in y_true\n",
      "  warnings.warn(\"y_pred contains classes not in y_true\")\n",
      "/Users/henri/Documents/GitHub/frlearn-cl-nca/venv/lib/python3.10/site-packages/sklearn/metrics/_classification.py:2006: UserWarning: y_pred contains classes not in y_true\n",
      "  warnings.warn(\"y_pred contains classes not in y_true\")\n",
      "/Users/henri/Documents/GitHub/frlearn-cl-nca/venv/lib/python3.10/site-packages/sklearn/metrics/_classification.py:2006: UserWarning: y_pred contains classes not in y_true\n",
      "  warnings.warn(\"y_pred contains classes not in y_true\")\n",
      "/Users/henri/Documents/GitHub/frlearn-cl-nca/venv/lib/python3.10/site-packages/sklearn/metrics/_classification.py:2006: UserWarning: y_pred contains classes not in y_true\n",
      "  warnings.warn(\"y_pred contains classes not in y_true\")\n",
      "/Users/henri/Documents/GitHub/frlearn-cl-nca/venv/lib/python3.10/site-packages/sklearn/metrics/_classification.py:2006: UserWarning: y_pred contains classes not in y_true\n",
      "  warnings.warn(\"y_pred contains classes not in y_true\")\n",
      "/Users/henri/Documents/GitHub/frlearn-cl-nca/venv/lib/python3.10/site-packages/sklearn/metrics/_classification.py:2006: UserWarning: y_pred contains classes not in y_true\n",
      "  warnings.warn(\"y_pred contains classes not in y_true\")\n",
      "/Users/henri/Documents/GitHub/frlearn-cl-nca/venv/lib/python3.10/site-packages/sklearn/metrics/_classification.py:2006: UserWarning: y_pred contains classes not in y_true\n",
      "  warnings.warn(\"y_pred contains classes not in y_true\")\n",
      "/Users/henri/Documents/GitHub/frlearn-cl-nca/venv/lib/python3.10/site-packages/sklearn/metrics/_classification.py:2006: UserWarning: y_pred contains classes not in y_true\n",
      "  warnings.warn(\"y_pred contains classes not in y_true\")\n",
      "/Users/henri/Documents/GitHub/frlearn-cl-nca/venv/lib/python3.10/site-packages/sklearn/metrics/_classification.py:2006: UserWarning: y_pred contains classes not in y_true\n",
      "  warnings.warn(\"y_pred contains classes not in y_true\")\n",
      "/Users/henri/Documents/GitHub/frlearn-cl-nca/venv/lib/python3.10/site-packages/sklearn/metrics/_classification.py:2006: UserWarning: y_pred contains classes not in y_true\n",
      "  warnings.warn(\"y_pred contains classes not in y_true\")\n",
      "/Users/henri/Documents/GitHub/frlearn-cl-nca/venv/lib/python3.10/site-packages/sklearn/metrics/_classification.py:2006: UserWarning: y_pred contains classes not in y_true\n",
      "  warnings.warn(\"y_pred contains classes not in y_true\")\n",
      "/Users/henri/Documents/GitHub/frlearn-cl-nca/venv/lib/python3.10/site-packages/sklearn/metrics/_classification.py:2006: UserWarning: y_pred contains classes not in y_true\n",
      "  warnings.warn(\"y_pred contains classes not in y_true\")\n",
      "/Users/henri/Documents/GitHub/frlearn-cl-nca/venv/lib/python3.10/site-packages/sklearn/metrics/_classification.py:2006: UserWarning: y_pred contains classes not in y_true\n",
      "  warnings.warn(\"y_pred contains classes not in y_true\")\n",
      "/Users/henri/Documents/GitHub/frlearn-cl-nca/venv/lib/python3.10/site-packages/sklearn/metrics/_classification.py:2006: UserWarning: y_pred contains classes not in y_true\n",
      "  warnings.warn(\"y_pred contains classes not in y_true\")\n",
      "/Users/henri/Documents/GitHub/frlearn-cl-nca/venv/lib/python3.10/site-packages/sklearn/metrics/_classification.py:2006: UserWarning: y_pred contains classes not in y_true\n",
      "  warnings.warn(\"y_pred contains classes not in y_true\")\n",
      "/Users/henri/Documents/GitHub/frlearn-cl-nca/venv/lib/python3.10/site-packages/sklearn/metrics/_classification.py:2006: UserWarning: y_pred contains classes not in y_true\n",
      "  warnings.warn(\"y_pred contains classes not in y_true\")\n",
      "/Users/henri/Documents/GitHub/frlearn-cl-nca/venv/lib/python3.10/site-packages/sklearn/metrics/_classification.py:2006: UserWarning: y_pred contains classes not in y_true\n",
      "  warnings.warn(\"y_pred contains classes not in y_true\")\n",
      "/Users/henri/Documents/GitHub/frlearn-cl-nca/venv/lib/python3.10/site-packages/sklearn/metrics/_classification.py:2006: UserWarning: y_pred contains classes not in y_true\n",
      "  warnings.warn(\"y_pred contains classes not in y_true\")\n",
      "/Users/henri/Documents/GitHub/frlearn-cl-nca/venv/lib/python3.10/site-packages/sklearn/metrics/_classification.py:2006: UserWarning: y_pred contains classes not in y_true\n",
      "  warnings.warn(\"y_pred contains classes not in y_true\")\n",
      "/Users/henri/Documents/GitHub/frlearn-cl-nca/venv/lib/python3.10/site-packages/sklearn/metrics/_classification.py:2006: UserWarning: y_pred contains classes not in y_true\n",
      "  warnings.warn(\"y_pred contains classes not in y_true\")\n",
      "/Users/henri/Documents/GitHub/frlearn-cl-nca/venv/lib/python3.10/site-packages/sklearn/metrics/_classification.py:2006: UserWarning: y_pred contains classes not in y_true\n",
      "  warnings.warn(\"y_pred contains classes not in y_true\")\n",
      "/Users/henri/Documents/GitHub/frlearn-cl-nca/venv/lib/python3.10/site-packages/sklearn/metrics/_classification.py:2006: UserWarning: y_pred contains classes not in y_true\n",
      "  warnings.warn(\"y_pred contains classes not in y_true\")\n",
      "/Users/henri/Documents/GitHub/frlearn-cl-nca/venv/lib/python3.10/site-packages/sklearn/metrics/_classification.py:2006: UserWarning: y_pred contains classes not in y_true\n",
      "  warnings.warn(\"y_pred contains classes not in y_true\")\n",
      "/Users/henri/Documents/GitHub/frlearn-cl-nca/venv/lib/python3.10/site-packages/sklearn/metrics/_classification.py:2006: UserWarning: y_pred contains classes not in y_true\n",
      "  warnings.warn(\"y_pred contains classes not in y_true\")\n",
      "/Users/henri/Documents/GitHub/frlearn-cl-nca/venv/lib/python3.10/site-packages/sklearn/metrics/_classification.py:2006: UserWarning: y_pred contains classes not in y_true\n",
      "  warnings.warn(\"y_pred contains classes not in y_true\")\n",
      "/Users/henri/Documents/GitHub/frlearn-cl-nca/venv/lib/python3.10/site-packages/sklearn/metrics/_classification.py:2006: UserWarning: y_pred contains classes not in y_true\n",
      "  warnings.warn(\"y_pred contains classes not in y_true\")\n",
      "/Users/henri/Documents/GitHub/frlearn-cl-nca/venv/lib/python3.10/site-packages/sklearn/metrics/_classification.py:2006: UserWarning: y_pred contains classes not in y_true\n",
      "  warnings.warn(\"y_pred contains classes not in y_true\")\n",
      "/Users/henri/Documents/GitHub/frlearn-cl-nca/venv/lib/python3.10/site-packages/sklearn/metrics/_classification.py:2006: UserWarning: y_pred contains classes not in y_true\n",
      "  warnings.warn(\"y_pred contains classes not in y_true\")\n",
      "/Users/henri/Documents/GitHub/frlearn-cl-nca/venv/lib/python3.10/site-packages/sklearn/metrics/_classification.py:2006: UserWarning: y_pred contains classes not in y_true\n",
      "  warnings.warn(\"y_pred contains classes not in y_true\")\n",
      "/Users/henri/Documents/GitHub/frlearn-cl-nca/venv/lib/python3.10/site-packages/sklearn/metrics/_classification.py:2006: UserWarning: y_pred contains classes not in y_true\n",
      "  warnings.warn(\"y_pred contains classes not in y_true\")\n",
      "/Users/henri/Documents/GitHub/frlearn-cl-nca/venv/lib/python3.10/site-packages/sklearn/metrics/_classification.py:2006: UserWarning: y_pred contains classes not in y_true\n",
      "  warnings.warn(\"y_pred contains classes not in y_true\")\n",
      "/Users/henri/Documents/GitHub/frlearn-cl-nca/venv/lib/python3.10/site-packages/sklearn/metrics/_classification.py:2006: UserWarning: y_pred contains classes not in y_true\n",
      "  warnings.warn(\"y_pred contains classes not in y_true\")\n",
      "/Users/henri/Documents/GitHub/frlearn-cl-nca/venv/lib/python3.10/site-packages/sklearn/metrics/_classification.py:2006: UserWarning: y_pred contains classes not in y_true\n",
      "  warnings.warn(\"y_pred contains classes not in y_true\")\n",
      "/Users/henri/Documents/GitHub/frlearn-cl-nca/venv/lib/python3.10/site-packages/sklearn/metrics/_classification.py:2006: UserWarning: y_pred contains classes not in y_true\n",
      "  warnings.warn(\"y_pred contains classes not in y_true\")\n",
      "/Users/henri/Documents/GitHub/frlearn-cl-nca/venv/lib/python3.10/site-packages/sklearn/metrics/_classification.py:2006: UserWarning: y_pred contains classes not in y_true\n",
      "  warnings.warn(\"y_pred contains classes not in y_true\")\n",
      "/Users/henri/Documents/GitHub/frlearn-cl-nca/venv/lib/python3.10/site-packages/sklearn/metrics/_classification.py:2006: UserWarning: y_pred contains classes not in y_true\n",
      "  warnings.warn(\"y_pred contains classes not in y_true\")\n",
      "/Users/henri/Documents/GitHub/frlearn-cl-nca/venv/lib/python3.10/site-packages/sklearn/metrics/_classification.py:2006: UserWarning: y_pred contains classes not in y_true\n",
      "  warnings.warn(\"y_pred contains classes not in y_true\")\n",
      "/Users/henri/Documents/GitHub/frlearn-cl-nca/venv/lib/python3.10/site-packages/sklearn/metrics/_classification.py:2006: UserWarning: y_pred contains classes not in y_true\n",
      "  warnings.warn(\"y_pred contains classes not in y_true\")\n",
      "/Users/henri/Documents/GitHub/frlearn-cl-nca/venv/lib/python3.10/site-packages/sklearn/metrics/_classification.py:2006: UserWarning: y_pred contains classes not in y_true\n",
      "  warnings.warn(\"y_pred contains classes not in y_true\")\n",
      "/Users/henri/Documents/GitHub/frlearn-cl-nca/venv/lib/python3.10/site-packages/sklearn/metrics/_classification.py:2006: UserWarning: y_pred contains classes not in y_true\n",
      "  warnings.warn(\"y_pred contains classes not in y_true\")\n",
      "/Users/henri/Documents/GitHub/frlearn-cl-nca/venv/lib/python3.10/site-packages/sklearn/metrics/_classification.py:2006: UserWarning: y_pred contains classes not in y_true\n",
      "  warnings.warn(\"y_pred contains classes not in y_true\")\n",
      "/Users/henri/Documents/GitHub/frlearn-cl-nca/venv/lib/python3.10/site-packages/sklearn/metrics/_classification.py:2006: UserWarning: y_pred contains classes not in y_true\n",
      "  warnings.warn(\"y_pred contains classes not in y_true\")\n",
      "/Users/henri/Documents/GitHub/frlearn-cl-nca/venv/lib/python3.10/site-packages/sklearn/metrics/_classification.py:2006: UserWarning: y_pred contains classes not in y_true\n",
      "  warnings.warn(\"y_pred contains classes not in y_true\")\n",
      "/Users/henri/Documents/GitHub/frlearn-cl-nca/venv/lib/python3.10/site-packages/sklearn/metrics/_classification.py:2006: UserWarning: y_pred contains classes not in y_true\n",
      "  warnings.warn(\"y_pred contains classes not in y_true\")\n",
      "/Users/henri/Documents/GitHub/frlearn-cl-nca/venv/lib/python3.10/site-packages/sklearn/metrics/_classification.py:2006: UserWarning: y_pred contains classes not in y_true\n",
      "  warnings.warn(\"y_pred contains classes not in y_true\")\n",
      "/Users/henri/Documents/GitHub/frlearn-cl-nca/venv/lib/python3.10/site-packages/sklearn/metrics/_classification.py:2006: UserWarning: y_pred contains classes not in y_true\n",
      "  warnings.warn(\"y_pred contains classes not in y_true\")\n",
      "/Users/henri/Documents/GitHub/frlearn-cl-nca/venv/lib/python3.10/site-packages/sklearn/metrics/_classification.py:2006: UserWarning: y_pred contains classes not in y_true\n",
      "  warnings.warn(\"y_pred contains classes not in y_true\")\n",
      "/Users/henri/Documents/GitHub/frlearn-cl-nca/venv/lib/python3.10/site-packages/sklearn/metrics/_classification.py:2006: UserWarning: y_pred contains classes not in y_true\n",
      "  warnings.warn(\"y_pred contains classes not in y_true\")\n",
      "/Users/henri/Documents/GitHub/frlearn-cl-nca/venv/lib/python3.10/site-packages/sklearn/metrics/_classification.py:2006: UserWarning: y_pred contains classes not in y_true\n",
      "  warnings.warn(\"y_pred contains classes not in y_true\")\n",
      "/Users/henri/Documents/GitHub/frlearn-cl-nca/venv/lib/python3.10/site-packages/sklearn/metrics/_classification.py:2006: UserWarning: y_pred contains classes not in y_true\n",
      "  warnings.warn(\"y_pred contains classes not in y_true\")\n",
      "/Users/henri/Documents/GitHub/frlearn-cl-nca/venv/lib/python3.10/site-packages/sklearn/metrics/_classification.py:2006: UserWarning: y_pred contains classes not in y_true\n",
      "  warnings.warn(\"y_pred contains classes not in y_true\")\n",
      "/Users/henri/Documents/GitHub/frlearn-cl-nca/venv/lib/python3.10/site-packages/sklearn/metrics/_classification.py:2006: UserWarning: y_pred contains classes not in y_true\n",
      "  warnings.warn(\"y_pred contains classes not in y_true\")\n",
      "/Users/henri/Documents/GitHub/frlearn-cl-nca/venv/lib/python3.10/site-packages/sklearn/metrics/_classification.py:2006: UserWarning: y_pred contains classes not in y_true\n",
      "  warnings.warn(\"y_pred contains classes not in y_true\")\n",
      "/Users/henri/Documents/GitHub/frlearn-cl-nca/venv/lib/python3.10/site-packages/sklearn/metrics/_classification.py:2006: UserWarning: y_pred contains classes not in y_true\n",
      "  warnings.warn(\"y_pred contains classes not in y_true\")\n",
      "/Users/henri/Documents/GitHub/frlearn-cl-nca/venv/lib/python3.10/site-packages/sklearn/metrics/_classification.py:2006: UserWarning: y_pred contains classes not in y_true\n",
      "  warnings.warn(\"y_pred contains classes not in y_true\")\n"
     ]
    }
   ],
   "source": [
    "results_frames = {}\n",
    "measures = ['man', 'nca', 'dmlmj'] #  'euc', 'che', 'can', 'cos', 'mah']  # ,\n",
    "for k in ks:\n",
    "     results_frames[k] = calculate_score(\n",
    "         data_folder=data_path,\n",
    "         results_folder=result_paths[k],\n",
    "         metric=balanced_accuracy_score,\n",
    "         wanted_measures=measures,\n",
    "         excluded_sets=['abalone', 'balance', 'marketing', 'ring', 'satimage', 'segment', 'spambase', 'twonorm', 'saheart', 'monk'])"
   ],
   "metadata": {
    "collapsed": false,
    "pycharm": {
     "name": "#%%\n"
    }
   }
  },
  {
   "cell_type": "markdown",
   "source": [
    "Now we have all the accuracies, we just need to compare the k's for each distance."
   ],
   "metadata": {
    "collapsed": false,
    "pycharm": {
     "name": "#%% md\n"
    }
   }
  },
  {
   "cell_type": "code",
   "execution_count": 203,
   "outputs": [],
   "source": [
    "measure = 'nca'"
   ],
   "metadata": {
    "collapsed": false,
    "pycharm": {
     "name": "#%%\n"
    }
   }
  },
  {
   "cell_type": "code",
   "execution_count": 204,
   "outputs": [],
   "source": [
    "measure_frame = pd.concat({ k: results_frames[k][measure] for k in ks}, axis='columns')"
   ],
   "metadata": {
    "collapsed": false,
    "pycharm": {
     "name": "#%%\n"
    }
   }
  },
  {
   "cell_type": "code",
   "execution_count": 205,
   "outputs": [
    {
     "data": {
      "text/plain": "                         1    3         5         10        15        20\necoli              0.720375  NaN  0.742706   0.74622  0.734264  0.718111\nwisconsin          0.943938  NaN  0.965172  0.971021  0.971091  0.971766\nthyroid                 NaN  NaN       NaN       NaN       NaN       NaN\nwdbc               0.960833  NaN  0.973273  0.969246  0.976687  0.972024\nsonar              0.850859  NaN  0.867146  0.890884  0.840177  0.855278\ndermatology        0.961647  NaN   0.96373  0.962202  0.962202  0.962202\npage-blocks             NaN  NaN       NaN       NaN       NaN       NaN\nhaberman           0.619949  NaN  0.596412  0.591771  0.581445  0.579642\ncleveland          0.287887  NaN  0.270569  0.303184  0.317078  0.296757\ncrx                0.652768  NaN  0.733924  0.738949  0.752646  0.746896\ntexture                 NaN  NaN       NaN       NaN       NaN       NaN\nwinequality-red    0.360178  NaN  0.329864  0.307402  0.301358  0.290936\ncontraceptive      0.444321  NaN  0.469632  0.492232  0.492872  0.501433\nspectfheart        0.642879  NaN  0.586212  0.626797  0.592511  0.618593\nbupa               0.605526  NaN  0.649205  0.672426  0.669425  0.675811\nyeast              0.465848  NaN  0.511596  0.516029  0.506478  0.492479\ntitanic            0.521117  NaN  0.631327  0.631327  0.681536  0.681536\nheart              0.773333  NaN    0.8025     0.815      0.83  0.834167\naustralian         0.808486  NaN   0.83782  0.852497  0.851572  0.852099\nmammographic        0.75018  NaN  0.822357  0.829687  0.829754  0.828293\nwinequality-white       NaN  NaN       NaN       NaN       NaN       NaN\nglass              0.607718  NaN  0.585397  0.562778  0.538075   0.56754\npima               0.631709  NaN  0.674253   0.68561  0.699078   0.71704\nvowel              0.993939  NaN  0.984848  0.973737  0.959596  0.946465\nvehicle            0.759275  NaN  0.764973  0.776558  0.745016  0.765898\nwine               0.984405  NaN  0.979643  0.974881  0.979643  0.979643\nautomobile         0.842778  NaN  0.831833  0.711778  0.676778  0.651889\nphoneme                 NaN  NaN       NaN       NaN       NaN       NaN\nbanana                  NaN  NaN       NaN       NaN       NaN       NaN\ngerman             0.537381  NaN  0.559524   0.54619  0.531905  0.537619\nionosphere         0.851013  NaN  0.857354  0.833957  0.827296  0.819883\nbands              0.656333  NaN  0.655144    0.6791   0.64491  0.633467\nmovement_libras    0.835556  NaN  0.852222  0.823333  0.758889  0.714444",
      "text/html": "<div>\n<style scoped>\n    .dataframe tbody tr th:only-of-type {\n        vertical-align: middle;\n    }\n\n    .dataframe tbody tr th {\n        vertical-align: top;\n    }\n\n    .dataframe thead th {\n        text-align: right;\n    }\n</style>\n<table border=\"1\" class=\"dataframe\">\n  <thead>\n    <tr style=\"text-align: right;\">\n      <th></th>\n      <th>1</th>\n      <th>3</th>\n      <th>5</th>\n      <th>10</th>\n      <th>15</th>\n      <th>20</th>\n    </tr>\n  </thead>\n  <tbody>\n    <tr>\n      <th>ecoli</th>\n      <td>0.720375</td>\n      <td>NaN</td>\n      <td>0.742706</td>\n      <td>0.74622</td>\n      <td>0.734264</td>\n      <td>0.718111</td>\n    </tr>\n    <tr>\n      <th>wisconsin</th>\n      <td>0.943938</td>\n      <td>NaN</td>\n      <td>0.965172</td>\n      <td>0.971021</td>\n      <td>0.971091</td>\n      <td>0.971766</td>\n    </tr>\n    <tr>\n      <th>thyroid</th>\n      <td>NaN</td>\n      <td>NaN</td>\n      <td>NaN</td>\n      <td>NaN</td>\n      <td>NaN</td>\n      <td>NaN</td>\n    </tr>\n    <tr>\n      <th>wdbc</th>\n      <td>0.960833</td>\n      <td>NaN</td>\n      <td>0.973273</td>\n      <td>0.969246</td>\n      <td>0.976687</td>\n      <td>0.972024</td>\n    </tr>\n    <tr>\n      <th>sonar</th>\n      <td>0.850859</td>\n      <td>NaN</td>\n      <td>0.867146</td>\n      <td>0.890884</td>\n      <td>0.840177</td>\n      <td>0.855278</td>\n    </tr>\n    <tr>\n      <th>dermatology</th>\n      <td>0.961647</td>\n      <td>NaN</td>\n      <td>0.96373</td>\n      <td>0.962202</td>\n      <td>0.962202</td>\n      <td>0.962202</td>\n    </tr>\n    <tr>\n      <th>page-blocks</th>\n      <td>NaN</td>\n      <td>NaN</td>\n      <td>NaN</td>\n      <td>NaN</td>\n      <td>NaN</td>\n      <td>NaN</td>\n    </tr>\n    <tr>\n      <th>haberman</th>\n      <td>0.619949</td>\n      <td>NaN</td>\n      <td>0.596412</td>\n      <td>0.591771</td>\n      <td>0.581445</td>\n      <td>0.579642</td>\n    </tr>\n    <tr>\n      <th>cleveland</th>\n      <td>0.287887</td>\n      <td>NaN</td>\n      <td>0.270569</td>\n      <td>0.303184</td>\n      <td>0.317078</td>\n      <td>0.296757</td>\n    </tr>\n    <tr>\n      <th>crx</th>\n      <td>0.652768</td>\n      <td>NaN</td>\n      <td>0.733924</td>\n      <td>0.738949</td>\n      <td>0.752646</td>\n      <td>0.746896</td>\n    </tr>\n    <tr>\n      <th>texture</th>\n      <td>NaN</td>\n      <td>NaN</td>\n      <td>NaN</td>\n      <td>NaN</td>\n      <td>NaN</td>\n      <td>NaN</td>\n    </tr>\n    <tr>\n      <th>winequality-red</th>\n      <td>0.360178</td>\n      <td>NaN</td>\n      <td>0.329864</td>\n      <td>0.307402</td>\n      <td>0.301358</td>\n      <td>0.290936</td>\n    </tr>\n    <tr>\n      <th>contraceptive</th>\n      <td>0.444321</td>\n      <td>NaN</td>\n      <td>0.469632</td>\n      <td>0.492232</td>\n      <td>0.492872</td>\n      <td>0.501433</td>\n    </tr>\n    <tr>\n      <th>spectfheart</th>\n      <td>0.642879</td>\n      <td>NaN</td>\n      <td>0.586212</td>\n      <td>0.626797</td>\n      <td>0.592511</td>\n      <td>0.618593</td>\n    </tr>\n    <tr>\n      <th>bupa</th>\n      <td>0.605526</td>\n      <td>NaN</td>\n      <td>0.649205</td>\n      <td>0.672426</td>\n      <td>0.669425</td>\n      <td>0.675811</td>\n    </tr>\n    <tr>\n      <th>yeast</th>\n      <td>0.465848</td>\n      <td>NaN</td>\n      <td>0.511596</td>\n      <td>0.516029</td>\n      <td>0.506478</td>\n      <td>0.492479</td>\n    </tr>\n    <tr>\n      <th>titanic</th>\n      <td>0.521117</td>\n      <td>NaN</td>\n      <td>0.631327</td>\n      <td>0.631327</td>\n      <td>0.681536</td>\n      <td>0.681536</td>\n    </tr>\n    <tr>\n      <th>heart</th>\n      <td>0.773333</td>\n      <td>NaN</td>\n      <td>0.8025</td>\n      <td>0.815</td>\n      <td>0.83</td>\n      <td>0.834167</td>\n    </tr>\n    <tr>\n      <th>australian</th>\n      <td>0.808486</td>\n      <td>NaN</td>\n      <td>0.83782</td>\n      <td>0.852497</td>\n      <td>0.851572</td>\n      <td>0.852099</td>\n    </tr>\n    <tr>\n      <th>mammographic</th>\n      <td>0.75018</td>\n      <td>NaN</td>\n      <td>0.822357</td>\n      <td>0.829687</td>\n      <td>0.829754</td>\n      <td>0.828293</td>\n    </tr>\n    <tr>\n      <th>winequality-white</th>\n      <td>NaN</td>\n      <td>NaN</td>\n      <td>NaN</td>\n      <td>NaN</td>\n      <td>NaN</td>\n      <td>NaN</td>\n    </tr>\n    <tr>\n      <th>glass</th>\n      <td>0.607718</td>\n      <td>NaN</td>\n      <td>0.585397</td>\n      <td>0.562778</td>\n      <td>0.538075</td>\n      <td>0.56754</td>\n    </tr>\n    <tr>\n      <th>pima</th>\n      <td>0.631709</td>\n      <td>NaN</td>\n      <td>0.674253</td>\n      <td>0.68561</td>\n      <td>0.699078</td>\n      <td>0.71704</td>\n    </tr>\n    <tr>\n      <th>vowel</th>\n      <td>0.993939</td>\n      <td>NaN</td>\n      <td>0.984848</td>\n      <td>0.973737</td>\n      <td>0.959596</td>\n      <td>0.946465</td>\n    </tr>\n    <tr>\n      <th>vehicle</th>\n      <td>0.759275</td>\n      <td>NaN</td>\n      <td>0.764973</td>\n      <td>0.776558</td>\n      <td>0.745016</td>\n      <td>0.765898</td>\n    </tr>\n    <tr>\n      <th>wine</th>\n      <td>0.984405</td>\n      <td>NaN</td>\n      <td>0.979643</td>\n      <td>0.974881</td>\n      <td>0.979643</td>\n      <td>0.979643</td>\n    </tr>\n    <tr>\n      <th>automobile</th>\n      <td>0.842778</td>\n      <td>NaN</td>\n      <td>0.831833</td>\n      <td>0.711778</td>\n      <td>0.676778</td>\n      <td>0.651889</td>\n    </tr>\n    <tr>\n      <th>phoneme</th>\n      <td>NaN</td>\n      <td>NaN</td>\n      <td>NaN</td>\n      <td>NaN</td>\n      <td>NaN</td>\n      <td>NaN</td>\n    </tr>\n    <tr>\n      <th>banana</th>\n      <td>NaN</td>\n      <td>NaN</td>\n      <td>NaN</td>\n      <td>NaN</td>\n      <td>NaN</td>\n      <td>NaN</td>\n    </tr>\n    <tr>\n      <th>german</th>\n      <td>0.537381</td>\n      <td>NaN</td>\n      <td>0.559524</td>\n      <td>0.54619</td>\n      <td>0.531905</td>\n      <td>0.537619</td>\n    </tr>\n    <tr>\n      <th>ionosphere</th>\n      <td>0.851013</td>\n      <td>NaN</td>\n      <td>0.857354</td>\n      <td>0.833957</td>\n      <td>0.827296</td>\n      <td>0.819883</td>\n    </tr>\n    <tr>\n      <th>bands</th>\n      <td>0.656333</td>\n      <td>NaN</td>\n      <td>0.655144</td>\n      <td>0.6791</td>\n      <td>0.64491</td>\n      <td>0.633467</td>\n    </tr>\n    <tr>\n      <th>movement_libras</th>\n      <td>0.835556</td>\n      <td>NaN</td>\n      <td>0.852222</td>\n      <td>0.823333</td>\n      <td>0.758889</td>\n      <td>0.714444</td>\n    </tr>\n  </tbody>\n</table>\n</div>"
     },
     "execution_count": 205,
     "metadata": {},
     "output_type": "execute_result"
    }
   ],
   "source": [
    "measure_frame"
   ],
   "metadata": {
    "collapsed": false,
    "pycharm": {
     "name": "#%%\n"
    }
   }
  },
  {
   "cell_type": "code",
   "execution_count": 206,
   "outputs": [],
   "source": [
    "k_3 = calculate_score(data_path, result_paths[3], balanced_accuracy_score, ['my-max-nca', 'my-dmlmj-max'])\n"
   ],
   "metadata": {
    "collapsed": false,
    "pycharm": {
     "name": "#%%\n"
    }
   }
  },
  {
   "cell_type": "code",
   "execution_count": 207,
   "outputs": [],
   "source": [
    "measure_frame[3] = k_3['my-max-nca']"
   ],
   "metadata": {
    "collapsed": false,
    "pycharm": {
     "name": "#%%\n"
    }
   }
  },
  {
   "cell_type": "code",
   "execution_count": 208,
   "outputs": [
    {
     "name": "stderr",
     "output_type": "stream",
     "text": [
      "/var/folders/_f/yf3dkr5x1397v4ntwhncxfhw0000gn/T/ipykernel_9070/3260591290.py:2: SettingWithCopyWarning: \n",
      "A value is trying to be set on a copy of a slice from a DataFrame\n",
      "\n",
      "See the caveats in the documentation: https://pandas.pydata.org/pandas-docs/stable/user_guide/indexing.html#returning-a-view-versus-a-copy\n",
      "  dropped_measure_frame.loc['mean'] = dropped_measure_frame.mean(axis='rows')\n"
     ]
    },
    {
     "data": {
      "text/plain": "                     1         3         5         10        15        20\nwisconsin      0.943938  0.960455  0.965172  0.971021  0.971091  0.971766\nwdbc           0.960833  0.969246  0.973273  0.969246  0.976687  0.972024\nsonar          0.850859  0.870227  0.867146  0.890884  0.840177  0.855278\nhaberman       0.619949  0.625832  0.596412  0.591771  0.581445  0.579642\ncrx            0.652768  0.699969  0.733924  0.738949  0.752646  0.746896\ncontraceptive  0.444321  0.459817  0.469632  0.492232  0.492872  0.501433\nspectfheart    0.642879  0.596558  0.586212  0.626797  0.592511  0.618593\nbupa           0.605526  0.635097  0.649205  0.672426  0.669425  0.675811\ntitanic        0.521117  0.538141  0.631327  0.631327  0.681536  0.681536\nheart          0.773333  0.790833    0.8025     0.815      0.83  0.834167\naustralian     0.808486  0.833696   0.83782  0.852497  0.851572  0.852099\nmammographic    0.75018  0.807938  0.822357  0.829687  0.829754  0.828293\npima           0.631709  0.680594  0.674253   0.68561  0.699078   0.71704\nvowel          0.993939  0.986869  0.984848  0.973737  0.959596  0.946465\nvehicle        0.759275   0.75559  0.764973  0.776558  0.745016  0.765898\nwine           0.984405  0.984405  0.979643  0.974881  0.979643  0.979643\ngerman         0.537381  0.540714  0.559524   0.54619  0.531905  0.537619\nionosphere     0.851013  0.875332  0.857354  0.833957  0.827296  0.819883\nbands          0.656333  0.685233  0.655144    0.6791   0.64491  0.633467\nmean           0.736224   0.75245  0.758459  0.765888  0.760903  0.764082",
      "text/html": "<div>\n<style scoped>\n    .dataframe tbody tr th:only-of-type {\n        vertical-align: middle;\n    }\n\n    .dataframe tbody tr th {\n        vertical-align: top;\n    }\n\n    .dataframe thead th {\n        text-align: right;\n    }\n</style>\n<table border=\"1\" class=\"dataframe\">\n  <thead>\n    <tr style=\"text-align: right;\">\n      <th></th>\n      <th>1</th>\n      <th>3</th>\n      <th>5</th>\n      <th>10</th>\n      <th>15</th>\n      <th>20</th>\n    </tr>\n  </thead>\n  <tbody>\n    <tr>\n      <th>wisconsin</th>\n      <td>0.943938</td>\n      <td>0.960455</td>\n      <td>0.965172</td>\n      <td>0.971021</td>\n      <td>0.971091</td>\n      <td>0.971766</td>\n    </tr>\n    <tr>\n      <th>wdbc</th>\n      <td>0.960833</td>\n      <td>0.969246</td>\n      <td>0.973273</td>\n      <td>0.969246</td>\n      <td>0.976687</td>\n      <td>0.972024</td>\n    </tr>\n    <tr>\n      <th>sonar</th>\n      <td>0.850859</td>\n      <td>0.870227</td>\n      <td>0.867146</td>\n      <td>0.890884</td>\n      <td>0.840177</td>\n      <td>0.855278</td>\n    </tr>\n    <tr>\n      <th>haberman</th>\n      <td>0.619949</td>\n      <td>0.625832</td>\n      <td>0.596412</td>\n      <td>0.591771</td>\n      <td>0.581445</td>\n      <td>0.579642</td>\n    </tr>\n    <tr>\n      <th>crx</th>\n      <td>0.652768</td>\n      <td>0.699969</td>\n      <td>0.733924</td>\n      <td>0.738949</td>\n      <td>0.752646</td>\n      <td>0.746896</td>\n    </tr>\n    <tr>\n      <th>contraceptive</th>\n      <td>0.444321</td>\n      <td>0.459817</td>\n      <td>0.469632</td>\n      <td>0.492232</td>\n      <td>0.492872</td>\n      <td>0.501433</td>\n    </tr>\n    <tr>\n      <th>spectfheart</th>\n      <td>0.642879</td>\n      <td>0.596558</td>\n      <td>0.586212</td>\n      <td>0.626797</td>\n      <td>0.592511</td>\n      <td>0.618593</td>\n    </tr>\n    <tr>\n      <th>bupa</th>\n      <td>0.605526</td>\n      <td>0.635097</td>\n      <td>0.649205</td>\n      <td>0.672426</td>\n      <td>0.669425</td>\n      <td>0.675811</td>\n    </tr>\n    <tr>\n      <th>titanic</th>\n      <td>0.521117</td>\n      <td>0.538141</td>\n      <td>0.631327</td>\n      <td>0.631327</td>\n      <td>0.681536</td>\n      <td>0.681536</td>\n    </tr>\n    <tr>\n      <th>heart</th>\n      <td>0.773333</td>\n      <td>0.790833</td>\n      <td>0.8025</td>\n      <td>0.815</td>\n      <td>0.83</td>\n      <td>0.834167</td>\n    </tr>\n    <tr>\n      <th>australian</th>\n      <td>0.808486</td>\n      <td>0.833696</td>\n      <td>0.83782</td>\n      <td>0.852497</td>\n      <td>0.851572</td>\n      <td>0.852099</td>\n    </tr>\n    <tr>\n      <th>mammographic</th>\n      <td>0.75018</td>\n      <td>0.807938</td>\n      <td>0.822357</td>\n      <td>0.829687</td>\n      <td>0.829754</td>\n      <td>0.828293</td>\n    </tr>\n    <tr>\n      <th>pima</th>\n      <td>0.631709</td>\n      <td>0.680594</td>\n      <td>0.674253</td>\n      <td>0.68561</td>\n      <td>0.699078</td>\n      <td>0.71704</td>\n    </tr>\n    <tr>\n      <th>vowel</th>\n      <td>0.993939</td>\n      <td>0.986869</td>\n      <td>0.984848</td>\n      <td>0.973737</td>\n      <td>0.959596</td>\n      <td>0.946465</td>\n    </tr>\n    <tr>\n      <th>vehicle</th>\n      <td>0.759275</td>\n      <td>0.75559</td>\n      <td>0.764973</td>\n      <td>0.776558</td>\n      <td>0.745016</td>\n      <td>0.765898</td>\n    </tr>\n    <tr>\n      <th>wine</th>\n      <td>0.984405</td>\n      <td>0.984405</td>\n      <td>0.979643</td>\n      <td>0.974881</td>\n      <td>0.979643</td>\n      <td>0.979643</td>\n    </tr>\n    <tr>\n      <th>german</th>\n      <td>0.537381</td>\n      <td>0.540714</td>\n      <td>0.559524</td>\n      <td>0.54619</td>\n      <td>0.531905</td>\n      <td>0.537619</td>\n    </tr>\n    <tr>\n      <th>ionosphere</th>\n      <td>0.851013</td>\n      <td>0.875332</td>\n      <td>0.857354</td>\n      <td>0.833957</td>\n      <td>0.827296</td>\n      <td>0.819883</td>\n    </tr>\n    <tr>\n      <th>bands</th>\n      <td>0.656333</td>\n      <td>0.685233</td>\n      <td>0.655144</td>\n      <td>0.6791</td>\n      <td>0.64491</td>\n      <td>0.633467</td>\n    </tr>\n    <tr>\n      <th>mean</th>\n      <td>0.736224</td>\n      <td>0.75245</td>\n      <td>0.758459</td>\n      <td>0.765888</td>\n      <td>0.760903</td>\n      <td>0.764082</td>\n    </tr>\n  </tbody>\n</table>\n</div>"
     },
     "execution_count": 208,
     "metadata": {},
     "output_type": "execute_result"
    }
   ],
   "source": [
    "dropped_measure_frame = measure_frame.dropna()\n",
    "dropped_measure_frame.loc['mean'] = dropped_measure_frame.mean(axis='rows')\n",
    "dropped_measure_frame"
   ],
   "metadata": {
    "collapsed": false,
    "pycharm": {
     "name": "#%%\n"
    }
   }
  },
  {
   "cell_type": "code",
   "execution_count": 191,
   "outputs": [],
   "source": [
    "nca_vs_man = dropped_measure_frame.loc[nca_index]"
   ],
   "metadata": {
    "collapsed": false,
    "pycharm": {
     "name": "#%%\n"
    }
   }
  },
  {
   "cell_type": "code",
   "execution_count": 192,
   "outputs": [],
   "source": [
    "nca_vs_man.drop('mean', inplace=True)\n",
    "nca_vs_man.loc['mean'] = nca_vs_man.mean(axis='rows')"
   ],
   "metadata": {
    "collapsed": false,
    "pycharm": {
     "name": "#%%\n"
    }
   }
  },
  {
   "cell_type": "code",
   "execution_count": 210,
   "outputs": [
    {
     "data": {
      "text/plain": "                     1         3         5         10        15        20\nwisconsin      0.955649  0.965446  0.967369  0.966358  0.962002  0.957995\nwdbc           0.950653  0.964116  0.965505  0.962172  0.963561  0.960227\nsonar          0.851515  0.849116  0.864217  0.844571  0.843182  0.837727\nhaberman       0.536012  0.557974  0.529694  0.529101    0.5498  0.550269\ncrx            0.644559  0.685394   0.69976  0.695354  0.687526  0.691745\ncontraceptive  0.414111  0.435549  0.454219  0.462478  0.467571  0.468272\nspectfheart    0.614069   0.60526  0.664437  0.637403  0.616212  0.611926\nbupa           0.612698  0.646671   0.65619  0.672385  0.670185  0.664492\ntitanic        0.521117  0.532115  0.631327  0.631327  0.681224  0.682061\nheart          0.780833  0.806667  0.814167  0.808333  0.805833  0.809167\naustralian     0.815982  0.848198  0.847814  0.854251  0.859144  0.862707\nmammographic   0.745592   0.80201  0.811638  0.816282  0.816472  0.817836\npima           0.655774  0.671483  0.674015  0.675674  0.691136   0.68729\nvowel          0.993939  0.986869  0.984848  0.958586  0.939394  0.920202\nvehicle        0.694194  0.709199  0.714026  0.713128   0.70875  0.708918\nwine           0.958333  0.967262  0.967262  0.967262  0.976786  0.976786\ngerman         0.570238  0.549286  0.547619  0.527143  0.523095  0.515952\nionosphere     0.877715  0.870524  0.858706   0.85518  0.851013  0.831462\nbands          0.710918  0.712386  0.695145  0.661941  0.639509  0.628412\nmean           0.731784  0.745554  0.755156  0.749417  0.750126  0.746497",
      "text/html": "<div>\n<style scoped>\n    .dataframe tbody tr th:only-of-type {\n        vertical-align: middle;\n    }\n\n    .dataframe tbody tr th {\n        vertical-align: top;\n    }\n\n    .dataframe thead th {\n        text-align: right;\n    }\n</style>\n<table border=\"1\" class=\"dataframe\">\n  <thead>\n    <tr style=\"text-align: right;\">\n      <th></th>\n      <th>1</th>\n      <th>3</th>\n      <th>5</th>\n      <th>10</th>\n      <th>15</th>\n      <th>20</th>\n    </tr>\n  </thead>\n  <tbody>\n    <tr>\n      <th>wisconsin</th>\n      <td>0.955649</td>\n      <td>0.965446</td>\n      <td>0.967369</td>\n      <td>0.966358</td>\n      <td>0.962002</td>\n      <td>0.957995</td>\n    </tr>\n    <tr>\n      <th>wdbc</th>\n      <td>0.950653</td>\n      <td>0.964116</td>\n      <td>0.965505</td>\n      <td>0.962172</td>\n      <td>0.963561</td>\n      <td>0.960227</td>\n    </tr>\n    <tr>\n      <th>sonar</th>\n      <td>0.851515</td>\n      <td>0.849116</td>\n      <td>0.864217</td>\n      <td>0.844571</td>\n      <td>0.843182</td>\n      <td>0.837727</td>\n    </tr>\n    <tr>\n      <th>haberman</th>\n      <td>0.536012</td>\n      <td>0.557974</td>\n      <td>0.529694</td>\n      <td>0.529101</td>\n      <td>0.5498</td>\n      <td>0.550269</td>\n    </tr>\n    <tr>\n      <th>crx</th>\n      <td>0.644559</td>\n      <td>0.685394</td>\n      <td>0.69976</td>\n      <td>0.695354</td>\n      <td>0.687526</td>\n      <td>0.691745</td>\n    </tr>\n    <tr>\n      <th>contraceptive</th>\n      <td>0.414111</td>\n      <td>0.435549</td>\n      <td>0.454219</td>\n      <td>0.462478</td>\n      <td>0.467571</td>\n      <td>0.468272</td>\n    </tr>\n    <tr>\n      <th>spectfheart</th>\n      <td>0.614069</td>\n      <td>0.60526</td>\n      <td>0.664437</td>\n      <td>0.637403</td>\n      <td>0.616212</td>\n      <td>0.611926</td>\n    </tr>\n    <tr>\n      <th>bupa</th>\n      <td>0.612698</td>\n      <td>0.646671</td>\n      <td>0.65619</td>\n      <td>0.672385</td>\n      <td>0.670185</td>\n      <td>0.664492</td>\n    </tr>\n    <tr>\n      <th>titanic</th>\n      <td>0.521117</td>\n      <td>0.532115</td>\n      <td>0.631327</td>\n      <td>0.631327</td>\n      <td>0.681224</td>\n      <td>0.682061</td>\n    </tr>\n    <tr>\n      <th>heart</th>\n      <td>0.780833</td>\n      <td>0.806667</td>\n      <td>0.814167</td>\n      <td>0.808333</td>\n      <td>0.805833</td>\n      <td>0.809167</td>\n    </tr>\n    <tr>\n      <th>australian</th>\n      <td>0.815982</td>\n      <td>0.848198</td>\n      <td>0.847814</td>\n      <td>0.854251</td>\n      <td>0.859144</td>\n      <td>0.862707</td>\n    </tr>\n    <tr>\n      <th>mammographic</th>\n      <td>0.745592</td>\n      <td>0.80201</td>\n      <td>0.811638</td>\n      <td>0.816282</td>\n      <td>0.816472</td>\n      <td>0.817836</td>\n    </tr>\n    <tr>\n      <th>pima</th>\n      <td>0.655774</td>\n      <td>0.671483</td>\n      <td>0.674015</td>\n      <td>0.675674</td>\n      <td>0.691136</td>\n      <td>0.68729</td>\n    </tr>\n    <tr>\n      <th>vowel</th>\n      <td>0.993939</td>\n      <td>0.986869</td>\n      <td>0.984848</td>\n      <td>0.958586</td>\n      <td>0.939394</td>\n      <td>0.920202</td>\n    </tr>\n    <tr>\n      <th>vehicle</th>\n      <td>0.694194</td>\n      <td>0.709199</td>\n      <td>0.714026</td>\n      <td>0.713128</td>\n      <td>0.70875</td>\n      <td>0.708918</td>\n    </tr>\n    <tr>\n      <th>wine</th>\n      <td>0.958333</td>\n      <td>0.967262</td>\n      <td>0.967262</td>\n      <td>0.967262</td>\n      <td>0.976786</td>\n      <td>0.976786</td>\n    </tr>\n    <tr>\n      <th>german</th>\n      <td>0.570238</td>\n      <td>0.549286</td>\n      <td>0.547619</td>\n      <td>0.527143</td>\n      <td>0.523095</td>\n      <td>0.515952</td>\n    </tr>\n    <tr>\n      <th>ionosphere</th>\n      <td>0.877715</td>\n      <td>0.870524</td>\n      <td>0.858706</td>\n      <td>0.85518</td>\n      <td>0.851013</td>\n      <td>0.831462</td>\n    </tr>\n    <tr>\n      <th>bands</th>\n      <td>0.710918</td>\n      <td>0.712386</td>\n      <td>0.695145</td>\n      <td>0.661941</td>\n      <td>0.639509</td>\n      <td>0.628412</td>\n    </tr>\n    <tr>\n      <th>mean</th>\n      <td>0.731784</td>\n      <td>0.745554</td>\n      <td>0.755156</td>\n      <td>0.749417</td>\n      <td>0.750126</td>\n      <td>0.746497</td>\n    </tr>\n  </tbody>\n</table>\n</div>"
     },
     "execution_count": 210,
     "metadata": {},
     "output_type": "execute_result"
    }
   ],
   "source": [
    "nca_vs_man"
   ],
   "metadata": {
    "collapsed": false,
    "pycharm": {
     "name": "#%%\n"
    }
   }
  },
  {
   "cell_type": "code",
   "execution_count": 202,
   "outputs": [
    {
     "data": {
      "text/plain": "                  1      3      5      10     15     20\nwisconsin      0.956  0.965  0.967  0.966  0.962  0.958\nwdbc           0.951  0.964  0.966  0.962  0.964  0.960\nsonar          0.852  0.849  0.864  0.845  0.843  0.838\nhaberman       0.536  0.558  0.530  0.529  0.550  0.550\ncrx            0.645  0.685  0.700  0.695  0.688  0.692\ncontraceptive  0.414  0.436  0.454  0.462  0.468  0.468\nspectfheart    0.614  0.605  0.664  0.637  0.616  0.612\nbupa           0.613  0.647  0.656  0.672  0.670  0.664\ntitanic        0.521  0.532  0.631  0.631  0.681  0.682\nheart          0.781  0.807  0.814  0.808  0.806  0.809\naustralian     0.816  0.848  0.848  0.854  0.859  0.863\nmammographic   0.746  0.802  0.812  0.816  0.816  0.818\npima           0.656  0.671  0.674  0.676  0.691  0.687\nvowel          0.994  0.987  0.985  0.959  0.939  0.920\nvehicle        0.694  0.709  0.714  0.713  0.709  0.709\nwine           0.958  0.967  0.967  0.967  0.977  0.977\ngerman         0.570  0.549  0.548  0.527  0.523  0.516\nionosphere     0.878  0.871  0.859  0.855  0.851  0.831\nbands          0.711  0.712  0.695  0.662  0.640  0.628\nmean           0.732  0.746  0.755  0.749  0.750  0.746",
      "text/html": "<div>\n<style scoped>\n    .dataframe tbody tr th:only-of-type {\n        vertical-align: middle;\n    }\n\n    .dataframe tbody tr th {\n        vertical-align: top;\n    }\n\n    .dataframe thead th {\n        text-align: right;\n    }\n</style>\n<table border=\"1\" class=\"dataframe\">\n  <thead>\n    <tr style=\"text-align: right;\">\n      <th></th>\n      <th>1</th>\n      <th>3</th>\n      <th>5</th>\n      <th>10</th>\n      <th>15</th>\n      <th>20</th>\n    </tr>\n  </thead>\n  <tbody>\n    <tr>\n      <th>wisconsin</th>\n      <td>0.956</td>\n      <td>0.965</td>\n      <td>0.967</td>\n      <td>0.966</td>\n      <td>0.962</td>\n      <td>0.958</td>\n    </tr>\n    <tr>\n      <th>wdbc</th>\n      <td>0.951</td>\n      <td>0.964</td>\n      <td>0.966</td>\n      <td>0.962</td>\n      <td>0.964</td>\n      <td>0.960</td>\n    </tr>\n    <tr>\n      <th>sonar</th>\n      <td>0.852</td>\n      <td>0.849</td>\n      <td>0.864</td>\n      <td>0.845</td>\n      <td>0.843</td>\n      <td>0.838</td>\n    </tr>\n    <tr>\n      <th>haberman</th>\n      <td>0.536</td>\n      <td>0.558</td>\n      <td>0.530</td>\n      <td>0.529</td>\n      <td>0.550</td>\n      <td>0.550</td>\n    </tr>\n    <tr>\n      <th>crx</th>\n      <td>0.645</td>\n      <td>0.685</td>\n      <td>0.700</td>\n      <td>0.695</td>\n      <td>0.688</td>\n      <td>0.692</td>\n    </tr>\n    <tr>\n      <th>contraceptive</th>\n      <td>0.414</td>\n      <td>0.436</td>\n      <td>0.454</td>\n      <td>0.462</td>\n      <td>0.468</td>\n      <td>0.468</td>\n    </tr>\n    <tr>\n      <th>spectfheart</th>\n      <td>0.614</td>\n      <td>0.605</td>\n      <td>0.664</td>\n      <td>0.637</td>\n      <td>0.616</td>\n      <td>0.612</td>\n    </tr>\n    <tr>\n      <th>bupa</th>\n      <td>0.613</td>\n      <td>0.647</td>\n      <td>0.656</td>\n      <td>0.672</td>\n      <td>0.670</td>\n      <td>0.664</td>\n    </tr>\n    <tr>\n      <th>titanic</th>\n      <td>0.521</td>\n      <td>0.532</td>\n      <td>0.631</td>\n      <td>0.631</td>\n      <td>0.681</td>\n      <td>0.682</td>\n    </tr>\n    <tr>\n      <th>heart</th>\n      <td>0.781</td>\n      <td>0.807</td>\n      <td>0.814</td>\n      <td>0.808</td>\n      <td>0.806</td>\n      <td>0.809</td>\n    </tr>\n    <tr>\n      <th>australian</th>\n      <td>0.816</td>\n      <td>0.848</td>\n      <td>0.848</td>\n      <td>0.854</td>\n      <td>0.859</td>\n      <td>0.863</td>\n    </tr>\n    <tr>\n      <th>mammographic</th>\n      <td>0.746</td>\n      <td>0.802</td>\n      <td>0.812</td>\n      <td>0.816</td>\n      <td>0.816</td>\n      <td>0.818</td>\n    </tr>\n    <tr>\n      <th>pima</th>\n      <td>0.656</td>\n      <td>0.671</td>\n      <td>0.674</td>\n      <td>0.676</td>\n      <td>0.691</td>\n      <td>0.687</td>\n    </tr>\n    <tr>\n      <th>vowel</th>\n      <td>0.994</td>\n      <td>0.987</td>\n      <td>0.985</td>\n      <td>0.959</td>\n      <td>0.939</td>\n      <td>0.920</td>\n    </tr>\n    <tr>\n      <th>vehicle</th>\n      <td>0.694</td>\n      <td>0.709</td>\n      <td>0.714</td>\n      <td>0.713</td>\n      <td>0.709</td>\n      <td>0.709</td>\n    </tr>\n    <tr>\n      <th>wine</th>\n      <td>0.958</td>\n      <td>0.967</td>\n      <td>0.967</td>\n      <td>0.967</td>\n      <td>0.977</td>\n      <td>0.977</td>\n    </tr>\n    <tr>\n      <th>german</th>\n      <td>0.570</td>\n      <td>0.549</td>\n      <td>0.548</td>\n      <td>0.527</td>\n      <td>0.523</td>\n      <td>0.516</td>\n    </tr>\n    <tr>\n      <th>ionosphere</th>\n      <td>0.878</td>\n      <td>0.871</td>\n      <td>0.859</td>\n      <td>0.855</td>\n      <td>0.851</td>\n      <td>0.831</td>\n    </tr>\n    <tr>\n      <th>bands</th>\n      <td>0.711</td>\n      <td>0.712</td>\n      <td>0.695</td>\n      <td>0.662</td>\n      <td>0.640</td>\n      <td>0.628</td>\n    </tr>\n    <tr>\n      <th>mean</th>\n      <td>0.732</td>\n      <td>0.746</td>\n      <td>0.755</td>\n      <td>0.749</td>\n      <td>0.750</td>\n      <td>0.746</td>\n    </tr>\n  </tbody>\n</table>\n</div>"
     },
     "execution_count": 202,
     "metadata": {},
     "output_type": "execute_result"
    }
   ],
   "source": [
    "nca_vs_man.apply(lambda data: data.apply(lambda x: \"%.3f\" % x))"
   ],
   "metadata": {
    "collapsed": false,
    "pycharm": {
     "name": "#%%\n"
    }
   }
  },
  {
   "cell_type": "code",
   "execution_count": 182,
   "outputs": [],
   "source": [
    "nca_index = dropped_measure_frame.index"
   ],
   "metadata": {
    "collapsed": false,
    "pycharm": {
     "name": "#%%\n"
    }
   }
  },
  {
   "cell_type": "code",
   "execution_count": 211,
   "outputs": [
    {
     "name": "stderr",
     "output_type": "stream",
     "text": [
      "/var/folders/_f/yf3dkr5x1397v4ntwhncxfhw0000gn/T/ipykernel_9070/2367982770.py:1: FutureWarning: In future versions `DataFrame.to_latex` is expected to utilise the base implementation of `Styler.to_latex` for formatting and rendering. The arguments signature may therefore change. It is recommended instead to use `DataFrame.style.to_latex` which also contains additional functionality.\n",
      "  nca_vs_man.sort_index().apply(lambda data: data.apply(lambda x: \"%.3f\" % x)).to_latex(escape=False, buf=Path.cwd()/'tables'/'mansenstab.txt')\n"
     ]
    }
   ],
   "source": [
    "nca_vs_man.sort_index().apply(lambda data: data.apply(lambda x: \"%.3f\" % x)).to_latex(escape=False, buf=Path.cwd()/'tables'/'mansenstab.txt')"
   ],
   "metadata": {
    "collapsed": false,
    "pycharm": {
     "name": "#%%\n"
    }
   }
  },
  {
   "cell_type": "markdown",
   "source": [
    "# We also want to see if the ordering of the relations stays the same regardless of the value of k."
   ],
   "metadata": {
    "collapsed": false,
    "pycharm": {
     "name": "#%% md\n"
    }
   }
  },
  {
   "cell_type": "code",
   "execution_count": 145,
   "outputs": [],
   "source": [
    "selected = 1"
   ],
   "metadata": {
    "collapsed": false,
    "pycharm": {
     "name": "#%%\n"
    }
   }
  },
  {
   "cell_type": "code",
   "execution_count": 146,
   "outputs": [],
   "source": [
    "selected_frame = results_frames[selected] # .dropna()\n",
    "selected_frame.loc['mean'] = selected_frame.mean(axis='rows')"
   ],
   "metadata": {
    "collapsed": false,
    "pycharm": {
     "name": "#%%\n"
    }
   }
  },
  {
   "cell_type": "code",
   "execution_count": 147,
   "outputs": [
    {
     "data": {
      "text/plain": "                        man       nca     dmlmj\naustralian         0.815982  0.808486  0.824242\nautomobile         0.774333  0.842778  0.700417\nbanana             0.872826       NaN       NaN\nbands              0.710918  0.656333  0.712562\nbupa               0.612698  0.605526   0.61315\ncleveland           0.33802  0.287887  0.307925\ncontraceptive      0.414111  0.444321  0.417596\ncrx                0.644559  0.652768  0.649859\ndermatology         0.95539  0.961647  0.944589\necoli              0.716951  0.720375  0.791095\ngerman             0.570238  0.537381  0.558333\nglass              0.710635  0.607718       NaN\nhaberman           0.536012  0.619949  0.553771\nheart              0.780833  0.773333    0.7775\nionosphere         0.877715  0.851013  0.838332\nmammographic       0.745592   0.75018   0.74552\nmean                0.71866  0.706305  0.718226\nmovement_libras        0.87  0.835556  0.905556\npage-blocks        0.761018       NaN       NaN\nphoneme            0.874162       NaN       NaN\npima               0.655774  0.631709  0.667835\nsonar              0.851515  0.850859  0.880202\nspectfheart        0.614069  0.642879  0.638896\ntexture            0.986909       NaN       NaN\nthyroid            0.621875       NaN  0.508626\ntitanic            0.521117  0.521117  0.521117\nvehicle            0.694194  0.759275  0.752013\nvowel              0.993939  0.993939  0.993939\nwdbc               0.950653  0.960833  0.946724\nwine               0.958333  0.984405  0.981548\nwinequality-red    0.362069  0.360178       NaN\nwinequality-white  0.449762       NaN       NaN\nwisconsin          0.955649  0.943938  0.948584\nyeast              0.517932  0.465848  0.493942",
      "text/html": "<div>\n<style scoped>\n    .dataframe tbody tr th:only-of-type {\n        vertical-align: middle;\n    }\n\n    .dataframe tbody tr th {\n        vertical-align: top;\n    }\n\n    .dataframe thead th {\n        text-align: right;\n    }\n</style>\n<table border=\"1\" class=\"dataframe\">\n  <thead>\n    <tr style=\"text-align: right;\">\n      <th></th>\n      <th>man</th>\n      <th>nca</th>\n      <th>dmlmj</th>\n    </tr>\n  </thead>\n  <tbody>\n    <tr>\n      <th>australian</th>\n      <td>0.815982</td>\n      <td>0.808486</td>\n      <td>0.824242</td>\n    </tr>\n    <tr>\n      <th>automobile</th>\n      <td>0.774333</td>\n      <td>0.842778</td>\n      <td>0.700417</td>\n    </tr>\n    <tr>\n      <th>banana</th>\n      <td>0.872826</td>\n      <td>NaN</td>\n      <td>NaN</td>\n    </tr>\n    <tr>\n      <th>bands</th>\n      <td>0.710918</td>\n      <td>0.656333</td>\n      <td>0.712562</td>\n    </tr>\n    <tr>\n      <th>bupa</th>\n      <td>0.612698</td>\n      <td>0.605526</td>\n      <td>0.61315</td>\n    </tr>\n    <tr>\n      <th>cleveland</th>\n      <td>0.33802</td>\n      <td>0.287887</td>\n      <td>0.307925</td>\n    </tr>\n    <tr>\n      <th>contraceptive</th>\n      <td>0.414111</td>\n      <td>0.444321</td>\n      <td>0.417596</td>\n    </tr>\n    <tr>\n      <th>crx</th>\n      <td>0.644559</td>\n      <td>0.652768</td>\n      <td>0.649859</td>\n    </tr>\n    <tr>\n      <th>dermatology</th>\n      <td>0.95539</td>\n      <td>0.961647</td>\n      <td>0.944589</td>\n    </tr>\n    <tr>\n      <th>ecoli</th>\n      <td>0.716951</td>\n      <td>0.720375</td>\n      <td>0.791095</td>\n    </tr>\n    <tr>\n      <th>german</th>\n      <td>0.570238</td>\n      <td>0.537381</td>\n      <td>0.558333</td>\n    </tr>\n    <tr>\n      <th>glass</th>\n      <td>0.710635</td>\n      <td>0.607718</td>\n      <td>NaN</td>\n    </tr>\n    <tr>\n      <th>haberman</th>\n      <td>0.536012</td>\n      <td>0.619949</td>\n      <td>0.553771</td>\n    </tr>\n    <tr>\n      <th>heart</th>\n      <td>0.780833</td>\n      <td>0.773333</td>\n      <td>0.7775</td>\n    </tr>\n    <tr>\n      <th>ionosphere</th>\n      <td>0.877715</td>\n      <td>0.851013</td>\n      <td>0.838332</td>\n    </tr>\n    <tr>\n      <th>mammographic</th>\n      <td>0.745592</td>\n      <td>0.75018</td>\n      <td>0.74552</td>\n    </tr>\n    <tr>\n      <th>mean</th>\n      <td>0.71866</td>\n      <td>0.706305</td>\n      <td>0.718226</td>\n    </tr>\n    <tr>\n      <th>movement_libras</th>\n      <td>0.87</td>\n      <td>0.835556</td>\n      <td>0.905556</td>\n    </tr>\n    <tr>\n      <th>page-blocks</th>\n      <td>0.761018</td>\n      <td>NaN</td>\n      <td>NaN</td>\n    </tr>\n    <tr>\n      <th>phoneme</th>\n      <td>0.874162</td>\n      <td>NaN</td>\n      <td>NaN</td>\n    </tr>\n    <tr>\n      <th>pima</th>\n      <td>0.655774</td>\n      <td>0.631709</td>\n      <td>0.667835</td>\n    </tr>\n    <tr>\n      <th>sonar</th>\n      <td>0.851515</td>\n      <td>0.850859</td>\n      <td>0.880202</td>\n    </tr>\n    <tr>\n      <th>spectfheart</th>\n      <td>0.614069</td>\n      <td>0.642879</td>\n      <td>0.638896</td>\n    </tr>\n    <tr>\n      <th>texture</th>\n      <td>0.986909</td>\n      <td>NaN</td>\n      <td>NaN</td>\n    </tr>\n    <tr>\n      <th>thyroid</th>\n      <td>0.621875</td>\n      <td>NaN</td>\n      <td>0.508626</td>\n    </tr>\n    <tr>\n      <th>titanic</th>\n      <td>0.521117</td>\n      <td>0.521117</td>\n      <td>0.521117</td>\n    </tr>\n    <tr>\n      <th>vehicle</th>\n      <td>0.694194</td>\n      <td>0.759275</td>\n      <td>0.752013</td>\n    </tr>\n    <tr>\n      <th>vowel</th>\n      <td>0.993939</td>\n      <td>0.993939</td>\n      <td>0.993939</td>\n    </tr>\n    <tr>\n      <th>wdbc</th>\n      <td>0.950653</td>\n      <td>0.960833</td>\n      <td>0.946724</td>\n    </tr>\n    <tr>\n      <th>wine</th>\n      <td>0.958333</td>\n      <td>0.984405</td>\n      <td>0.981548</td>\n    </tr>\n    <tr>\n      <th>winequality-red</th>\n      <td>0.362069</td>\n      <td>0.360178</td>\n      <td>NaN</td>\n    </tr>\n    <tr>\n      <th>winequality-white</th>\n      <td>0.449762</td>\n      <td>NaN</td>\n      <td>NaN</td>\n    </tr>\n    <tr>\n      <th>wisconsin</th>\n      <td>0.955649</td>\n      <td>0.943938</td>\n      <td>0.948584</td>\n    </tr>\n    <tr>\n      <th>yeast</th>\n      <td>0.517932</td>\n      <td>0.465848</td>\n      <td>0.493942</td>\n    </tr>\n  </tbody>\n</table>\n</div>"
     },
     "execution_count": 147,
     "metadata": {},
     "output_type": "execute_result"
    }
   ],
   "source": [
    "selected_frame.sort_index()"
   ],
   "metadata": {
    "collapsed": false,
    "pycharm": {
     "name": "#%%\n"
    }
   }
  },
  {
   "cell_type": "code",
   "execution_count": 128,
   "outputs": [
    {
     "name": "stderr",
     "output_type": "stream",
     "text": [
      "/var/folders/_f/yf3dkr5x1397v4ntwhncxfhw0000gn/T/ipykernel_9070/789699222.py:1: FutureWarning: In future versions `DataFrame.to_latex` is expected to utilise the base implementation of `Styler.to_latex` for formatting and rendering. The arguments signature may therefore change. It is recommended instead to use `DataFrame.style.to_latex` which also contains additional functionality.\n",
      "  selected_frame.sort_index().apply(bold_max, axis=\"columns\").to_latex(escape=False, buf=Path.cwd()/'tables'/f'k{selected}senstab.txt')\n"
     ]
    }
   ],
   "source": [
    "selected_frame.sort_index().apply(bold_max, axis=\"columns\").to_latex(escape=False, buf=Path.cwd()/'tables'/f'k{selected}senstab.txt')"
   ],
   "metadata": {
    "collapsed": false,
    "pycharm": {
     "name": "#%%\n"
    }
   }
  },
  {
   "cell_type": "markdown",
   "source": [
    "# Calculating the friedman ranks"
   ],
   "metadata": {
    "collapsed": false,
    "pycharm": {
     "name": "#%% md\n"
    }
   }
  },
  {
   "cell_type": "code",
   "execution_count": 76,
   "outputs": [],
   "source": [
    "friedman_ranks = {k : results_frames[k].rank(axis='columns', ascending=False).mean() for k in ks}\n",
    "friedman_frame = pd.concat(friedman_ranks, axis='columns')"
   ],
   "metadata": {
    "collapsed": false,
    "pycharm": {
     "name": "#%%\n"
    }
   }
  },
  {
   "cell_type": "code",
   "execution_count": 77,
   "outputs": [
    {
     "data": {
      "text/plain": "         man       euc       che       can       cos       mah\n1   2.378788  2.439394  5.484848  3.575758  3.181818  3.481481\n3   2.060606  2.787879  5.393939  3.787879  3.272727  3.185185\n5   2.242424  2.651515  5.363636  3.696970  3.500000  3.000000\n10  2.439394  2.545455  5.393939  3.621212  3.787879  2.592593\n15  2.363636  2.696970  5.484848  3.303030  3.712121  2.870370\n20  2.348485  2.818182  5.303030  3.439394  3.575758  2.962963",
      "text/html": "<div>\n<style scoped>\n    .dataframe tbody tr th:only-of-type {\n        vertical-align: middle;\n    }\n\n    .dataframe tbody tr th {\n        vertical-align: top;\n    }\n\n    .dataframe thead th {\n        text-align: right;\n    }\n</style>\n<table border=\"1\" class=\"dataframe\">\n  <thead>\n    <tr style=\"text-align: right;\">\n      <th></th>\n      <th>man</th>\n      <th>euc</th>\n      <th>che</th>\n      <th>can</th>\n      <th>cos</th>\n      <th>mah</th>\n    </tr>\n  </thead>\n  <tbody>\n    <tr>\n      <th>1</th>\n      <td>2.378788</td>\n      <td>2.439394</td>\n      <td>5.484848</td>\n      <td>3.575758</td>\n      <td>3.181818</td>\n      <td>3.481481</td>\n    </tr>\n    <tr>\n      <th>3</th>\n      <td>2.060606</td>\n      <td>2.787879</td>\n      <td>5.393939</td>\n      <td>3.787879</td>\n      <td>3.272727</td>\n      <td>3.185185</td>\n    </tr>\n    <tr>\n      <th>5</th>\n      <td>2.242424</td>\n      <td>2.651515</td>\n      <td>5.363636</td>\n      <td>3.696970</td>\n      <td>3.500000</td>\n      <td>3.000000</td>\n    </tr>\n    <tr>\n      <th>10</th>\n      <td>2.439394</td>\n      <td>2.545455</td>\n      <td>5.393939</td>\n      <td>3.621212</td>\n      <td>3.787879</td>\n      <td>2.592593</td>\n    </tr>\n    <tr>\n      <th>15</th>\n      <td>2.363636</td>\n      <td>2.696970</td>\n      <td>5.484848</td>\n      <td>3.303030</td>\n      <td>3.712121</td>\n      <td>2.870370</td>\n    </tr>\n    <tr>\n      <th>20</th>\n      <td>2.348485</td>\n      <td>2.818182</td>\n      <td>5.303030</td>\n      <td>3.439394</td>\n      <td>3.575758</td>\n      <td>2.962963</td>\n    </tr>\n  </tbody>\n</table>\n</div>"
     },
     "execution_count": 77,
     "metadata": {},
     "output_type": "execute_result"
    }
   ],
   "source": [
    "friedman_frame.transpose()"
   ],
   "metadata": {
    "collapsed": false,
    "pycharm": {
     "name": "#%%\n"
    }
   }
  },
  {
   "cell_type": "code",
   "execution_count": 78,
   "outputs": [],
   "source": [
    "def bold_min(data, format_string=\"%.3f\"):\n",
    "    \"\"\"\n",
    "    Returns a pandas dataframe with formatted strings and bolded maximaL values.\n",
    "\n",
    "    Parameters\n",
    "    ----------\n",
    "    data\n",
    "    format_string\n",
    "\n",
    "    Returns\n",
    "    -------\n",
    "\n",
    "    \"\"\"\n",
    "    maxima = data != data.min()\n",
    "    bolded = data.apply(lambda x: \"\\\\textbf{%s}\" % format_string % x)\n",
    "    formatted = data.apply(lambda x: format_string % x)\n",
    "    return formatted.where(maxima, bolded)"
   ],
   "metadata": {
    "collapsed": false,
    "pycharm": {
     "name": "#%%\n"
    }
   }
  },
  {
   "cell_type": "code",
   "execution_count": 79,
   "outputs": [],
   "source": [
    "bolded_friedman = friedman_frame.transpose().apply(bold_min, axis=\"columns\")"
   ],
   "metadata": {
    "collapsed": false,
    "pycharm": {
     "name": "#%%\n"
    }
   }
  },
  {
   "cell_type": "code",
   "execution_count": 80,
   "outputs": [
    {
     "data": {
      "text/plain": "               man    euc    che    can    cos    mah\n1   \\textbf{2.379}  2.439  5.485  3.576  3.182  3.481\n3   \\textbf{2.061}  2.788  5.394  3.788  3.273  3.185\n5   \\textbf{2.242}  2.652  5.364  3.697  3.500  3.000\n10  \\textbf{2.439}  2.545  5.394  3.621  3.788  2.593\n15  \\textbf{2.364}  2.697  5.485  3.303  3.712  2.870\n20  \\textbf{2.348}  2.818  5.303  3.439  3.576  2.963",
      "text/html": "<div>\n<style scoped>\n    .dataframe tbody tr th:only-of-type {\n        vertical-align: middle;\n    }\n\n    .dataframe tbody tr th {\n        vertical-align: top;\n    }\n\n    .dataframe thead th {\n        text-align: right;\n    }\n</style>\n<table border=\"1\" class=\"dataframe\">\n  <thead>\n    <tr style=\"text-align: right;\">\n      <th></th>\n      <th>man</th>\n      <th>euc</th>\n      <th>che</th>\n      <th>can</th>\n      <th>cos</th>\n      <th>mah</th>\n    </tr>\n  </thead>\n  <tbody>\n    <tr>\n      <th>1</th>\n      <td>\\textbf{2.379}</td>\n      <td>2.439</td>\n      <td>5.485</td>\n      <td>3.576</td>\n      <td>3.182</td>\n      <td>3.481</td>\n    </tr>\n    <tr>\n      <th>3</th>\n      <td>\\textbf{2.061}</td>\n      <td>2.788</td>\n      <td>5.394</td>\n      <td>3.788</td>\n      <td>3.273</td>\n      <td>3.185</td>\n    </tr>\n    <tr>\n      <th>5</th>\n      <td>\\textbf{2.242}</td>\n      <td>2.652</td>\n      <td>5.364</td>\n      <td>3.697</td>\n      <td>3.500</td>\n      <td>3.000</td>\n    </tr>\n    <tr>\n      <th>10</th>\n      <td>\\textbf{2.439}</td>\n      <td>2.545</td>\n      <td>5.394</td>\n      <td>3.621</td>\n      <td>3.788</td>\n      <td>2.593</td>\n    </tr>\n    <tr>\n      <th>15</th>\n      <td>\\textbf{2.364}</td>\n      <td>2.697</td>\n      <td>5.485</td>\n      <td>3.303</td>\n      <td>3.712</td>\n      <td>2.870</td>\n    </tr>\n    <tr>\n      <th>20</th>\n      <td>\\textbf{2.348}</td>\n      <td>2.818</td>\n      <td>5.303</td>\n      <td>3.439</td>\n      <td>3.576</td>\n      <td>2.963</td>\n    </tr>\n  </tbody>\n</table>\n</div>"
     },
     "execution_count": 80,
     "metadata": {},
     "output_type": "execute_result"
    }
   ],
   "source": [
    "bolded_friedman"
   ],
   "metadata": {
    "collapsed": false,
    "pycharm": {
     "name": "#%%\n"
    }
   }
  },
  {
   "cell_type": "code",
   "execution_count": 81,
   "outputs": [
    {
     "name": "stdout",
     "output_type": "stream",
     "text": [
      "\\begin{tabular}{lllllll}\n",
      "\\toprule\n",
      "{} &             man &    euc &    che &    can &    cos &    mah \\\\\n",
      "\\midrule\n",
      "1  &  \\textbf{2.379} &  2.439 &  5.485 &  3.576 &  3.182 &  3.481 \\\\\n",
      "3  &  \\textbf{2.061} &  2.788 &  5.394 &  3.788 &  3.273 &  3.185 \\\\\n",
      "5  &  \\textbf{2.242} &  2.652 &  5.364 &  3.697 &  3.500 &  3.000 \\\\\n",
      "10 &  \\textbf{2.439} &  2.545 &  5.394 &  3.621 &  3.788 &  2.593 \\\\\n",
      "15 &  \\textbf{2.364} &  2.697 &  5.485 &  3.303 &  3.712 &  2.870 \\\\\n",
      "20 &  \\textbf{2.348} &  2.818 &  5.303 &  3.439 &  3.576 &  2.963 \\\\\n",
      "\\bottomrule\n",
      "\\end{tabular}\n",
      "\n"
     ]
    },
    {
     "name": "stderr",
     "output_type": "stream",
     "text": [
      "/var/folders/_f/yf3dkr5x1397v4ntwhncxfhw0000gn/T/ipykernel_9070/4279767995.py:1: FutureWarning: In future versions `DataFrame.to_latex` is expected to utilise the base implementation of `Styler.to_latex` for formatting and rendering. The arguments signature may therefore change. It is recommended instead to use `DataFrame.style.to_latex` which also contains additional functionality.\n",
      "  print(bolded_friedman.to_latex(escape=False))\n"
     ]
    }
   ],
   "source": [
    "print(bolded_friedman.to_latex(escape=False))"
   ],
   "metadata": {
    "collapsed": false,
    "pycharm": {
     "name": "#%%\n"
    }
   }
  },
  {
   "cell_type": "markdown",
   "source": [
    "# We will look at the minimum number of elements in a class for each fold of each data set"
   ],
   "metadata": {
    "collapsed": false,
    "pycharm": {
     "name": "#%% md\n"
    }
   }
  },
  {
   "cell_type": "code",
   "execution_count": 134,
   "outputs": [
    {
     "name": "stderr",
     "output_type": "stream",
     "text": [
      "/Users/henri/Documents/GitHub/frlearn-cl-nca/venv/lib/python3.10/site-packages/numpy/core/_methods.py:44: RuntimeWarning: invalid value encountered in reduce\n",
      "  return umr_minimum(a, axis, None, out, keepdims, initial, where)\n",
      "/Users/henri/Documents/GitHub/frlearn-cl-nca/venv/lib/python3.10/site-packages/numpy/core/_methods.py:44: RuntimeWarning: invalid value encountered in reduce\n",
      "  return umr_minimum(a, axis, None, out, keepdims, initial, where)\n",
      "/Users/henri/Documents/GitHub/frlearn-cl-nca/venv/lib/python3.10/site-packages/numpy/core/_methods.py:44: RuntimeWarning: invalid value encountered in reduce\n",
      "  return umr_minimum(a, axis, None, out, keepdims, initial, where)\n",
      "/Users/henri/Documents/GitHub/frlearn-cl-nca/venv/lib/python3.10/site-packages/numpy/core/_methods.py:44: RuntimeWarning: invalid value encountered in reduce\n",
      "  return umr_minimum(a, axis, None, out, keepdims, initial, where)\n",
      "/Users/henri/Documents/GitHub/frlearn-cl-nca/venv/lib/python3.10/site-packages/numpy/core/_methods.py:44: RuntimeWarning: invalid value encountered in reduce\n",
      "  return umr_minimum(a, axis, None, out, keepdims, initial, where)\n",
      "/Users/henri/Documents/GitHub/frlearn-cl-nca/venv/lib/python3.10/site-packages/numpy/core/_methods.py:44: RuntimeWarning: invalid value encountered in reduce\n",
      "  return umr_minimum(a, axis, None, out, keepdims, initial, where)\n",
      "/Users/henri/Documents/GitHub/frlearn-cl-nca/venv/lib/python3.10/site-packages/numpy/core/_methods.py:44: RuntimeWarning: invalid value encountered in reduce\n",
      "  return umr_minimum(a, axis, None, out, keepdims, initial, where)\n",
      "/Users/henri/Documents/GitHub/frlearn-cl-nca/venv/lib/python3.10/site-packages/numpy/core/_methods.py:44: RuntimeWarning: invalid value encountered in reduce\n",
      "  return umr_minimum(a, axis, None, out, keepdims, initial, where)\n",
      "/Users/henri/Documents/GitHub/frlearn-cl-nca/venv/lib/python3.10/site-packages/numpy/core/_methods.py:44: RuntimeWarning: invalid value encountered in reduce\n",
      "  return umr_minimum(a, axis, None, out, keepdims, initial, where)\n",
      "/Users/henri/Documents/GitHub/frlearn-cl-nca/venv/lib/python3.10/site-packages/numpy/core/_methods.py:44: RuntimeWarning: invalid value encountered in reduce\n",
      "  return umr_minimum(a, axis, None, out, keepdims, initial, where)\n",
      "/Users/henri/Documents/GitHub/frlearn-cl-nca/venv/lib/python3.10/site-packages/numpy/core/_methods.py:44: RuntimeWarning: invalid value encountered in reduce\n",
      "  return umr_minimum(a, axis, None, out, keepdims, initial, where)\n",
      "/Users/henri/Documents/GitHub/frlearn-cl-nca/venv/lib/python3.10/site-packages/numpy/core/_methods.py:44: RuntimeWarning: invalid value encountered in reduce\n",
      "  return umr_minimum(a, axis, None, out, keepdims, initial, where)\n",
      "/Users/henri/Documents/GitHub/frlearn-cl-nca/venv/lib/python3.10/site-packages/numpy/core/_methods.py:44: RuntimeWarning: invalid value encountered in reduce\n",
      "  return umr_minimum(a, axis, None, out, keepdims, initial, where)\n",
      "/Users/henri/Documents/GitHub/frlearn-cl-nca/venv/lib/python3.10/site-packages/numpy/core/_methods.py:44: RuntimeWarning: invalid value encountered in reduce\n",
      "  return umr_minimum(a, axis, None, out, keepdims, initial, where)\n",
      "/Users/henri/Documents/GitHub/frlearn-cl-nca/venv/lib/python3.10/site-packages/numpy/core/_methods.py:44: RuntimeWarning: invalid value encountered in reduce\n",
      "  return umr_minimum(a, axis, None, out, keepdims, initial, where)\n",
      "/Users/henri/Documents/GitHub/frlearn-cl-nca/venv/lib/python3.10/site-packages/numpy/core/_methods.py:44: RuntimeWarning: invalid value encountered in reduce\n",
      "  return umr_minimum(a, axis, None, out, keepdims, initial, where)\n",
      "/Users/henri/Documents/GitHub/frlearn-cl-nca/venv/lib/python3.10/site-packages/numpy/core/_methods.py:44: RuntimeWarning: invalid value encountered in reduce\n",
      "  return umr_minimum(a, axis, None, out, keepdims, initial, where)\n",
      "/Users/henri/Documents/GitHub/frlearn-cl-nca/venv/lib/python3.10/site-packages/numpy/core/_methods.py:44: RuntimeWarning: invalid value encountered in reduce\n",
      "  return umr_minimum(a, axis, None, out, keepdims, initial, where)\n",
      "/Users/henri/Documents/GitHub/frlearn-cl-nca/venv/lib/python3.10/site-packages/numpy/core/_methods.py:44: RuntimeWarning: invalid value encountered in reduce\n",
      "  return umr_minimum(a, axis, None, out, keepdims, initial, where)\n",
      "/Users/henri/Documents/GitHub/frlearn-cl-nca/venv/lib/python3.10/site-packages/numpy/core/_methods.py:44: RuntimeWarning: invalid value encountered in reduce\n",
      "  return umr_minimum(a, axis, None, out, keepdims, initial, where)\n",
      "/Users/henri/Documents/GitHub/frlearn-cl-nca/venv/lib/python3.10/site-packages/numpy/core/_methods.py:44: RuntimeWarning: invalid value encountered in reduce\n",
      "  return umr_minimum(a, axis, None, out, keepdims, initial, where)\n",
      "/Users/henri/Documents/GitHub/frlearn-cl-nca/venv/lib/python3.10/site-packages/numpy/core/_methods.py:44: RuntimeWarning: invalid value encountered in reduce\n",
      "  return umr_minimum(a, axis, None, out, keepdims, initial, where)\n",
      "/Users/henri/Documents/GitHub/frlearn-cl-nca/venv/lib/python3.10/site-packages/numpy/core/_methods.py:44: RuntimeWarning: invalid value encountered in reduce\n",
      "  return umr_minimum(a, axis, None, out, keepdims, initial, where)\n",
      "/Users/henri/Documents/GitHub/frlearn-cl-nca/venv/lib/python3.10/site-packages/numpy/core/_methods.py:44: RuntimeWarning: invalid value encountered in reduce\n",
      "  return umr_minimum(a, axis, None, out, keepdims, initial, where)\n",
      "/Users/henri/Documents/GitHub/frlearn-cl-nca/venv/lib/python3.10/site-packages/numpy/core/_methods.py:44: RuntimeWarning: invalid value encountered in reduce\n",
      "  return umr_minimum(a, axis, None, out, keepdims, initial, where)\n",
      "/Users/henri/Documents/GitHub/frlearn-cl-nca/venv/lib/python3.10/site-packages/numpy/core/_methods.py:44: RuntimeWarning: invalid value encountered in reduce\n",
      "  return umr_minimum(a, axis, None, out, keepdims, initial, where)\n",
      "/Users/henri/Documents/GitHub/frlearn-cl-nca/venv/lib/python3.10/site-packages/numpy/core/_methods.py:44: RuntimeWarning: invalid value encountered in reduce\n",
      "  return umr_minimum(a, axis, None, out, keepdims, initial, where)\n",
      "/Users/henri/Documents/GitHub/frlearn-cl-nca/venv/lib/python3.10/site-packages/numpy/core/_methods.py:44: RuntimeWarning: invalid value encountered in reduce\n",
      "  return umr_minimum(a, axis, None, out, keepdims, initial, where)\n",
      "/Users/henri/Documents/GitHub/frlearn-cl-nca/venv/lib/python3.10/site-packages/numpy/core/_methods.py:44: RuntimeWarning: invalid value encountered in reduce\n",
      "  return umr_minimum(a, axis, None, out, keepdims, initial, where)\n",
      "/Users/henri/Documents/GitHub/frlearn-cl-nca/venv/lib/python3.10/site-packages/numpy/core/_methods.py:44: RuntimeWarning: invalid value encountered in reduce\n",
      "  return umr_minimum(a, axis, None, out, keepdims, initial, where)\n",
      "/Users/henri/Documents/GitHub/frlearn-cl-nca/venv/lib/python3.10/site-packages/numpy/core/_methods.py:44: RuntimeWarning: invalid value encountered in reduce\n",
      "  return umr_minimum(a, axis, None, out, keepdims, initial, where)\n",
      "/Users/henri/Documents/GitHub/frlearn-cl-nca/venv/lib/python3.10/site-packages/numpy/core/_methods.py:44: RuntimeWarning: invalid value encountered in reduce\n",
      "  return umr_minimum(a, axis, None, out, keepdims, initial, where)\n",
      "/Users/henri/Documents/GitHub/frlearn-cl-nca/venv/lib/python3.10/site-packages/numpy/core/_methods.py:44: RuntimeWarning: invalid value encountered in reduce\n",
      "  return umr_minimum(a, axis, None, out, keepdims, initial, where)\n",
      "/Users/henri/Documents/GitHub/frlearn-cl-nca/venv/lib/python3.10/site-packages/numpy/core/_methods.py:44: RuntimeWarning: invalid value encountered in reduce\n",
      "  return umr_minimum(a, axis, None, out, keepdims, initial, where)\n",
      "/Users/henri/Documents/GitHub/frlearn-cl-nca/venv/lib/python3.10/site-packages/numpy/core/_methods.py:44: RuntimeWarning: invalid value encountered in reduce\n",
      "  return umr_minimum(a, axis, None, out, keepdims, initial, where)\n",
      "/Users/henri/Documents/GitHub/frlearn-cl-nca/venv/lib/python3.10/site-packages/numpy/core/_methods.py:44: RuntimeWarning: invalid value encountered in reduce\n",
      "  return umr_minimum(a, axis, None, out, keepdims, initial, where)\n",
      "/Users/henri/Documents/GitHub/frlearn-cl-nca/venv/lib/python3.10/site-packages/numpy/core/_methods.py:44: RuntimeWarning: invalid value encountered in reduce\n",
      "  return umr_minimum(a, axis, None, out, keepdims, initial, where)\n",
      "/Users/henri/Documents/GitHub/frlearn-cl-nca/venv/lib/python3.10/site-packages/numpy/core/_methods.py:44: RuntimeWarning: invalid value encountered in reduce\n",
      "  return umr_minimum(a, axis, None, out, keepdims, initial, where)\n",
      "/Users/henri/Documents/GitHub/frlearn-cl-nca/venv/lib/python3.10/site-packages/numpy/core/_methods.py:44: RuntimeWarning: invalid value encountered in reduce\n",
      "  return umr_minimum(a, axis, None, out, keepdims, initial, where)\n",
      "/Users/henri/Documents/GitHub/frlearn-cl-nca/venv/lib/python3.10/site-packages/numpy/core/_methods.py:44: RuntimeWarning: invalid value encountered in reduce\n",
      "  return umr_minimum(a, axis, None, out, keepdims, initial, where)\n",
      "/Users/henri/Documents/GitHub/frlearn-cl-nca/venv/lib/python3.10/site-packages/numpy/core/_methods.py:44: RuntimeWarning: invalid value encountered in reduce\n",
      "  return umr_minimum(a, axis, None, out, keepdims, initial, where)\n",
      "/Users/henri/Documents/GitHub/frlearn-cl-nca/venv/lib/python3.10/site-packages/numpy/core/_methods.py:44: RuntimeWarning: invalid value encountered in reduce\n",
      "  return umr_minimum(a, axis, None, out, keepdims, initial, where)\n",
      "/Users/henri/Documents/GitHub/frlearn-cl-nca/venv/lib/python3.10/site-packages/numpy/core/_methods.py:44: RuntimeWarning: invalid value encountered in reduce\n",
      "  return umr_minimum(a, axis, None, out, keepdims, initial, where)\n",
      "/Users/henri/Documents/GitHub/frlearn-cl-nca/venv/lib/python3.10/site-packages/numpy/core/_methods.py:44: RuntimeWarning: invalid value encountered in reduce\n",
      "  return umr_minimum(a, axis, None, out, keepdims, initial, where)\n",
      "/Users/henri/Documents/GitHub/frlearn-cl-nca/venv/lib/python3.10/site-packages/numpy/core/_methods.py:44: RuntimeWarning: invalid value encountered in reduce\n",
      "  return umr_minimum(a, axis, None, out, keepdims, initial, where)\n",
      "/Users/henri/Documents/GitHub/frlearn-cl-nca/venv/lib/python3.10/site-packages/numpy/core/_methods.py:44: RuntimeWarning: invalid value encountered in reduce\n",
      "  return umr_minimum(a, axis, None, out, keepdims, initial, where)\n",
      "/Users/henri/Documents/GitHub/frlearn-cl-nca/venv/lib/python3.10/site-packages/numpy/core/_methods.py:44: RuntimeWarning: invalid value encountered in reduce\n",
      "  return umr_minimum(a, axis, None, out, keepdims, initial, where)\n",
      "/Users/henri/Documents/GitHub/frlearn-cl-nca/venv/lib/python3.10/site-packages/numpy/core/_methods.py:44: RuntimeWarning: invalid value encountered in reduce\n",
      "  return umr_minimum(a, axis, None, out, keepdims, initial, where)\n",
      "/Users/henri/Documents/GitHub/frlearn-cl-nca/venv/lib/python3.10/site-packages/numpy/core/_methods.py:44: RuntimeWarning: invalid value encountered in reduce\n",
      "  return umr_minimum(a, axis, None, out, keepdims, initial, where)\n",
      "/Users/henri/Documents/GitHub/frlearn-cl-nca/venv/lib/python3.10/site-packages/numpy/core/_methods.py:44: RuntimeWarning: invalid value encountered in reduce\n",
      "  return umr_minimum(a, axis, None, out, keepdims, initial, where)\n",
      "/Users/henri/Documents/GitHub/frlearn-cl-nca/venv/lib/python3.10/site-packages/numpy/core/_methods.py:44: RuntimeWarning: invalid value encountered in reduce\n",
      "  return umr_minimum(a, axis, None, out, keepdims, initial, where)\n",
      "/Users/henri/Documents/GitHub/frlearn-cl-nca/venv/lib/python3.10/site-packages/numpy/core/_methods.py:44: RuntimeWarning: invalid value encountered in reduce\n",
      "  return umr_minimum(a, axis, None, out, keepdims, initial, where)\n",
      "/Users/henri/Documents/GitHub/frlearn-cl-nca/venv/lib/python3.10/site-packages/numpy/core/_methods.py:44: RuntimeWarning: invalid value encountered in reduce\n",
      "  return umr_minimum(a, axis, None, out, keepdims, initial, where)\n",
      "/Users/henri/Documents/GitHub/frlearn-cl-nca/venv/lib/python3.10/site-packages/numpy/core/_methods.py:44: RuntimeWarning: invalid value encountered in reduce\n",
      "  return umr_minimum(a, axis, None, out, keepdims, initial, where)\n",
      "/Users/henri/Documents/GitHub/frlearn-cl-nca/venv/lib/python3.10/site-packages/numpy/core/_methods.py:44: RuntimeWarning: invalid value encountered in reduce\n",
      "  return umr_minimum(a, axis, None, out, keepdims, initial, where)\n",
      "/Users/henri/Documents/GitHub/frlearn-cl-nca/venv/lib/python3.10/site-packages/numpy/core/_methods.py:44: RuntimeWarning: invalid value encountered in reduce\n",
      "  return umr_minimum(a, axis, None, out, keepdims, initial, where)\n",
      "/Users/henri/Documents/GitHub/frlearn-cl-nca/venv/lib/python3.10/site-packages/numpy/core/_methods.py:44: RuntimeWarning: invalid value encountered in reduce\n",
      "  return umr_minimum(a, axis, None, out, keepdims, initial, where)\n",
      "/Users/henri/Documents/GitHub/frlearn-cl-nca/venv/lib/python3.10/site-packages/numpy/core/_methods.py:44: RuntimeWarning: invalid value encountered in reduce\n",
      "  return umr_minimum(a, axis, None, out, keepdims, initial, where)\n",
      "/Users/henri/Documents/GitHub/frlearn-cl-nca/venv/lib/python3.10/site-packages/numpy/core/_methods.py:44: RuntimeWarning: invalid value encountered in reduce\n",
      "  return umr_minimum(a, axis, None, out, keepdims, initial, where)\n",
      "/Users/henri/Documents/GitHub/frlearn-cl-nca/venv/lib/python3.10/site-packages/numpy/core/_methods.py:44: RuntimeWarning: invalid value encountered in reduce\n",
      "  return umr_minimum(a, axis, None, out, keepdims, initial, where)\n",
      "/Users/henri/Documents/GitHub/frlearn-cl-nca/venv/lib/python3.10/site-packages/numpy/core/_methods.py:44: RuntimeWarning: invalid value encountered in reduce\n",
      "  return umr_minimum(a, axis, None, out, keepdims, initial, where)\n",
      "/Users/henri/Documents/GitHub/frlearn-cl-nca/venv/lib/python3.10/site-packages/numpy/core/_methods.py:44: RuntimeWarning: invalid value encountered in reduce\n",
      "  return umr_minimum(a, axis, None, out, keepdims, initial, where)\n",
      "/Users/henri/Documents/GitHub/frlearn-cl-nca/venv/lib/python3.10/site-packages/numpy/core/_methods.py:44: RuntimeWarning: invalid value encountered in reduce\n",
      "  return umr_minimum(a, axis, None, out, keepdims, initial, where)\n",
      "/Users/henri/Documents/GitHub/frlearn-cl-nca/venv/lib/python3.10/site-packages/numpy/core/_methods.py:44: RuntimeWarning: invalid value encountered in reduce\n",
      "  return umr_minimum(a, axis, None, out, keepdims, initial, where)\n",
      "/Users/henri/Documents/GitHub/frlearn-cl-nca/venv/lib/python3.10/site-packages/numpy/core/_methods.py:44: RuntimeWarning: invalid value encountered in reduce\n",
      "  return umr_minimum(a, axis, None, out, keepdims, initial, where)\n",
      "/Users/henri/Documents/GitHub/frlearn-cl-nca/venv/lib/python3.10/site-packages/numpy/core/_methods.py:44: RuntimeWarning: invalid value encountered in reduce\n",
      "  return umr_minimum(a, axis, None, out, keepdims, initial, where)\n",
      "/Users/henri/Documents/GitHub/frlearn-cl-nca/venv/lib/python3.10/site-packages/numpy/core/_methods.py:44: RuntimeWarning: invalid value encountered in reduce\n",
      "  return umr_minimum(a, axis, None, out, keepdims, initial, where)\n",
      "/Users/henri/Documents/GitHub/frlearn-cl-nca/venv/lib/python3.10/site-packages/numpy/core/_methods.py:44: RuntimeWarning: invalid value encountered in reduce\n",
      "  return umr_minimum(a, axis, None, out, keepdims, initial, where)\n",
      "/Users/henri/Documents/GitHub/frlearn-cl-nca/venv/lib/python3.10/site-packages/numpy/core/_methods.py:44: RuntimeWarning: invalid value encountered in reduce\n",
      "  return umr_minimum(a, axis, None, out, keepdims, initial, where)\n",
      "/Users/henri/Documents/GitHub/frlearn-cl-nca/venv/lib/python3.10/site-packages/numpy/core/_methods.py:44: RuntimeWarning: invalid value encountered in reduce\n",
      "  return umr_minimum(a, axis, None, out, keepdims, initial, where)\n",
      "/Users/henri/Documents/GitHub/frlearn-cl-nca/venv/lib/python3.10/site-packages/numpy/core/_methods.py:44: RuntimeWarning: invalid value encountered in reduce\n",
      "  return umr_minimum(a, axis, None, out, keepdims, initial, where)\n",
      "/Users/henri/Documents/GitHub/frlearn-cl-nca/venv/lib/python3.10/site-packages/numpy/core/_methods.py:44: RuntimeWarning: invalid value encountered in reduce\n",
      "  return umr_minimum(a, axis, None, out, keepdims, initial, where)\n",
      "/Users/henri/Documents/GitHub/frlearn-cl-nca/venv/lib/python3.10/site-packages/numpy/core/_methods.py:44: RuntimeWarning: invalid value encountered in reduce\n",
      "  return umr_minimum(a, axis, None, out, keepdims, initial, where)\n",
      "/Users/henri/Documents/GitHub/frlearn-cl-nca/venv/lib/python3.10/site-packages/numpy/core/_methods.py:44: RuntimeWarning: invalid value encountered in reduce\n",
      "  return umr_minimum(a, axis, None, out, keepdims, initial, where)\n",
      "/Users/henri/Documents/GitHub/frlearn-cl-nca/venv/lib/python3.10/site-packages/numpy/core/_methods.py:44: RuntimeWarning: invalid value encountered in reduce\n",
      "  return umr_minimum(a, axis, None, out, keepdims, initial, where)\n",
      "/Users/henri/Documents/GitHub/frlearn-cl-nca/venv/lib/python3.10/site-packages/numpy/core/_methods.py:44: RuntimeWarning: invalid value encountered in reduce\n",
      "  return umr_minimum(a, axis, None, out, keepdims, initial, where)\n",
      "/Users/henri/Documents/GitHub/frlearn-cl-nca/venv/lib/python3.10/site-packages/numpy/core/_methods.py:44: RuntimeWarning: invalid value encountered in reduce\n",
      "  return umr_minimum(a, axis, None, out, keepdims, initial, where)\n",
      "/Users/henri/Documents/GitHub/frlearn-cl-nca/venv/lib/python3.10/site-packages/numpy/core/_methods.py:44: RuntimeWarning: invalid value encountered in reduce\n",
      "  return umr_minimum(a, axis, None, out, keepdims, initial, where)\n",
      "/Users/henri/Documents/GitHub/frlearn-cl-nca/venv/lib/python3.10/site-packages/numpy/core/_methods.py:44: RuntimeWarning: invalid value encountered in reduce\n",
      "  return umr_minimum(a, axis, None, out, keepdims, initial, where)\n",
      "/Users/henri/Documents/GitHub/frlearn-cl-nca/venv/lib/python3.10/site-packages/numpy/core/_methods.py:44: RuntimeWarning: invalid value encountered in reduce\n",
      "  return umr_minimum(a, axis, None, out, keepdims, initial, where)\n",
      "/Users/henri/Documents/GitHub/frlearn-cl-nca/venv/lib/python3.10/site-packages/numpy/core/_methods.py:44: RuntimeWarning: invalid value encountered in reduce\n",
      "  return umr_minimum(a, axis, None, out, keepdims, initial, where)\n",
      "/Users/henri/Documents/GitHub/frlearn-cl-nca/venv/lib/python3.10/site-packages/numpy/core/_methods.py:44: RuntimeWarning: invalid value encountered in reduce\n",
      "  return umr_minimum(a, axis, None, out, keepdims, initial, where)\n",
      "/Users/henri/Documents/GitHub/frlearn-cl-nca/venv/lib/python3.10/site-packages/numpy/core/_methods.py:44: RuntimeWarning: invalid value encountered in reduce\n",
      "  return umr_minimum(a, axis, None, out, keepdims, initial, where)\n",
      "/Users/henri/Documents/GitHub/frlearn-cl-nca/venv/lib/python3.10/site-packages/numpy/core/_methods.py:44: RuntimeWarning: invalid value encountered in reduce\n",
      "  return umr_minimum(a, axis, None, out, keepdims, initial, where)\n",
      "/Users/henri/Documents/GitHub/frlearn-cl-nca/venv/lib/python3.10/site-packages/numpy/core/_methods.py:44: RuntimeWarning: invalid value encountered in reduce\n",
      "  return umr_minimum(a, axis, None, out, keepdims, initial, where)\n",
      "/Users/henri/Documents/GitHub/frlearn-cl-nca/venv/lib/python3.10/site-packages/numpy/core/_methods.py:44: RuntimeWarning: invalid value encountered in reduce\n",
      "  return umr_minimum(a, axis, None, out, keepdims, initial, where)\n",
      "/Users/henri/Documents/GitHub/frlearn-cl-nca/venv/lib/python3.10/site-packages/numpy/core/_methods.py:44: RuntimeWarning: invalid value encountered in reduce\n",
      "  return umr_minimum(a, axis, None, out, keepdims, initial, where)\n",
      "/Users/henri/Documents/GitHub/frlearn-cl-nca/venv/lib/python3.10/site-packages/numpy/core/_methods.py:44: RuntimeWarning: invalid value encountered in reduce\n",
      "  return umr_minimum(a, axis, None, out, keepdims, initial, where)\n",
      "/Users/henri/Documents/GitHub/frlearn-cl-nca/venv/lib/python3.10/site-packages/numpy/core/_methods.py:44: RuntimeWarning: invalid value encountered in reduce\n",
      "  return umr_minimum(a, axis, None, out, keepdims, initial, where)\n",
      "/Users/henri/Documents/GitHub/frlearn-cl-nca/venv/lib/python3.10/site-packages/numpy/core/_methods.py:44: RuntimeWarning: invalid value encountered in reduce\n",
      "  return umr_minimum(a, axis, None, out, keepdims, initial, where)\n",
      "/Users/henri/Documents/GitHub/frlearn-cl-nca/venv/lib/python3.10/site-packages/numpy/core/_methods.py:44: RuntimeWarning: invalid value encountered in reduce\n",
      "  return umr_minimum(a, axis, None, out, keepdims, initial, where)\n",
      "/Users/henri/Documents/GitHub/frlearn-cl-nca/venv/lib/python3.10/site-packages/numpy/core/_methods.py:44: RuntimeWarning: invalid value encountered in reduce\n",
      "  return umr_minimum(a, axis, None, out, keepdims, initial, where)\n",
      "/Users/henri/Documents/GitHub/frlearn-cl-nca/venv/lib/python3.10/site-packages/numpy/core/_methods.py:44: RuntimeWarning: invalid value encountered in reduce\n",
      "  return umr_minimum(a, axis, None, out, keepdims, initial, where)\n",
      "/Users/henri/Documents/GitHub/frlearn-cl-nca/venv/lib/python3.10/site-packages/numpy/core/_methods.py:44: RuntimeWarning: invalid value encountered in reduce\n",
      "  return umr_minimum(a, axis, None, out, keepdims, initial, where)\n",
      "/Users/henri/Documents/GitHub/frlearn-cl-nca/venv/lib/python3.10/site-packages/numpy/core/_methods.py:44: RuntimeWarning: invalid value encountered in reduce\n",
      "  return umr_minimum(a, axis, None, out, keepdims, initial, where)\n",
      "/Users/henri/Documents/GitHub/frlearn-cl-nca/venv/lib/python3.10/site-packages/numpy/core/_methods.py:44: RuntimeWarning: invalid value encountered in reduce\n",
      "  return umr_minimum(a, axis, None, out, keepdims, initial, where)\n",
      "/Users/henri/Documents/GitHub/frlearn-cl-nca/venv/lib/python3.10/site-packages/numpy/core/_methods.py:44: RuntimeWarning: invalid value encountered in reduce\n",
      "  return umr_minimum(a, axis, None, out, keepdims, initial, where)\n",
      "/Users/henri/Documents/GitHub/frlearn-cl-nca/venv/lib/python3.10/site-packages/numpy/core/_methods.py:44: RuntimeWarning: invalid value encountered in reduce\n",
      "  return umr_minimum(a, axis, None, out, keepdims, initial, where)\n",
      "/Users/henri/Documents/GitHub/frlearn-cl-nca/venv/lib/python3.10/site-packages/numpy/core/_methods.py:44: RuntimeWarning: invalid value encountered in reduce\n",
      "  return umr_minimum(a, axis, None, out, keepdims, initial, where)\n",
      "/Users/henri/Documents/GitHub/frlearn-cl-nca/venv/lib/python3.10/site-packages/numpy/core/_methods.py:44: RuntimeWarning: invalid value encountered in reduce\n",
      "  return umr_minimum(a, axis, None, out, keepdims, initial, where)\n",
      "/Users/henri/Documents/GitHub/frlearn-cl-nca/venv/lib/python3.10/site-packages/numpy/core/_methods.py:44: RuntimeWarning: invalid value encountered in reduce\n",
      "  return umr_minimum(a, axis, None, out, keepdims, initial, where)\n",
      "/Users/henri/Documents/GitHub/frlearn-cl-nca/venv/lib/python3.10/site-packages/numpy/core/_methods.py:44: RuntimeWarning: invalid value encountered in reduce\n",
      "  return umr_minimum(a, axis, None, out, keepdims, initial, where)\n",
      "/Users/henri/Documents/GitHub/frlearn-cl-nca/venv/lib/python3.10/site-packages/numpy/core/_methods.py:44: RuntimeWarning: invalid value encountered in reduce\n",
      "  return umr_minimum(a, axis, None, out, keepdims, initial, where)\n",
      "/Users/henri/Documents/GitHub/frlearn-cl-nca/venv/lib/python3.10/site-packages/numpy/core/_methods.py:44: RuntimeWarning: invalid value encountered in reduce\n",
      "  return umr_minimum(a, axis, None, out, keepdims, initial, where)\n",
      "/Users/henri/Documents/GitHub/frlearn-cl-nca/venv/lib/python3.10/site-packages/numpy/core/_methods.py:44: RuntimeWarning: invalid value encountered in reduce\n",
      "  return umr_minimum(a, axis, None, out, keepdims, initial, where)\n",
      "/Users/henri/Documents/GitHub/frlearn-cl-nca/venv/lib/python3.10/site-packages/numpy/core/_methods.py:44: RuntimeWarning: invalid value encountered in reduce\n",
      "  return umr_minimum(a, axis, None, out, keepdims, initial, where)\n",
      "/Users/henri/Documents/GitHub/frlearn-cl-nca/venv/lib/python3.10/site-packages/numpy/core/_methods.py:44: RuntimeWarning: invalid value encountered in reduce\n",
      "  return umr_minimum(a, axis, None, out, keepdims, initial, where)\n",
      "/Users/henri/Documents/GitHub/frlearn-cl-nca/venv/lib/python3.10/site-packages/numpy/core/_methods.py:44: RuntimeWarning: invalid value encountered in reduce\n",
      "  return umr_minimum(a, axis, None, out, keepdims, initial, where)\n",
      "/Users/henri/Documents/GitHub/frlearn-cl-nca/venv/lib/python3.10/site-packages/numpy/core/_methods.py:44: RuntimeWarning: invalid value encountered in reduce\n",
      "  return umr_minimum(a, axis, None, out, keepdims, initial, where)\n",
      "/Users/henri/Documents/GitHub/frlearn-cl-nca/venv/lib/python3.10/site-packages/numpy/core/_methods.py:44: RuntimeWarning: invalid value encountered in reduce\n",
      "  return umr_minimum(a, axis, None, out, keepdims, initial, where)\n",
      "/Users/henri/Documents/GitHub/frlearn-cl-nca/venv/lib/python3.10/site-packages/numpy/core/_methods.py:44: RuntimeWarning: invalid value encountered in reduce\n",
      "  return umr_minimum(a, axis, None, out, keepdims, initial, where)\n",
      "/Users/henri/Documents/GitHub/frlearn-cl-nca/venv/lib/python3.10/site-packages/numpy/core/_methods.py:44: RuntimeWarning: invalid value encountered in reduce\n",
      "  return umr_minimum(a, axis, None, out, keepdims, initial, where)\n",
      "/Users/henri/Documents/GitHub/frlearn-cl-nca/venv/lib/python3.10/site-packages/numpy/core/_methods.py:44: RuntimeWarning: invalid value encountered in reduce\n",
      "  return umr_minimum(a, axis, None, out, keepdims, initial, where)\n",
      "/Users/henri/Documents/GitHub/frlearn-cl-nca/venv/lib/python3.10/site-packages/numpy/core/_methods.py:44: RuntimeWarning: invalid value encountered in reduce\n",
      "  return umr_minimum(a, axis, None, out, keepdims, initial, where)\n",
      "/Users/henri/Documents/GitHub/frlearn-cl-nca/venv/lib/python3.10/site-packages/numpy/core/_methods.py:44: RuntimeWarning: invalid value encountered in reduce\n",
      "  return umr_minimum(a, axis, None, out, keepdims, initial, where)\n",
      "/Users/henri/Documents/GitHub/frlearn-cl-nca/venv/lib/python3.10/site-packages/numpy/core/_methods.py:44: RuntimeWarning: invalid value encountered in reduce\n",
      "  return umr_minimum(a, axis, None, out, keepdims, initial, where)\n",
      "/Users/henri/Documents/GitHub/frlearn-cl-nca/venv/lib/python3.10/site-packages/numpy/core/_methods.py:44: RuntimeWarning: invalid value encountered in reduce\n",
      "  return umr_minimum(a, axis, None, out, keepdims, initial, where)\n",
      "/Users/henri/Documents/GitHub/frlearn-cl-nca/venv/lib/python3.10/site-packages/numpy/core/_methods.py:44: RuntimeWarning: invalid value encountered in reduce\n",
      "  return umr_minimum(a, axis, None, out, keepdims, initial, where)\n",
      "/Users/henri/Documents/GitHub/frlearn-cl-nca/venv/lib/python3.10/site-packages/numpy/core/_methods.py:44: RuntimeWarning: invalid value encountered in reduce\n",
      "  return umr_minimum(a, axis, None, out, keepdims, initial, where)\n",
      "/Users/henri/Documents/GitHub/frlearn-cl-nca/venv/lib/python3.10/site-packages/numpy/core/_methods.py:44: RuntimeWarning: invalid value encountered in reduce\n",
      "  return umr_minimum(a, axis, None, out, keepdims, initial, where)\n",
      "/Users/henri/Documents/GitHub/frlearn-cl-nca/venv/lib/python3.10/site-packages/numpy/core/_methods.py:44: RuntimeWarning: invalid value encountered in reduce\n",
      "  return umr_minimum(a, axis, None, out, keepdims, initial, where)\n",
      "/Users/henri/Documents/GitHub/frlearn-cl-nca/venv/lib/python3.10/site-packages/numpy/core/_methods.py:44: RuntimeWarning: invalid value encountered in reduce\n",
      "  return umr_minimum(a, axis, None, out, keepdims, initial, where)\n",
      "/Users/henri/Documents/GitHub/frlearn-cl-nca/venv/lib/python3.10/site-packages/numpy/core/_methods.py:44: RuntimeWarning: invalid value encountered in reduce\n",
      "  return umr_minimum(a, axis, None, out, keepdims, initial, where)\n",
      "/Users/henri/Documents/GitHub/frlearn-cl-nca/venv/lib/python3.10/site-packages/numpy/core/_methods.py:44: RuntimeWarning: invalid value encountered in reduce\n",
      "  return umr_minimum(a, axis, None, out, keepdims, initial, where)\n",
      "/Users/henri/Documents/GitHub/frlearn-cl-nca/venv/lib/python3.10/site-packages/numpy/core/_methods.py:44: RuntimeWarning: invalid value encountered in reduce\n",
      "  return umr_minimum(a, axis, None, out, keepdims, initial, where)\n",
      "/Users/henri/Documents/GitHub/frlearn-cl-nca/venv/lib/python3.10/site-packages/numpy/core/_methods.py:44: RuntimeWarning: invalid value encountered in reduce\n",
      "  return umr_minimum(a, axis, None, out, keepdims, initial, where)\n",
      "/Users/henri/Documents/GitHub/frlearn-cl-nca/venv/lib/python3.10/site-packages/numpy/core/_methods.py:44: RuntimeWarning: invalid value encountered in reduce\n",
      "  return umr_minimum(a, axis, None, out, keepdims, initial, where)\n",
      "/Users/henri/Documents/GitHub/frlearn-cl-nca/venv/lib/python3.10/site-packages/numpy/core/_methods.py:44: RuntimeWarning: invalid value encountered in reduce\n",
      "  return umr_minimum(a, axis, None, out, keepdims, initial, where)\n",
      "/Users/henri/Documents/GitHub/frlearn-cl-nca/venv/lib/python3.10/site-packages/numpy/core/_methods.py:44: RuntimeWarning: invalid value encountered in reduce\n",
      "  return umr_minimum(a, axis, None, out, keepdims, initial, where)\n",
      "/Users/henri/Documents/GitHub/frlearn-cl-nca/venv/lib/python3.10/site-packages/numpy/core/_methods.py:44: RuntimeWarning: invalid value encountered in reduce\n",
      "  return umr_minimum(a, axis, None, out, keepdims, initial, where)\n",
      "/Users/henri/Documents/GitHub/frlearn-cl-nca/venv/lib/python3.10/site-packages/numpy/core/_methods.py:44: RuntimeWarning: invalid value encountered in reduce\n",
      "  return umr_minimum(a, axis, None, out, keepdims, initial, where)\n",
      "/Users/henri/Documents/GitHub/frlearn-cl-nca/venv/lib/python3.10/site-packages/numpy/core/_methods.py:44: RuntimeWarning: invalid value encountered in reduce\n",
      "  return umr_minimum(a, axis, None, out, keepdims, initial, where)\n",
      "/Users/henri/Documents/GitHub/frlearn-cl-nca/venv/lib/python3.10/site-packages/numpy/core/_methods.py:44: RuntimeWarning: invalid value encountered in reduce\n",
      "  return umr_minimum(a, axis, None, out, keepdims, initial, where)\n",
      "/Users/henri/Documents/GitHub/frlearn-cl-nca/venv/lib/python3.10/site-packages/numpy/core/_methods.py:44: RuntimeWarning: invalid value encountered in reduce\n",
      "  return umr_minimum(a, axis, None, out, keepdims, initial, where)\n",
      "/Users/henri/Documents/GitHub/frlearn-cl-nca/venv/lib/python3.10/site-packages/numpy/core/_methods.py:44: RuntimeWarning: invalid value encountered in reduce\n",
      "  return umr_minimum(a, axis, None, out, keepdims, initial, where)\n",
      "/Users/henri/Documents/GitHub/frlearn-cl-nca/venv/lib/python3.10/site-packages/numpy/core/_methods.py:44: RuntimeWarning: invalid value encountered in reduce\n",
      "  return umr_minimum(a, axis, None, out, keepdims, initial, where)\n",
      "/Users/henri/Documents/GitHub/frlearn-cl-nca/venv/lib/python3.10/site-packages/numpy/core/_methods.py:44: RuntimeWarning: invalid value encountered in reduce\n",
      "  return umr_minimum(a, axis, None, out, keepdims, initial, where)\n",
      "/Users/henri/Documents/GitHub/frlearn-cl-nca/venv/lib/python3.10/site-packages/numpy/core/_methods.py:44: RuntimeWarning: invalid value encountered in reduce\n",
      "  return umr_minimum(a, axis, None, out, keepdims, initial, where)\n",
      "/Users/henri/Documents/GitHub/frlearn-cl-nca/venv/lib/python3.10/site-packages/numpy/core/_methods.py:44: RuntimeWarning: invalid value encountered in reduce\n",
      "  return umr_minimum(a, axis, None, out, keepdims, initial, where)\n",
      "/Users/henri/Documents/GitHub/frlearn-cl-nca/venv/lib/python3.10/site-packages/numpy/core/_methods.py:44: RuntimeWarning: invalid value encountered in reduce\n",
      "  return umr_minimum(a, axis, None, out, keepdims, initial, where)\n",
      "/Users/henri/Documents/GitHub/frlearn-cl-nca/venv/lib/python3.10/site-packages/numpy/core/_methods.py:44: RuntimeWarning: invalid value encountered in reduce\n",
      "  return umr_minimum(a, axis, None, out, keepdims, initial, where)\n",
      "/Users/henri/Documents/GitHub/frlearn-cl-nca/venv/lib/python3.10/site-packages/numpy/core/_methods.py:44: RuntimeWarning: invalid value encountered in reduce\n",
      "  return umr_minimum(a, axis, None, out, keepdims, initial, where)\n",
      "/Users/henri/Documents/GitHub/frlearn-cl-nca/venv/lib/python3.10/site-packages/numpy/core/_methods.py:44: RuntimeWarning: invalid value encountered in reduce\n",
      "  return umr_minimum(a, axis, None, out, keepdims, initial, where)\n",
      "/Users/henri/Documents/GitHub/frlearn-cl-nca/venv/lib/python3.10/site-packages/numpy/core/_methods.py:44: RuntimeWarning: invalid value encountered in reduce\n",
      "  return umr_minimum(a, axis, None, out, keepdims, initial, where)\n",
      "/Users/henri/Documents/GitHub/frlearn-cl-nca/venv/lib/python3.10/site-packages/numpy/core/_methods.py:44: RuntimeWarning: invalid value encountered in reduce\n",
      "  return umr_minimum(a, axis, None, out, keepdims, initial, where)\n",
      "/Users/henri/Documents/GitHub/frlearn-cl-nca/venv/lib/python3.10/site-packages/numpy/core/_methods.py:44: RuntimeWarning: invalid value encountered in reduce\n",
      "  return umr_minimum(a, axis, None, out, keepdims, initial, where)\n",
      "/Users/henri/Documents/GitHub/frlearn-cl-nca/venv/lib/python3.10/site-packages/numpy/core/_methods.py:44: RuntimeWarning: invalid value encountered in reduce\n",
      "  return umr_minimum(a, axis, None, out, keepdims, initial, where)\n",
      "/Users/henri/Documents/GitHub/frlearn-cl-nca/venv/lib/python3.10/site-packages/numpy/core/_methods.py:44: RuntimeWarning: invalid value encountered in reduce\n",
      "  return umr_minimum(a, axis, None, out, keepdims, initial, where)\n",
      "/Users/henri/Documents/GitHub/frlearn-cl-nca/venv/lib/python3.10/site-packages/numpy/core/_methods.py:44: RuntimeWarning: invalid value encountered in reduce\n",
      "  return umr_minimum(a, axis, None, out, keepdims, initial, where)\n",
      "/Users/henri/Documents/GitHub/frlearn-cl-nca/venv/lib/python3.10/site-packages/numpy/core/_methods.py:44: RuntimeWarning: invalid value encountered in reduce\n",
      "  return umr_minimum(a, axis, None, out, keepdims, initial, where)\n",
      "/Users/henri/Documents/GitHub/frlearn-cl-nca/venv/lib/python3.10/site-packages/numpy/core/_methods.py:44: RuntimeWarning: invalid value encountered in reduce\n",
      "  return umr_minimum(a, axis, None, out, keepdims, initial, where)\n",
      "/Users/henri/Documents/GitHub/frlearn-cl-nca/venv/lib/python3.10/site-packages/numpy/core/_methods.py:44: RuntimeWarning: invalid value encountered in reduce\n",
      "  return umr_minimum(a, axis, None, out, keepdims, initial, where)\n",
      "/Users/henri/Documents/GitHub/frlearn-cl-nca/venv/lib/python3.10/site-packages/numpy/core/_methods.py:44: RuntimeWarning: invalid value encountered in reduce\n",
      "  return umr_minimum(a, axis, None, out, keepdims, initial, where)\n",
      "/Users/henri/Documents/GitHub/frlearn-cl-nca/venv/lib/python3.10/site-packages/numpy/core/_methods.py:44: RuntimeWarning: invalid value encountered in reduce\n",
      "  return umr_minimum(a, axis, None, out, keepdims, initial, where)\n",
      "/Users/henri/Documents/GitHub/frlearn-cl-nca/venv/lib/python3.10/site-packages/numpy/core/_methods.py:44: RuntimeWarning: invalid value encountered in reduce\n",
      "  return umr_minimum(a, axis, None, out, keepdims, initial, where)\n",
      "/Users/henri/Documents/GitHub/frlearn-cl-nca/venv/lib/python3.10/site-packages/numpy/core/_methods.py:44: RuntimeWarning: invalid value encountered in reduce\n",
      "  return umr_minimum(a, axis, None, out, keepdims, initial, where)\n",
      "/Users/henri/Documents/GitHub/frlearn-cl-nca/venv/lib/python3.10/site-packages/numpy/core/_methods.py:44: RuntimeWarning: invalid value encountered in reduce\n",
      "  return umr_minimum(a, axis, None, out, keepdims, initial, where)\n",
      "/Users/henri/Documents/GitHub/frlearn-cl-nca/venv/lib/python3.10/site-packages/numpy/core/_methods.py:44: RuntimeWarning: invalid value encountered in reduce\n",
      "  return umr_minimum(a, axis, None, out, keepdims, initial, where)\n",
      "/Users/henri/Documents/GitHub/frlearn-cl-nca/venv/lib/python3.10/site-packages/numpy/core/_methods.py:44: RuntimeWarning: invalid value encountered in reduce\n",
      "  return umr_minimum(a, axis, None, out, keepdims, initial, where)\n",
      "/Users/henri/Documents/GitHub/frlearn-cl-nca/venv/lib/python3.10/site-packages/numpy/core/_methods.py:44: RuntimeWarning: invalid value encountered in reduce\n",
      "  return umr_minimum(a, axis, None, out, keepdims, initial, where)\n",
      "/Users/henri/Documents/GitHub/frlearn-cl-nca/venv/lib/python3.10/site-packages/numpy/core/_methods.py:44: RuntimeWarning: invalid value encountered in reduce\n",
      "  return umr_minimum(a, axis, None, out, keepdims, initial, where)\n",
      "/Users/henri/Documents/GitHub/frlearn-cl-nca/venv/lib/python3.10/site-packages/numpy/core/_methods.py:44: RuntimeWarning: invalid value encountered in reduce\n",
      "  return umr_minimum(a, axis, None, out, keepdims, initial, where)\n",
      "/Users/henri/Documents/GitHub/frlearn-cl-nca/venv/lib/python3.10/site-packages/numpy/core/_methods.py:44: RuntimeWarning: invalid value encountered in reduce\n",
      "  return umr_minimum(a, axis, None, out, keepdims, initial, where)\n",
      "/Users/henri/Documents/GitHub/frlearn-cl-nca/venv/lib/python3.10/site-packages/numpy/core/_methods.py:44: RuntimeWarning: invalid value encountered in reduce\n",
      "  return umr_minimum(a, axis, None, out, keepdims, initial, where)\n",
      "/Users/henri/Documents/GitHub/frlearn-cl-nca/venv/lib/python3.10/site-packages/numpy/core/_methods.py:44: RuntimeWarning: invalid value encountered in reduce\n",
      "  return umr_minimum(a, axis, None, out, keepdims, initial, where)\n",
      "/Users/henri/Documents/GitHub/frlearn-cl-nca/venv/lib/python3.10/site-packages/numpy/core/_methods.py:44: RuntimeWarning: invalid value encountered in reduce\n",
      "  return umr_minimum(a, axis, None, out, keepdims, initial, where)\n",
      "/Users/henri/Documents/GitHub/frlearn-cl-nca/venv/lib/python3.10/site-packages/numpy/core/_methods.py:44: RuntimeWarning: invalid value encountered in reduce\n",
      "  return umr_minimum(a, axis, None, out, keepdims, initial, where)\n",
      "/Users/henri/Documents/GitHub/frlearn-cl-nca/venv/lib/python3.10/site-packages/numpy/core/_methods.py:44: RuntimeWarning: invalid value encountered in reduce\n",
      "  return umr_minimum(a, axis, None, out, keepdims, initial, where)\n",
      "/Users/henri/Documents/GitHub/frlearn-cl-nca/venv/lib/python3.10/site-packages/numpy/core/_methods.py:44: RuntimeWarning: invalid value encountered in reduce\n",
      "  return umr_minimum(a, axis, None, out, keepdims, initial, where)\n",
      "/Users/henri/Documents/GitHub/frlearn-cl-nca/venv/lib/python3.10/site-packages/numpy/core/_methods.py:44: RuntimeWarning: invalid value encountered in reduce\n",
      "  return umr_minimum(a, axis, None, out, keepdims, initial, where)\n",
      "/Users/henri/Documents/GitHub/frlearn-cl-nca/venv/lib/python3.10/site-packages/numpy/core/_methods.py:44: RuntimeWarning: invalid value encountered in reduce\n",
      "  return umr_minimum(a, axis, None, out, keepdims, initial, where)\n",
      "/Users/henri/Documents/GitHub/frlearn-cl-nca/venv/lib/python3.10/site-packages/numpy/core/_methods.py:44: RuntimeWarning: invalid value encountered in reduce\n",
      "  return umr_minimum(a, axis, None, out, keepdims, initial, where)\n",
      "/Users/henri/Documents/GitHub/frlearn-cl-nca/venv/lib/python3.10/site-packages/numpy/core/_methods.py:44: RuntimeWarning: invalid value encountered in reduce\n",
      "  return umr_minimum(a, axis, None, out, keepdims, initial, where)\n",
      "/Users/henri/Documents/GitHub/frlearn-cl-nca/venv/lib/python3.10/site-packages/numpy/core/_methods.py:44: RuntimeWarning: invalid value encountered in reduce\n",
      "  return umr_minimum(a, axis, None, out, keepdims, initial, where)\n",
      "/Users/henri/Documents/GitHub/frlearn-cl-nca/venv/lib/python3.10/site-packages/numpy/core/_methods.py:44: RuntimeWarning: invalid value encountered in reduce\n",
      "  return umr_minimum(a, axis, None, out, keepdims, initial, where)\n",
      "/Users/henri/Documents/GitHub/frlearn-cl-nca/venv/lib/python3.10/site-packages/numpy/core/_methods.py:44: RuntimeWarning: invalid value encountered in reduce\n",
      "  return umr_minimum(a, axis, None, out, keepdims, initial, where)\n",
      "/Users/henri/Documents/GitHub/frlearn-cl-nca/venv/lib/python3.10/site-packages/numpy/core/_methods.py:44: RuntimeWarning: invalid value encountered in reduce\n",
      "  return umr_minimum(a, axis, None, out, keepdims, initial, where)\n",
      "/Users/henri/Documents/GitHub/frlearn-cl-nca/venv/lib/python3.10/site-packages/numpy/core/_methods.py:44: RuntimeWarning: invalid value encountered in reduce\n",
      "  return umr_minimum(a, axis, None, out, keepdims, initial, where)\n",
      "/Users/henri/Documents/GitHub/frlearn-cl-nca/venv/lib/python3.10/site-packages/numpy/core/_methods.py:44: RuntimeWarning: invalid value encountered in reduce\n",
      "  return umr_minimum(a, axis, None, out, keepdims, initial, where)\n",
      "/Users/henri/Documents/GitHub/frlearn-cl-nca/venv/lib/python3.10/site-packages/numpy/core/_methods.py:44: RuntimeWarning: invalid value encountered in reduce\n",
      "  return umr_minimum(a, axis, None, out, keepdims, initial, where)\n",
      "/Users/henri/Documents/GitHub/frlearn-cl-nca/venv/lib/python3.10/site-packages/numpy/core/_methods.py:44: RuntimeWarning: invalid value encountered in reduce\n",
      "  return umr_minimum(a, axis, None, out, keepdims, initial, where)\n",
      "/Users/henri/Documents/GitHub/frlearn-cl-nca/venv/lib/python3.10/site-packages/numpy/core/_methods.py:44: RuntimeWarning: invalid value encountered in reduce\n",
      "  return umr_minimum(a, axis, None, out, keepdims, initial, where)\n",
      "/Users/henri/Documents/GitHub/frlearn-cl-nca/venv/lib/python3.10/site-packages/numpy/core/_methods.py:44: RuntimeWarning: invalid value encountered in reduce\n",
      "  return umr_minimum(a, axis, None, out, keepdims, initial, where)\n",
      "/Users/henri/Documents/GitHub/frlearn-cl-nca/venv/lib/python3.10/site-packages/numpy/core/_methods.py:44: RuntimeWarning: invalid value encountered in reduce\n",
      "  return umr_minimum(a, axis, None, out, keepdims, initial, where)\n",
      "/Users/henri/Documents/GitHub/frlearn-cl-nca/venv/lib/python3.10/site-packages/numpy/core/_methods.py:44: RuntimeWarning: invalid value encountered in reduce\n",
      "  return umr_minimum(a, axis, None, out, keepdims, initial, where)\n",
      "/Users/henri/Documents/GitHub/frlearn-cl-nca/venv/lib/python3.10/site-packages/numpy/core/_methods.py:44: RuntimeWarning: invalid value encountered in reduce\n",
      "  return umr_minimum(a, axis, None, out, keepdims, initial, where)\n",
      "/Users/henri/Documents/GitHub/frlearn-cl-nca/venv/lib/python3.10/site-packages/numpy/core/_methods.py:44: RuntimeWarning: invalid value encountered in reduce\n",
      "  return umr_minimum(a, axis, None, out, keepdims, initial, where)\n",
      "/Users/henri/Documents/GitHub/frlearn-cl-nca/venv/lib/python3.10/site-packages/numpy/core/_methods.py:44: RuntimeWarning: invalid value encountered in reduce\n",
      "  return umr_minimum(a, axis, None, out, keepdims, initial, where)\n",
      "/Users/henri/Documents/GitHub/frlearn-cl-nca/venv/lib/python3.10/site-packages/numpy/core/_methods.py:44: RuntimeWarning: invalid value encountered in reduce\n",
      "  return umr_minimum(a, axis, None, out, keepdims, initial, where)\n",
      "/Users/henri/Documents/GitHub/frlearn-cl-nca/venv/lib/python3.10/site-packages/numpy/core/_methods.py:44: RuntimeWarning: invalid value encountered in reduce\n",
      "  return umr_minimum(a, axis, None, out, keepdims, initial, where)\n",
      "/Users/henri/Documents/GitHub/frlearn-cl-nca/venv/lib/python3.10/site-packages/numpy/core/_methods.py:44: RuntimeWarning: invalid value encountered in reduce\n",
      "  return umr_minimum(a, axis, None, out, keepdims, initial, where)\n",
      "/Users/henri/Documents/GitHub/frlearn-cl-nca/venv/lib/python3.10/site-packages/numpy/core/_methods.py:44: RuntimeWarning: invalid value encountered in reduce\n",
      "  return umr_minimum(a, axis, None, out, keepdims, initial, where)\n",
      "/Users/henri/Documents/GitHub/frlearn-cl-nca/venv/lib/python3.10/site-packages/numpy/core/_methods.py:44: RuntimeWarning: invalid value encountered in reduce\n",
      "  return umr_minimum(a, axis, None, out, keepdims, initial, where)\n",
      "/Users/henri/Documents/GitHub/frlearn-cl-nca/venv/lib/python3.10/site-packages/numpy/core/_methods.py:44: RuntimeWarning: invalid value encountered in reduce\n",
      "  return umr_minimum(a, axis, None, out, keepdims, initial, where)\n",
      "/Users/henri/Documents/GitHub/frlearn-cl-nca/venv/lib/python3.10/site-packages/numpy/core/_methods.py:44: RuntimeWarning: invalid value encountered in reduce\n",
      "  return umr_minimum(a, axis, None, out, keepdims, initial, where)\n",
      "/Users/henri/Documents/GitHub/frlearn-cl-nca/venv/lib/python3.10/site-packages/numpy/core/_methods.py:44: RuntimeWarning: invalid value encountered in reduce\n",
      "  return umr_minimum(a, axis, None, out, keepdims, initial, where)\n",
      "/Users/henri/Documents/GitHub/frlearn-cl-nca/venv/lib/python3.10/site-packages/numpy/core/_methods.py:44: RuntimeWarning: invalid value encountered in reduce\n",
      "  return umr_minimum(a, axis, None, out, keepdims, initial, where)\n",
      "/Users/henri/Documents/GitHub/frlearn-cl-nca/venv/lib/python3.10/site-packages/numpy/core/_methods.py:44: RuntimeWarning: invalid value encountered in reduce\n",
      "  return umr_minimum(a, axis, None, out, keepdims, initial, where)\n",
      "/Users/henri/Documents/GitHub/frlearn-cl-nca/venv/lib/python3.10/site-packages/numpy/core/_methods.py:44: RuntimeWarning: invalid value encountered in reduce\n",
      "  return umr_minimum(a, axis, None, out, keepdims, initial, where)\n",
      "/Users/henri/Documents/GitHub/frlearn-cl-nca/venv/lib/python3.10/site-packages/numpy/core/_methods.py:44: RuntimeWarning: invalid value encountered in reduce\n",
      "  return umr_minimum(a, axis, None, out, keepdims, initial, where)\n",
      "/Users/henri/Documents/GitHub/frlearn-cl-nca/venv/lib/python3.10/site-packages/numpy/core/_methods.py:44: RuntimeWarning: invalid value encountered in reduce\n",
      "  return umr_minimum(a, axis, None, out, keepdims, initial, where)\n",
      "/Users/henri/Documents/GitHub/frlearn-cl-nca/venv/lib/python3.10/site-packages/numpy/core/_methods.py:44: RuntimeWarning: invalid value encountered in reduce\n",
      "  return umr_minimum(a, axis, None, out, keepdims, initial, where)\n",
      "/Users/henri/Documents/GitHub/frlearn-cl-nca/venv/lib/python3.10/site-packages/numpy/core/_methods.py:44: RuntimeWarning: invalid value encountered in reduce\n",
      "  return umr_minimum(a, axis, None, out, keepdims, initial, where)\n",
      "/Users/henri/Documents/GitHub/frlearn-cl-nca/venv/lib/python3.10/site-packages/numpy/core/_methods.py:44: RuntimeWarning: invalid value encountered in reduce\n",
      "  return umr_minimum(a, axis, None, out, keepdims, initial, where)\n",
      "/Users/henri/Documents/GitHub/frlearn-cl-nca/venv/lib/python3.10/site-packages/numpy/core/_methods.py:44: RuntimeWarning: invalid value encountered in reduce\n",
      "  return umr_minimum(a, axis, None, out, keepdims, initial, where)\n",
      "/Users/henri/Documents/GitHub/frlearn-cl-nca/venv/lib/python3.10/site-packages/numpy/core/_methods.py:44: RuntimeWarning: invalid value encountered in reduce\n",
      "  return umr_minimum(a, axis, None, out, keepdims, initial, where)\n",
      "/Users/henri/Documents/GitHub/frlearn-cl-nca/venv/lib/python3.10/site-packages/numpy/core/_methods.py:44: RuntimeWarning: invalid value encountered in reduce\n",
      "  return umr_minimum(a, axis, None, out, keepdims, initial, where)\n",
      "/Users/henri/Documents/GitHub/frlearn-cl-nca/venv/lib/python3.10/site-packages/numpy/core/_methods.py:44: RuntimeWarning: invalid value encountered in reduce\n",
      "  return umr_minimum(a, axis, None, out, keepdims, initial, where)\n",
      "/Users/henri/Documents/GitHub/frlearn-cl-nca/venv/lib/python3.10/site-packages/numpy/core/_methods.py:44: RuntimeWarning: invalid value encountered in reduce\n",
      "  return umr_minimum(a, axis, None, out, keepdims, initial, where)\n",
      "/Users/henri/Documents/GitHub/frlearn-cl-nca/venv/lib/python3.10/site-packages/numpy/core/_methods.py:44: RuntimeWarning: invalid value encountered in reduce\n",
      "  return umr_minimum(a, axis, None, out, keepdims, initial, where)\n",
      "/Users/henri/Documents/GitHub/frlearn-cl-nca/venv/lib/python3.10/site-packages/numpy/core/_methods.py:44: RuntimeWarning: invalid value encountered in reduce\n",
      "  return umr_minimum(a, axis, None, out, keepdims, initial, where)\n",
      "/Users/henri/Documents/GitHub/frlearn-cl-nca/venv/lib/python3.10/site-packages/numpy/core/_methods.py:44: RuntimeWarning: invalid value encountered in reduce\n",
      "  return umr_minimum(a, axis, None, out, keepdims, initial, where)\n",
      "/Users/henri/Documents/GitHub/frlearn-cl-nca/venv/lib/python3.10/site-packages/numpy/core/_methods.py:44: RuntimeWarning: invalid value encountered in reduce\n",
      "  return umr_minimum(a, axis, None, out, keepdims, initial, where)\n",
      "/Users/henri/Documents/GitHub/frlearn-cl-nca/venv/lib/python3.10/site-packages/numpy/core/_methods.py:44: RuntimeWarning: invalid value encountered in reduce\n",
      "  return umr_minimum(a, axis, None, out, keepdims, initial, where)\n",
      "/Users/henri/Documents/GitHub/frlearn-cl-nca/venv/lib/python3.10/site-packages/numpy/core/_methods.py:44: RuntimeWarning: invalid value encountered in reduce\n",
      "  return umr_minimum(a, axis, None, out, keepdims, initial, where)\n",
      "/Users/henri/Documents/GitHub/frlearn-cl-nca/venv/lib/python3.10/site-packages/numpy/core/_methods.py:44: RuntimeWarning: invalid value encountered in reduce\n",
      "  return umr_minimum(a, axis, None, out, keepdims, initial, where)\n",
      "/Users/henri/Documents/GitHub/frlearn-cl-nca/venv/lib/python3.10/site-packages/numpy/core/_methods.py:44: RuntimeWarning: invalid value encountered in reduce\n",
      "  return umr_minimum(a, axis, None, out, keepdims, initial, where)\n",
      "/Users/henri/Documents/GitHub/frlearn-cl-nca/venv/lib/python3.10/site-packages/numpy/core/_methods.py:44: RuntimeWarning: invalid value encountered in reduce\n",
      "  return umr_minimum(a, axis, None, out, keepdims, initial, where)\n",
      "/Users/henri/Documents/GitHub/frlearn-cl-nca/venv/lib/python3.10/site-packages/numpy/core/_methods.py:44: RuntimeWarning: invalid value encountered in reduce\n",
      "  return umr_minimum(a, axis, None, out, keepdims, initial, where)\n",
      "/Users/henri/Documents/GitHub/frlearn-cl-nca/venv/lib/python3.10/site-packages/numpy/core/_methods.py:44: RuntimeWarning: invalid value encountered in reduce\n",
      "  return umr_minimum(a, axis, None, out, keepdims, initial, where)\n",
      "/Users/henri/Documents/GitHub/frlearn-cl-nca/venv/lib/python3.10/site-packages/numpy/core/_methods.py:44: RuntimeWarning: invalid value encountered in reduce\n",
      "  return umr_minimum(a, axis, None, out, keepdims, initial, where)\n",
      "/Users/henri/Documents/GitHub/frlearn-cl-nca/venv/lib/python3.10/site-packages/numpy/core/_methods.py:44: RuntimeWarning: invalid value encountered in reduce\n",
      "  return umr_minimum(a, axis, None, out, keepdims, initial, where)\n",
      "/Users/henri/Documents/GitHub/frlearn-cl-nca/venv/lib/python3.10/site-packages/numpy/core/_methods.py:44: RuntimeWarning: invalid value encountered in reduce\n",
      "  return umr_minimum(a, axis, None, out, keepdims, initial, where)\n",
      "/Users/henri/Documents/GitHub/frlearn-cl-nca/venv/lib/python3.10/site-packages/numpy/core/_methods.py:44: RuntimeWarning: invalid value encountered in reduce\n",
      "  return umr_minimum(a, axis, None, out, keepdims, initial, where)\n",
      "/Users/henri/Documents/GitHub/frlearn-cl-nca/venv/lib/python3.10/site-packages/numpy/core/_methods.py:44: RuntimeWarning: invalid value encountered in reduce\n",
      "  return umr_minimum(a, axis, None, out, keepdims, initial, where)\n",
      "/Users/henri/Documents/GitHub/frlearn-cl-nca/venv/lib/python3.10/site-packages/numpy/core/_methods.py:44: RuntimeWarning: invalid value encountered in reduce\n",
      "  return umr_minimum(a, axis, None, out, keepdims, initial, where)\n",
      "/Users/henri/Documents/GitHub/frlearn-cl-nca/venv/lib/python3.10/site-packages/numpy/core/_methods.py:44: RuntimeWarning: invalid value encountered in reduce\n",
      "  return umr_minimum(a, axis, None, out, keepdims, initial, where)\n",
      "/Users/henri/Documents/GitHub/frlearn-cl-nca/venv/lib/python3.10/site-packages/numpy/core/_methods.py:44: RuntimeWarning: invalid value encountered in reduce\n",
      "  return umr_minimum(a, axis, None, out, keepdims, initial, where)\n",
      "/Users/henri/Documents/GitHub/frlearn-cl-nca/venv/lib/python3.10/site-packages/numpy/core/_methods.py:44: RuntimeWarning: invalid value encountered in reduce\n",
      "  return umr_minimum(a, axis, None, out, keepdims, initial, where)\n",
      "/Users/henri/Documents/GitHub/frlearn-cl-nca/venv/lib/python3.10/site-packages/numpy/core/_methods.py:44: RuntimeWarning: invalid value encountered in reduce\n",
      "  return umr_minimum(a, axis, None, out, keepdims, initial, where)\n",
      "/Users/henri/Documents/GitHub/frlearn-cl-nca/venv/lib/python3.10/site-packages/numpy/core/_methods.py:44: RuntimeWarning: invalid value encountered in reduce\n",
      "  return umr_minimum(a, axis, None, out, keepdims, initial, where)\n",
      "/Users/henri/Documents/GitHub/frlearn-cl-nca/venv/lib/python3.10/site-packages/numpy/core/_methods.py:44: RuntimeWarning: invalid value encountered in reduce\n",
      "  return umr_minimum(a, axis, None, out, keepdims, initial, where)\n",
      "/Users/henri/Documents/GitHub/frlearn-cl-nca/venv/lib/python3.10/site-packages/numpy/core/_methods.py:44: RuntimeWarning: invalid value encountered in reduce\n",
      "  return umr_minimum(a, axis, None, out, keepdims, initial, where)\n",
      "/Users/henri/Documents/GitHub/frlearn-cl-nca/venv/lib/python3.10/site-packages/numpy/core/_methods.py:44: RuntimeWarning: invalid value encountered in reduce\n",
      "  return umr_minimum(a, axis, None, out, keepdims, initial, where)\n",
      "/Users/henri/Documents/GitHub/frlearn-cl-nca/venv/lib/python3.10/site-packages/numpy/core/_methods.py:44: RuntimeWarning: invalid value encountered in reduce\n",
      "  return umr_minimum(a, axis, None, out, keepdims, initial, where)\n",
      "/Users/henri/Documents/GitHub/frlearn-cl-nca/venv/lib/python3.10/site-packages/numpy/core/_methods.py:44: RuntimeWarning: invalid value encountered in reduce\n",
      "  return umr_minimum(a, axis, None, out, keepdims, initial, where)\n",
      "/Users/henri/Documents/GitHub/frlearn-cl-nca/venv/lib/python3.10/site-packages/numpy/core/_methods.py:44: RuntimeWarning: invalid value encountered in reduce\n",
      "  return umr_minimum(a, axis, None, out, keepdims, initial, where)\n",
      "/Users/henri/Documents/GitHub/frlearn-cl-nca/venv/lib/python3.10/site-packages/numpy/core/_methods.py:44: RuntimeWarning: invalid value encountered in reduce\n",
      "  return umr_minimum(a, axis, None, out, keepdims, initial, where)\n",
      "/Users/henri/Documents/GitHub/frlearn-cl-nca/venv/lib/python3.10/site-packages/numpy/core/_methods.py:44: RuntimeWarning: invalid value encountered in reduce\n",
      "  return umr_minimum(a, axis, None, out, keepdims, initial, where)\n",
      "/Users/henri/Documents/GitHub/frlearn-cl-nca/venv/lib/python3.10/site-packages/numpy/core/_methods.py:44: RuntimeWarning: invalid value encountered in reduce\n",
      "  return umr_minimum(a, axis, None, out, keepdims, initial, where)\n",
      "/Users/henri/Documents/GitHub/frlearn-cl-nca/venv/lib/python3.10/site-packages/numpy/core/_methods.py:44: RuntimeWarning: invalid value encountered in reduce\n",
      "  return umr_minimum(a, axis, None, out, keepdims, initial, where)\n",
      "/Users/henri/Documents/GitHub/frlearn-cl-nca/venv/lib/python3.10/site-packages/numpy/core/_methods.py:44: RuntimeWarning: invalid value encountered in reduce\n",
      "  return umr_minimum(a, axis, None, out, keepdims, initial, where)\n",
      "/Users/henri/Documents/GitHub/frlearn-cl-nca/venv/lib/python3.10/site-packages/numpy/core/_methods.py:44: RuntimeWarning: invalid value encountered in reduce\n",
      "  return umr_minimum(a, axis, None, out, keepdims, initial, where)\n",
      "/Users/henri/Documents/GitHub/frlearn-cl-nca/venv/lib/python3.10/site-packages/numpy/core/_methods.py:44: RuntimeWarning: invalid value encountered in reduce\n",
      "  return umr_minimum(a, axis, None, out, keepdims, initial, where)\n",
      "/Users/henri/Documents/GitHub/frlearn-cl-nca/venv/lib/python3.10/site-packages/numpy/core/_methods.py:44: RuntimeWarning: invalid value encountered in reduce\n",
      "  return umr_minimum(a, axis, None, out, keepdims, initial, where)\n",
      "/Users/henri/Documents/GitHub/frlearn-cl-nca/venv/lib/python3.10/site-packages/numpy/core/_methods.py:44: RuntimeWarning: invalid value encountered in reduce\n",
      "  return umr_minimum(a, axis, None, out, keepdims, initial, where)\n",
      "/Users/henri/Documents/GitHub/frlearn-cl-nca/venv/lib/python3.10/site-packages/numpy/core/_methods.py:44: RuntimeWarning: invalid value encountered in reduce\n",
      "  return umr_minimum(a, axis, None, out, keepdims, initial, where)\n",
      "/Users/henri/Documents/GitHub/frlearn-cl-nca/venv/lib/python3.10/site-packages/numpy/core/_methods.py:44: RuntimeWarning: invalid value encountered in reduce\n",
      "  return umr_minimum(a, axis, None, out, keepdims, initial, where)\n",
      "/Users/henri/Documents/GitHub/frlearn-cl-nca/venv/lib/python3.10/site-packages/numpy/core/_methods.py:44: RuntimeWarning: invalid value encountered in reduce\n",
      "  return umr_minimum(a, axis, None, out, keepdims, initial, where)\n",
      "/Users/henri/Documents/GitHub/frlearn-cl-nca/venv/lib/python3.10/site-packages/numpy/core/_methods.py:44: RuntimeWarning: invalid value encountered in reduce\n",
      "  return umr_minimum(a, axis, None, out, keepdims, initial, where)\n",
      "/Users/henri/Documents/GitHub/frlearn-cl-nca/venv/lib/python3.10/site-packages/numpy/core/_methods.py:44: RuntimeWarning: invalid value encountered in reduce\n",
      "  return umr_minimum(a, axis, None, out, keepdims, initial, where)\n",
      "/Users/henri/Documents/GitHub/frlearn-cl-nca/venv/lib/python3.10/site-packages/numpy/core/_methods.py:44: RuntimeWarning: invalid value encountered in reduce\n",
      "  return umr_minimum(a, axis, None, out, keepdims, initial, where)\n",
      "/Users/henri/Documents/GitHub/frlearn-cl-nca/venv/lib/python3.10/site-packages/numpy/core/_methods.py:44: RuntimeWarning: invalid value encountered in reduce\n",
      "  return umr_minimum(a, axis, None, out, keepdims, initial, where)\n",
      "/Users/henri/Documents/GitHub/frlearn-cl-nca/venv/lib/python3.10/site-packages/numpy/core/_methods.py:44: RuntimeWarning: invalid value encountered in reduce\n",
      "  return umr_minimum(a, axis, None, out, keepdims, initial, where)\n",
      "/Users/henri/Documents/GitHub/frlearn-cl-nca/venv/lib/python3.10/site-packages/numpy/core/_methods.py:44: RuntimeWarning: invalid value encountered in reduce\n",
      "  return umr_minimum(a, axis, None, out, keepdims, initial, where)\n",
      "/Users/henri/Documents/GitHub/frlearn-cl-nca/venv/lib/python3.10/site-packages/numpy/core/_methods.py:44: RuntimeWarning: invalid value encountered in reduce\n",
      "  return umr_minimum(a, axis, None, out, keepdims, initial, where)\n",
      "/Users/henri/Documents/GitHub/frlearn-cl-nca/venv/lib/python3.10/site-packages/numpy/core/_methods.py:44: RuntimeWarning: invalid value encountered in reduce\n",
      "  return umr_minimum(a, axis, None, out, keepdims, initial, where)\n",
      "/Users/henri/Documents/GitHub/frlearn-cl-nca/venv/lib/python3.10/site-packages/numpy/core/_methods.py:44: RuntimeWarning: invalid value encountered in reduce\n",
      "  return umr_minimum(a, axis, None, out, keepdims, initial, where)\n",
      "/Users/henri/Documents/GitHub/frlearn-cl-nca/venv/lib/python3.10/site-packages/numpy/core/_methods.py:44: RuntimeWarning: invalid value encountered in reduce\n",
      "  return umr_minimum(a, axis, None, out, keepdims, initial, where)\n",
      "/Users/henri/Documents/GitHub/frlearn-cl-nca/venv/lib/python3.10/site-packages/numpy/core/_methods.py:44: RuntimeWarning: invalid value encountered in reduce\n",
      "  return umr_minimum(a, axis, None, out, keepdims, initial, where)\n",
      "/Users/henri/Documents/GitHub/frlearn-cl-nca/venv/lib/python3.10/site-packages/numpy/core/_methods.py:44: RuntimeWarning: invalid value encountered in reduce\n",
      "  return umr_minimum(a, axis, None, out, keepdims, initial, where)\n",
      "/Users/henri/Documents/GitHub/frlearn-cl-nca/venv/lib/python3.10/site-packages/numpy/core/_methods.py:44: RuntimeWarning: invalid value encountered in reduce\n",
      "  return umr_minimum(a, axis, None, out, keepdims, initial, where)\n",
      "/Users/henri/Documents/GitHub/frlearn-cl-nca/venv/lib/python3.10/site-packages/numpy/core/_methods.py:44: RuntimeWarning: invalid value encountered in reduce\n",
      "  return umr_minimum(a, axis, None, out, keepdims, initial, where)\n",
      "/Users/henri/Documents/GitHub/frlearn-cl-nca/venv/lib/python3.10/site-packages/numpy/core/_methods.py:44: RuntimeWarning: invalid value encountered in reduce\n",
      "  return umr_minimum(a, axis, None, out, keepdims, initial, where)\n",
      "/Users/henri/Documents/GitHub/frlearn-cl-nca/venv/lib/python3.10/site-packages/numpy/core/_methods.py:44: RuntimeWarning: invalid value encountered in reduce\n",
      "  return umr_minimum(a, axis, None, out, keepdims, initial, where)\n",
      "/Users/henri/Documents/GitHub/frlearn-cl-nca/venv/lib/python3.10/site-packages/numpy/core/_methods.py:44: RuntimeWarning: invalid value encountered in reduce\n",
      "  return umr_minimum(a, axis, None, out, keepdims, initial, where)\n",
      "/Users/henri/Documents/GitHub/frlearn-cl-nca/venv/lib/python3.10/site-packages/numpy/core/_methods.py:44: RuntimeWarning: invalid value encountered in reduce\n",
      "  return umr_minimum(a, axis, None, out, keepdims, initial, where)\n",
      "/Users/henri/Documents/GitHub/frlearn-cl-nca/venv/lib/python3.10/site-packages/numpy/core/_methods.py:44: RuntimeWarning: invalid value encountered in reduce\n",
      "  return umr_minimum(a, axis, None, out, keepdims, initial, where)\n",
      "/Users/henri/Documents/GitHub/frlearn-cl-nca/venv/lib/python3.10/site-packages/numpy/core/_methods.py:44: RuntimeWarning: invalid value encountered in reduce\n",
      "  return umr_minimum(a, axis, None, out, keepdims, initial, where)\n",
      "/Users/henri/Documents/GitHub/frlearn-cl-nca/venv/lib/python3.10/site-packages/numpy/core/_methods.py:44: RuntimeWarning: invalid value encountered in reduce\n",
      "  return umr_minimum(a, axis, None, out, keepdims, initial, where)\n",
      "/Users/henri/Documents/GitHub/frlearn-cl-nca/venv/lib/python3.10/site-packages/numpy/core/_methods.py:44: RuntimeWarning: invalid value encountered in reduce\n",
      "  return umr_minimum(a, axis, None, out, keepdims, initial, where)\n",
      "/Users/henri/Documents/GitHub/frlearn-cl-nca/venv/lib/python3.10/site-packages/numpy/core/_methods.py:44: RuntimeWarning: invalid value encountered in reduce\n",
      "  return umr_minimum(a, axis, None, out, keepdims, initial, where)\n",
      "/Users/henri/Documents/GitHub/frlearn-cl-nca/venv/lib/python3.10/site-packages/numpy/core/_methods.py:44: RuntimeWarning: invalid value encountered in reduce\n",
      "  return umr_minimum(a, axis, None, out, keepdims, initial, where)\n",
      "/Users/henri/Documents/GitHub/frlearn-cl-nca/venv/lib/python3.10/site-packages/numpy/core/_methods.py:44: RuntimeWarning: invalid value encountered in reduce\n",
      "  return umr_minimum(a, axis, None, out, keepdims, initial, where)\n",
      "/Users/henri/Documents/GitHub/frlearn-cl-nca/venv/lib/python3.10/site-packages/numpy/core/_methods.py:44: RuntimeWarning: invalid value encountered in reduce\n",
      "  return umr_minimum(a, axis, None, out, keepdims, initial, where)\n",
      "/Users/henri/Documents/GitHub/frlearn-cl-nca/venv/lib/python3.10/site-packages/numpy/core/_methods.py:44: RuntimeWarning: invalid value encountered in reduce\n",
      "  return umr_minimum(a, axis, None, out, keepdims, initial, where)\n",
      "/Users/henri/Documents/GitHub/frlearn-cl-nca/venv/lib/python3.10/site-packages/numpy/core/_methods.py:44: RuntimeWarning: invalid value encountered in reduce\n",
      "  return umr_minimum(a, axis, None, out, keepdims, initial, where)\n",
      "/Users/henri/Documents/GitHub/frlearn-cl-nca/venv/lib/python3.10/site-packages/numpy/core/_methods.py:44: RuntimeWarning: invalid value encountered in reduce\n",
      "  return umr_minimum(a, axis, None, out, keepdims, initial, where)\n",
      "/Users/henri/Documents/GitHub/frlearn-cl-nca/venv/lib/python3.10/site-packages/numpy/core/_methods.py:44: RuntimeWarning: invalid value encountered in reduce\n",
      "  return umr_minimum(a, axis, None, out, keepdims, initial, where)\n",
      "/Users/henri/Documents/GitHub/frlearn-cl-nca/venv/lib/python3.10/site-packages/numpy/core/_methods.py:44: RuntimeWarning: invalid value encountered in reduce\n",
      "  return umr_minimum(a, axis, None, out, keepdims, initial, where)\n",
      "/Users/henri/Documents/GitHub/frlearn-cl-nca/venv/lib/python3.10/site-packages/numpy/core/_methods.py:44: RuntimeWarning: invalid value encountered in reduce\n",
      "  return umr_minimum(a, axis, None, out, keepdims, initial, where)\n",
      "/Users/henri/Documents/GitHub/frlearn-cl-nca/venv/lib/python3.10/site-packages/numpy/core/_methods.py:44: RuntimeWarning: invalid value encountered in reduce\n",
      "  return umr_minimum(a, axis, None, out, keepdims, initial, where)\n",
      "/Users/henri/Documents/GitHub/frlearn-cl-nca/venv/lib/python3.10/site-packages/numpy/core/_methods.py:44: RuntimeWarning: invalid value encountered in reduce\n",
      "  return umr_minimum(a, axis, None, out, keepdims, initial, where)\n",
      "/Users/henri/Documents/GitHub/frlearn-cl-nca/venv/lib/python3.10/site-packages/numpy/core/_methods.py:44: RuntimeWarning: invalid value encountered in reduce\n",
      "  return umr_minimum(a, axis, None, out, keepdims, initial, where)\n",
      "/Users/henri/Documents/GitHub/frlearn-cl-nca/venv/lib/python3.10/site-packages/numpy/core/_methods.py:44: RuntimeWarning: invalid value encountered in reduce\n",
      "  return umr_minimum(a, axis, None, out, keepdims, initial, where)\n",
      "/Users/henri/Documents/GitHub/frlearn-cl-nca/venv/lib/python3.10/site-packages/numpy/core/_methods.py:44: RuntimeWarning: invalid value encountered in reduce\n",
      "  return umr_minimum(a, axis, None, out, keepdims, initial, where)\n",
      "/Users/henri/Documents/GitHub/frlearn-cl-nca/venv/lib/python3.10/site-packages/numpy/core/_methods.py:44: RuntimeWarning: invalid value encountered in reduce\n",
      "  return umr_minimum(a, axis, None, out, keepdims, initial, where)\n",
      "/Users/henri/Documents/GitHub/frlearn-cl-nca/venv/lib/python3.10/site-packages/numpy/core/_methods.py:44: RuntimeWarning: invalid value encountered in reduce\n",
      "  return umr_minimum(a, axis, None, out, keepdims, initial, where)\n",
      "/Users/henri/Documents/GitHub/frlearn-cl-nca/venv/lib/python3.10/site-packages/numpy/core/_methods.py:44: RuntimeWarning: invalid value encountered in reduce\n",
      "  return umr_minimum(a, axis, None, out, keepdims, initial, where)\n",
      "/Users/henri/Documents/GitHub/frlearn-cl-nca/venv/lib/python3.10/site-packages/numpy/core/_methods.py:44: RuntimeWarning: invalid value encountered in reduce\n",
      "  return umr_minimum(a, axis, None, out, keepdims, initial, where)\n",
      "/Users/henri/Documents/GitHub/frlearn-cl-nca/venv/lib/python3.10/site-packages/numpy/core/_methods.py:44: RuntimeWarning: invalid value encountered in reduce\n",
      "  return umr_minimum(a, axis, None, out, keepdims, initial, where)\n",
      "/Users/henri/Documents/GitHub/frlearn-cl-nca/venv/lib/python3.10/site-packages/numpy/core/_methods.py:44: RuntimeWarning: invalid value encountered in reduce\n",
      "  return umr_minimum(a, axis, None, out, keepdims, initial, where)\n",
      "/Users/henri/Documents/GitHub/frlearn-cl-nca/venv/lib/python3.10/site-packages/numpy/core/_methods.py:44: RuntimeWarning: invalid value encountered in reduce\n",
      "  return umr_minimum(a, axis, None, out, keepdims, initial, where)\n",
      "/Users/henri/Documents/GitHub/frlearn-cl-nca/venv/lib/python3.10/site-packages/numpy/core/_methods.py:44: RuntimeWarning: invalid value encountered in reduce\n",
      "  return umr_minimum(a, axis, None, out, keepdims, initial, where)\n",
      "/Users/henri/Documents/GitHub/frlearn-cl-nca/venv/lib/python3.10/site-packages/numpy/core/_methods.py:44: RuntimeWarning: invalid value encountered in reduce\n",
      "  return umr_minimum(a, axis, None, out, keepdims, initial, where)\n",
      "/Users/henri/Documents/GitHub/frlearn-cl-nca/venv/lib/python3.10/site-packages/numpy/core/_methods.py:44: RuntimeWarning: invalid value encountered in reduce\n",
      "  return umr_minimum(a, axis, None, out, keepdims, initial, where)\n",
      "/Users/henri/Documents/GitHub/frlearn-cl-nca/venv/lib/python3.10/site-packages/numpy/core/_methods.py:44: RuntimeWarning: invalid value encountered in reduce\n",
      "  return umr_minimum(a, axis, None, out, keepdims, initial, where)\n",
      "/Users/henri/Documents/GitHub/frlearn-cl-nca/venv/lib/python3.10/site-packages/numpy/core/_methods.py:44: RuntimeWarning: invalid value encountered in reduce\n",
      "  return umr_minimum(a, axis, None, out, keepdims, initial, where)\n",
      "/Users/henri/Documents/GitHub/frlearn-cl-nca/venv/lib/python3.10/site-packages/numpy/core/_methods.py:44: RuntimeWarning: invalid value encountered in reduce\n",
      "  return umr_minimum(a, axis, None, out, keepdims, initial, where)\n",
      "/Users/henri/Documents/GitHub/frlearn-cl-nca/venv/lib/python3.10/site-packages/numpy/core/_methods.py:44: RuntimeWarning: invalid value encountered in reduce\n",
      "  return umr_minimum(a, axis, None, out, keepdims, initial, where)\n",
      "/Users/henri/Documents/GitHub/frlearn-cl-nca/venv/lib/python3.10/site-packages/numpy/core/_methods.py:44: RuntimeWarning: invalid value encountered in reduce\n",
      "  return umr_minimum(a, axis, None, out, keepdims, initial, where)\n",
      "/Users/henri/Documents/GitHub/frlearn-cl-nca/venv/lib/python3.10/site-packages/numpy/core/_methods.py:44: RuntimeWarning: invalid value encountered in reduce\n",
      "  return umr_minimum(a, axis, None, out, keepdims, initial, where)\n",
      "/Users/henri/Documents/GitHub/frlearn-cl-nca/venv/lib/python3.10/site-packages/numpy/core/_methods.py:44: RuntimeWarning: invalid value encountered in reduce\n",
      "  return umr_minimum(a, axis, None, out, keepdims, initial, where)\n",
      "/Users/henri/Documents/GitHub/frlearn-cl-nca/venv/lib/python3.10/site-packages/numpy/core/_methods.py:44: RuntimeWarning: invalid value encountered in reduce\n",
      "  return umr_minimum(a, axis, None, out, keepdims, initial, where)\n",
      "/Users/henri/Documents/GitHub/frlearn-cl-nca/venv/lib/python3.10/site-packages/numpy/core/_methods.py:44: RuntimeWarning: invalid value encountered in reduce\n",
      "  return umr_minimum(a, axis, None, out, keepdims, initial, where)\n",
      "/Users/henri/Documents/GitHub/frlearn-cl-nca/venv/lib/python3.10/site-packages/numpy/core/_methods.py:44: RuntimeWarning: invalid value encountered in reduce\n",
      "  return umr_minimum(a, axis, None, out, keepdims, initial, where)\n",
      "/Users/henri/Documents/GitHub/frlearn-cl-nca/venv/lib/python3.10/site-packages/numpy/core/_methods.py:44: RuntimeWarning: invalid value encountered in reduce\n",
      "  return umr_minimum(a, axis, None, out, keepdims, initial, where)\n",
      "/Users/henri/Documents/GitHub/frlearn-cl-nca/venv/lib/python3.10/site-packages/numpy/core/_methods.py:44: RuntimeWarning: invalid value encountered in reduce\n",
      "  return umr_minimum(a, axis, None, out, keepdims, initial, where)\n",
      "/Users/henri/Documents/GitHub/frlearn-cl-nca/venv/lib/python3.10/site-packages/numpy/core/_methods.py:44: RuntimeWarning: invalid value encountered in reduce\n",
      "  return umr_minimum(a, axis, None, out, keepdims, initial, where)\n",
      "/Users/henri/Documents/GitHub/frlearn-cl-nca/venv/lib/python3.10/site-packages/numpy/core/_methods.py:44: RuntimeWarning: invalid value encountered in reduce\n",
      "  return umr_minimum(a, axis, None, out, keepdims, initial, where)\n",
      "/Users/henri/Documents/GitHub/frlearn-cl-nca/venv/lib/python3.10/site-packages/numpy/core/_methods.py:44: RuntimeWarning: invalid value encountered in reduce\n",
      "  return umr_minimum(a, axis, None, out, keepdims, initial, where)\n",
      "/Users/henri/Documents/GitHub/frlearn-cl-nca/venv/lib/python3.10/site-packages/numpy/core/_methods.py:44: RuntimeWarning: invalid value encountered in reduce\n",
      "  return umr_minimum(a, axis, None, out, keepdims, initial, where)\n",
      "/Users/henri/Documents/GitHub/frlearn-cl-nca/venv/lib/python3.10/site-packages/numpy/core/_methods.py:44: RuntimeWarning: invalid value encountered in reduce\n",
      "  return umr_minimum(a, axis, None, out, keepdims, initial, where)\n",
      "/Users/henri/Documents/GitHub/frlearn-cl-nca/venv/lib/python3.10/site-packages/numpy/core/_methods.py:44: RuntimeWarning: invalid value encountered in reduce\n",
      "  return umr_minimum(a, axis, None, out, keepdims, initial, where)\n",
      "/Users/henri/Documents/GitHub/frlearn-cl-nca/venv/lib/python3.10/site-packages/numpy/core/_methods.py:44: RuntimeWarning: invalid value encountered in reduce\n",
      "  return umr_minimum(a, axis, None, out, keepdims, initial, where)\n",
      "/Users/henri/Documents/GitHub/frlearn-cl-nca/venv/lib/python3.10/site-packages/numpy/core/_methods.py:44: RuntimeWarning: invalid value encountered in reduce\n",
      "  return umr_minimum(a, axis, None, out, keepdims, initial, where)\n",
      "/Users/henri/Documents/GitHub/frlearn-cl-nca/venv/lib/python3.10/site-packages/numpy/core/_methods.py:44: RuntimeWarning: invalid value encountered in reduce\n",
      "  return umr_minimum(a, axis, None, out, keepdims, initial, where)\n",
      "/Users/henri/Documents/GitHub/frlearn-cl-nca/venv/lib/python3.10/site-packages/numpy/core/_methods.py:44: RuntimeWarning: invalid value encountered in reduce\n",
      "  return umr_minimum(a, axis, None, out, keepdims, initial, where)\n",
      "/Users/henri/Documents/GitHub/frlearn-cl-nca/venv/lib/python3.10/site-packages/numpy/core/_methods.py:44: RuntimeWarning: invalid value encountered in reduce\n",
      "  return umr_minimum(a, axis, None, out, keepdims, initial, where)\n",
      "/Users/henri/Documents/GitHub/frlearn-cl-nca/venv/lib/python3.10/site-packages/numpy/core/_methods.py:44: RuntimeWarning: invalid value encountered in reduce\n",
      "  return umr_minimum(a, axis, None, out, keepdims, initial, where)\n",
      "/Users/henri/Documents/GitHub/frlearn-cl-nca/venv/lib/python3.10/site-packages/numpy/core/_methods.py:44: RuntimeWarning: invalid value encountered in reduce\n",
      "  return umr_minimum(a, axis, None, out, keepdims, initial, where)\n",
      "/Users/henri/Documents/GitHub/frlearn-cl-nca/venv/lib/python3.10/site-packages/numpy/core/_methods.py:44: RuntimeWarning: invalid value encountered in reduce\n",
      "  return umr_minimum(a, axis, None, out, keepdims, initial, where)\n",
      "/Users/henri/Documents/GitHub/frlearn-cl-nca/venv/lib/python3.10/site-packages/numpy/core/_methods.py:44: RuntimeWarning: invalid value encountered in reduce\n",
      "  return umr_minimum(a, axis, None, out, keepdims, initial, where)\n",
      "/Users/henri/Documents/GitHub/frlearn-cl-nca/venv/lib/python3.10/site-packages/numpy/core/_methods.py:44: RuntimeWarning: invalid value encountered in reduce\n",
      "  return umr_minimum(a, axis, None, out, keepdims, initial, where)\n",
      "/Users/henri/Documents/GitHub/frlearn-cl-nca/venv/lib/python3.10/site-packages/numpy/core/_methods.py:44: RuntimeWarning: invalid value encountered in reduce\n",
      "  return umr_minimum(a, axis, None, out, keepdims, initial, where)\n",
      "/Users/henri/Documents/GitHub/frlearn-cl-nca/venv/lib/python3.10/site-packages/numpy/core/_methods.py:44: RuntimeWarning: invalid value encountered in reduce\n",
      "  return umr_minimum(a, axis, None, out, keepdims, initial, where)\n",
      "/Users/henri/Documents/GitHub/frlearn-cl-nca/venv/lib/python3.10/site-packages/numpy/core/_methods.py:44: RuntimeWarning: invalid value encountered in reduce\n",
      "  return umr_minimum(a, axis, None, out, keepdims, initial, where)\n",
      "/Users/henri/Documents/GitHub/frlearn-cl-nca/venv/lib/python3.10/site-packages/numpy/core/_methods.py:44: RuntimeWarning: invalid value encountered in reduce\n",
      "  return umr_minimum(a, axis, None, out, keepdims, initial, where)\n",
      "/Users/henri/Documents/GitHub/frlearn-cl-nca/venv/lib/python3.10/site-packages/numpy/core/_methods.py:44: RuntimeWarning: invalid value encountered in reduce\n",
      "  return umr_minimum(a, axis, None, out, keepdims, initial, where)\n",
      "/Users/henri/Documents/GitHub/frlearn-cl-nca/venv/lib/python3.10/site-packages/numpy/core/_methods.py:44: RuntimeWarning: invalid value encountered in reduce\n",
      "  return umr_minimum(a, axis, None, out, keepdims, initial, where)\n",
      "/Users/henri/Documents/GitHub/frlearn-cl-nca/venv/lib/python3.10/site-packages/numpy/core/_methods.py:44: RuntimeWarning: invalid value encountered in reduce\n",
      "  return umr_minimum(a, axis, None, out, keepdims, initial, where)\n",
      "/Users/henri/Documents/GitHub/frlearn-cl-nca/venv/lib/python3.10/site-packages/numpy/core/_methods.py:44: RuntimeWarning: invalid value encountered in reduce\n",
      "  return umr_minimum(a, axis, None, out, keepdims, initial, where)\n",
      "/Users/henri/Documents/GitHub/frlearn-cl-nca/venv/lib/python3.10/site-packages/numpy/core/_methods.py:44: RuntimeWarning: invalid value encountered in reduce\n",
      "  return umr_minimum(a, axis, None, out, keepdims, initial, where)\n",
      "/Users/henri/Documents/GitHub/frlearn-cl-nca/venv/lib/python3.10/site-packages/numpy/core/_methods.py:44: RuntimeWarning: invalid value encountered in reduce\n",
      "  return umr_minimum(a, axis, None, out, keepdims, initial, where)\n",
      "/Users/henri/Documents/GitHub/frlearn-cl-nca/venv/lib/python3.10/site-packages/numpy/core/_methods.py:44: RuntimeWarning: invalid value encountered in reduce\n",
      "  return umr_minimum(a, axis, None, out, keepdims, initial, where)\n",
      "/Users/henri/Documents/GitHub/frlearn-cl-nca/venv/lib/python3.10/site-packages/numpy/core/_methods.py:44: RuntimeWarning: invalid value encountered in reduce\n",
      "  return umr_minimum(a, axis, None, out, keepdims, initial, where)\n",
      "/Users/henri/Documents/GitHub/frlearn-cl-nca/venv/lib/python3.10/site-packages/numpy/core/_methods.py:44: RuntimeWarning: invalid value encountered in reduce\n",
      "  return umr_minimum(a, axis, None, out, keepdims, initial, where)\n",
      "/Users/henri/Documents/GitHub/frlearn-cl-nca/venv/lib/python3.10/site-packages/numpy/core/_methods.py:44: RuntimeWarning: invalid value encountered in reduce\n",
      "  return umr_minimum(a, axis, None, out, keepdims, initial, where)\n",
      "/Users/henri/Documents/GitHub/frlearn-cl-nca/venv/lib/python3.10/site-packages/numpy/core/_methods.py:44: RuntimeWarning: invalid value encountered in reduce\n",
      "  return umr_minimum(a, axis, None, out, keepdims, initial, where)\n",
      "/Users/henri/Documents/GitHub/frlearn-cl-nca/venv/lib/python3.10/site-packages/numpy/core/_methods.py:44: RuntimeWarning: invalid value encountered in reduce\n",
      "  return umr_minimum(a, axis, None, out, keepdims, initial, where)\n",
      "/Users/henri/Documents/GitHub/frlearn-cl-nca/venv/lib/python3.10/site-packages/numpy/core/_methods.py:44: RuntimeWarning: invalid value encountered in reduce\n",
      "  return umr_minimum(a, axis, None, out, keepdims, initial, where)\n",
      "/Users/henri/Documents/GitHub/frlearn-cl-nca/venv/lib/python3.10/site-packages/numpy/core/_methods.py:44: RuntimeWarning: invalid value encountered in reduce\n",
      "  return umr_minimum(a, axis, None, out, keepdims, initial, where)\n",
      "/Users/henri/Documents/GitHub/frlearn-cl-nca/venv/lib/python3.10/site-packages/numpy/core/_methods.py:44: RuntimeWarning: invalid value encountered in reduce\n",
      "  return umr_minimum(a, axis, None, out, keepdims, initial, where)\n",
      "/Users/henri/Documents/GitHub/frlearn-cl-nca/venv/lib/python3.10/site-packages/numpy/core/_methods.py:44: RuntimeWarning: invalid value encountered in reduce\n",
      "  return umr_minimum(a, axis, None, out, keepdims, initial, where)\n",
      "/Users/henri/Documents/GitHub/frlearn-cl-nca/venv/lib/python3.10/site-packages/numpy/core/_methods.py:44: RuntimeWarning: invalid value encountered in reduce\n",
      "  return umr_minimum(a, axis, None, out, keepdims, initial, where)\n",
      "/Users/henri/Documents/GitHub/frlearn-cl-nca/venv/lib/python3.10/site-packages/numpy/core/_methods.py:44: RuntimeWarning: invalid value encountered in reduce\n",
      "  return umr_minimum(a, axis, None, out, keepdims, initial, where)\n",
      "/Users/henri/Documents/GitHub/frlearn-cl-nca/venv/lib/python3.10/site-packages/numpy/core/_methods.py:44: RuntimeWarning: invalid value encountered in reduce\n",
      "  return umr_minimum(a, axis, None, out, keepdims, initial, where)\n",
      "/Users/henri/Documents/GitHub/frlearn-cl-nca/venv/lib/python3.10/site-packages/numpy/core/_methods.py:44: RuntimeWarning: invalid value encountered in reduce\n",
      "  return umr_minimum(a, axis, None, out, keepdims, initial, where)\n",
      "/Users/henri/Documents/GitHub/frlearn-cl-nca/venv/lib/python3.10/site-packages/numpy/core/_methods.py:44: RuntimeWarning: invalid value encountered in reduce\n",
      "  return umr_minimum(a, axis, None, out, keepdims, initial, where)\n",
      "/Users/henri/Documents/GitHub/frlearn-cl-nca/venv/lib/python3.10/site-packages/numpy/core/_methods.py:44: RuntimeWarning: invalid value encountered in reduce\n",
      "  return umr_minimum(a, axis, None, out, keepdims, initial, where)\n",
      "/Users/henri/Documents/GitHub/frlearn-cl-nca/venv/lib/python3.10/site-packages/numpy/core/_methods.py:44: RuntimeWarning: invalid value encountered in reduce\n",
      "  return umr_minimum(a, axis, None, out, keepdims, initial, where)\n",
      "/Users/henri/Documents/GitHub/frlearn-cl-nca/venv/lib/python3.10/site-packages/numpy/core/_methods.py:44: RuntimeWarning: invalid value encountered in reduce\n",
      "  return umr_minimum(a, axis, None, out, keepdims, initial, where)\n",
      "/Users/henri/Documents/GitHub/frlearn-cl-nca/venv/lib/python3.10/site-packages/numpy/core/_methods.py:44: RuntimeWarning: invalid value encountered in reduce\n",
      "  return umr_minimum(a, axis, None, out, keepdims, initial, where)\n",
      "/Users/henri/Documents/GitHub/frlearn-cl-nca/venv/lib/python3.10/site-packages/numpy/core/_methods.py:44: RuntimeWarning: invalid value encountered in reduce\n",
      "  return umr_minimum(a, axis, None, out, keepdims, initial, where)\n",
      "/Users/henri/Documents/GitHub/frlearn-cl-nca/venv/lib/python3.10/site-packages/numpy/core/_methods.py:44: RuntimeWarning: invalid value encountered in reduce\n",
      "  return umr_minimum(a, axis, None, out, keepdims, initial, where)\n",
      "/Users/henri/Documents/GitHub/frlearn-cl-nca/venv/lib/python3.10/site-packages/numpy/core/_methods.py:44: RuntimeWarning: invalid value encountered in reduce\n",
      "  return umr_minimum(a, axis, None, out, keepdims, initial, where)\n",
      "/Users/henri/Documents/GitHub/frlearn-cl-nca/venv/lib/python3.10/site-packages/numpy/core/_methods.py:44: RuntimeWarning: invalid value encountered in reduce\n",
      "  return umr_minimum(a, axis, None, out, keepdims, initial, where)\n",
      "/Users/henri/Documents/GitHub/frlearn-cl-nca/venv/lib/python3.10/site-packages/numpy/core/_methods.py:44: RuntimeWarning: invalid value encountered in reduce\n",
      "  return umr_minimum(a, axis, None, out, keepdims, initial, where)\n",
      "/Users/henri/Documents/GitHub/frlearn-cl-nca/venv/lib/python3.10/site-packages/numpy/core/_methods.py:44: RuntimeWarning: invalid value encountered in reduce\n",
      "  return umr_minimum(a, axis, None, out, keepdims, initial, where)\n",
      "/Users/henri/Documents/GitHub/frlearn-cl-nca/venv/lib/python3.10/site-packages/numpy/core/_methods.py:44: RuntimeWarning: invalid value encountered in reduce\n",
      "  return umr_minimum(a, axis, None, out, keepdims, initial, where)\n",
      "/Users/henri/Documents/GitHub/frlearn-cl-nca/venv/lib/python3.10/site-packages/numpy/core/_methods.py:44: RuntimeWarning: invalid value encountered in reduce\n",
      "  return umr_minimum(a, axis, None, out, keepdims, initial, where)\n",
      "/Users/henri/Documents/GitHub/frlearn-cl-nca/venv/lib/python3.10/site-packages/numpy/core/_methods.py:44: RuntimeWarning: invalid value encountered in reduce\n",
      "  return umr_minimum(a, axis, None, out, keepdims, initial, where)\n",
      "/Users/henri/Documents/GitHub/frlearn-cl-nca/venv/lib/python3.10/site-packages/numpy/core/_methods.py:44: RuntimeWarning: invalid value encountered in reduce\n",
      "  return umr_minimum(a, axis, None, out, keepdims, initial, where)\n",
      "/Users/henri/Documents/GitHub/frlearn-cl-nca/venv/lib/python3.10/site-packages/numpy/core/_methods.py:44: RuntimeWarning: invalid value encountered in reduce\n",
      "  return umr_minimum(a, axis, None, out, keepdims, initial, where)\n",
      "/Users/henri/Documents/GitHub/frlearn-cl-nca/venv/lib/python3.10/site-packages/numpy/core/_methods.py:44: RuntimeWarning: invalid value encountered in reduce\n",
      "  return umr_minimum(a, axis, None, out, keepdims, initial, where)\n",
      "/Users/henri/Documents/GitHub/frlearn-cl-nca/venv/lib/python3.10/site-packages/numpy/core/_methods.py:44: RuntimeWarning: invalid value encountered in reduce\n",
      "  return umr_minimum(a, axis, None, out, keepdims, initial, where)\n",
      "/Users/henri/Documents/GitHub/frlearn-cl-nca/venv/lib/python3.10/site-packages/numpy/core/_methods.py:44: RuntimeWarning: invalid value encountered in reduce\n",
      "  return umr_minimum(a, axis, None, out, keepdims, initial, where)\n",
      "/Users/henri/Documents/GitHub/frlearn-cl-nca/venv/lib/python3.10/site-packages/numpy/core/_methods.py:44: RuntimeWarning: invalid value encountered in reduce\n",
      "  return umr_minimum(a, axis, None, out, keepdims, initial, where)\n",
      "/Users/henri/Documents/GitHub/frlearn-cl-nca/venv/lib/python3.10/site-packages/numpy/core/_methods.py:44: RuntimeWarning: invalid value encountered in reduce\n",
      "  return umr_minimum(a, axis, None, out, keepdims, initial, where)\n",
      "/Users/henri/Documents/GitHub/frlearn-cl-nca/venv/lib/python3.10/site-packages/numpy/core/_methods.py:44: RuntimeWarning: invalid value encountered in reduce\n",
      "  return umr_minimum(a, axis, None, out, keepdims, initial, where)\n",
      "/Users/henri/Documents/GitHub/frlearn-cl-nca/venv/lib/python3.10/site-packages/numpy/core/_methods.py:44: RuntimeWarning: invalid value encountered in reduce\n",
      "  return umr_minimum(a, axis, None, out, keepdims, initial, where)\n",
      "/Users/henri/Documents/GitHub/frlearn-cl-nca/venv/lib/python3.10/site-packages/numpy/core/_methods.py:44: RuntimeWarning: invalid value encountered in reduce\n",
      "  return umr_minimum(a, axis, None, out, keepdims, initial, where)\n",
      "/Users/henri/Documents/GitHub/frlearn-cl-nca/venv/lib/python3.10/site-packages/numpy/core/_methods.py:44: RuntimeWarning: invalid value encountered in reduce\n",
      "  return umr_minimum(a, axis, None, out, keepdims, initial, where)\n",
      "/Users/henri/Documents/GitHub/frlearn-cl-nca/venv/lib/python3.10/site-packages/numpy/core/_methods.py:44: RuntimeWarning: invalid value encountered in reduce\n",
      "  return umr_minimum(a, axis, None, out, keepdims, initial, where)\n",
      "/Users/henri/Documents/GitHub/frlearn-cl-nca/venv/lib/python3.10/site-packages/numpy/core/_methods.py:44: RuntimeWarning: invalid value encountered in reduce\n",
      "  return umr_minimum(a, axis, None, out, keepdims, initial, where)\n",
      "/Users/henri/Documents/GitHub/frlearn-cl-nca/venv/lib/python3.10/site-packages/numpy/core/_methods.py:44: RuntimeWarning: invalid value encountered in reduce\n",
      "  return umr_minimum(a, axis, None, out, keepdims, initial, where)\n",
      "/Users/henri/Documents/GitHub/frlearn-cl-nca/venv/lib/python3.10/site-packages/numpy/core/_methods.py:44: RuntimeWarning: invalid value encountered in reduce\n",
      "  return umr_minimum(a, axis, None, out, keepdims, initial, where)\n",
      "/Users/henri/Documents/GitHub/frlearn-cl-nca/venv/lib/python3.10/site-packages/numpy/core/_methods.py:44: RuntimeWarning: invalid value encountered in reduce\n",
      "  return umr_minimum(a, axis, None, out, keepdims, initial, where)\n",
      "/Users/henri/Documents/GitHub/frlearn-cl-nca/venv/lib/python3.10/site-packages/numpy/core/_methods.py:44: RuntimeWarning: invalid value encountered in reduce\n",
      "  return umr_minimum(a, axis, None, out, keepdims, initial, where)\n",
      "/Users/henri/Documents/GitHub/frlearn-cl-nca/venv/lib/python3.10/site-packages/numpy/core/_methods.py:44: RuntimeWarning: invalid value encountered in reduce\n",
      "  return umr_minimum(a, axis, None, out, keepdims, initial, where)\n",
      "/Users/henri/Documents/GitHub/frlearn-cl-nca/venv/lib/python3.10/site-packages/numpy/core/_methods.py:44: RuntimeWarning: invalid value encountered in reduce\n",
      "  return umr_minimum(a, axis, None, out, keepdims, initial, where)\n",
      "/Users/henri/Documents/GitHub/frlearn-cl-nca/venv/lib/python3.10/site-packages/numpy/core/_methods.py:44: RuntimeWarning: invalid value encountered in reduce\n",
      "  return umr_minimum(a, axis, None, out, keepdims, initial, where)\n",
      "/Users/henri/Documents/GitHub/frlearn-cl-nca/venv/lib/python3.10/site-packages/numpy/core/_methods.py:44: RuntimeWarning: invalid value encountered in reduce\n",
      "  return umr_minimum(a, axis, None, out, keepdims, initial, where)\n",
      "/Users/henri/Documents/GitHub/frlearn-cl-nca/venv/lib/python3.10/site-packages/numpy/core/_methods.py:44: RuntimeWarning: invalid value encountered in reduce\n",
      "  return umr_minimum(a, axis, None, out, keepdims, initial, where)\n",
      "/Users/henri/Documents/GitHub/frlearn-cl-nca/venv/lib/python3.10/site-packages/numpy/core/_methods.py:44: RuntimeWarning: invalid value encountered in reduce\n",
      "  return umr_minimum(a, axis, None, out, keepdims, initial, where)\n",
      "/Users/henri/Documents/GitHub/frlearn-cl-nca/venv/lib/python3.10/site-packages/numpy/core/_methods.py:44: RuntimeWarning: invalid value encountered in reduce\n",
      "  return umr_minimum(a, axis, None, out, keepdims, initial, where)\n",
      "/Users/henri/Documents/GitHub/frlearn-cl-nca/venv/lib/python3.10/site-packages/numpy/core/_methods.py:44: RuntimeWarning: invalid value encountered in reduce\n",
      "  return umr_minimum(a, axis, None, out, keepdims, initial, where)\n",
      "/Users/henri/Documents/GitHub/frlearn-cl-nca/venv/lib/python3.10/site-packages/numpy/core/_methods.py:44: RuntimeWarning: invalid value encountered in reduce\n",
      "  return umr_minimum(a, axis, None, out, keepdims, initial, where)\n",
      "/Users/henri/Documents/GitHub/frlearn-cl-nca/venv/lib/python3.10/site-packages/numpy/core/_methods.py:44: RuntimeWarning: invalid value encountered in reduce\n",
      "  return umr_minimum(a, axis, None, out, keepdims, initial, where)\n",
      "/Users/henri/Documents/GitHub/frlearn-cl-nca/venv/lib/python3.10/site-packages/numpy/core/_methods.py:44: RuntimeWarning: invalid value encountered in reduce\n",
      "  return umr_minimum(a, axis, None, out, keepdims, initial, where)\n",
      "/Users/henri/Documents/GitHub/frlearn-cl-nca/venv/lib/python3.10/site-packages/numpy/core/_methods.py:44: RuntimeWarning: invalid value encountered in reduce\n",
      "  return umr_minimum(a, axis, None, out, keepdims, initial, where)\n",
      "/Users/henri/Documents/GitHub/frlearn-cl-nca/venv/lib/python3.10/site-packages/numpy/core/_methods.py:44: RuntimeWarning: invalid value encountered in reduce\n",
      "  return umr_minimum(a, axis, None, out, keepdims, initial, where)\n",
      "/Users/henri/Documents/GitHub/frlearn-cl-nca/venv/lib/python3.10/site-packages/numpy/core/_methods.py:44: RuntimeWarning: invalid value encountered in reduce\n",
      "  return umr_minimum(a, axis, None, out, keepdims, initial, where)\n",
      "/Users/henri/Documents/GitHub/frlearn-cl-nca/venv/lib/python3.10/site-packages/numpy/core/_methods.py:44: RuntimeWarning: invalid value encountered in reduce\n",
      "  return umr_minimum(a, axis, None, out, keepdims, initial, where)\n",
      "/Users/henri/Documents/GitHub/frlearn-cl-nca/venv/lib/python3.10/site-packages/numpy/core/_methods.py:44: RuntimeWarning: invalid value encountered in reduce\n",
      "  return umr_minimum(a, axis, None, out, keepdims, initial, where)\n",
      "/Users/henri/Documents/GitHub/frlearn-cl-nca/venv/lib/python3.10/site-packages/numpy/core/_methods.py:44: RuntimeWarning: invalid value encountered in reduce\n",
      "  return umr_minimum(a, axis, None, out, keepdims, initial, where)\n",
      "/Users/henri/Documents/GitHub/frlearn-cl-nca/venv/lib/python3.10/site-packages/numpy/core/_methods.py:44: RuntimeWarning: invalid value encountered in reduce\n",
      "  return umr_minimum(a, axis, None, out, keepdims, initial, where)\n",
      "/Users/henri/Documents/GitHub/frlearn-cl-nca/venv/lib/python3.10/site-packages/numpy/core/_methods.py:44: RuntimeWarning: invalid value encountered in reduce\n",
      "  return umr_minimum(a, axis, None, out, keepdims, initial, where)\n",
      "/Users/henri/Documents/GitHub/frlearn-cl-nca/venv/lib/python3.10/site-packages/numpy/core/_methods.py:44: RuntimeWarning: invalid value encountered in reduce\n",
      "  return umr_minimum(a, axis, None, out, keepdims, initial, where)\n",
      "/Users/henri/Documents/GitHub/frlearn-cl-nca/venv/lib/python3.10/site-packages/numpy/core/_methods.py:44: RuntimeWarning: invalid value encountered in reduce\n",
      "  return umr_minimum(a, axis, None, out, keepdims, initial, where)\n",
      "/Users/henri/Documents/GitHub/frlearn-cl-nca/venv/lib/python3.10/site-packages/numpy/core/_methods.py:44: RuntimeWarning: invalid value encountered in reduce\n",
      "  return umr_minimum(a, axis, None, out, keepdims, initial, where)\n",
      "/Users/henri/Documents/GitHub/frlearn-cl-nca/venv/lib/python3.10/site-packages/numpy/core/_methods.py:44: RuntimeWarning: invalid value encountered in reduce\n",
      "  return umr_minimum(a, axis, None, out, keepdims, initial, where)\n",
      "/Users/henri/Documents/GitHub/frlearn-cl-nca/venv/lib/python3.10/site-packages/numpy/core/_methods.py:44: RuntimeWarning: invalid value encountered in reduce\n",
      "  return umr_minimum(a, axis, None, out, keepdims, initial, where)\n",
      "/Users/henri/Documents/GitHub/frlearn-cl-nca/venv/lib/python3.10/site-packages/numpy/core/_methods.py:44: RuntimeWarning: invalid value encountered in reduce\n",
      "  return umr_minimum(a, axis, None, out, keepdims, initial, where)\n",
      "/Users/henri/Documents/GitHub/frlearn-cl-nca/venv/lib/python3.10/site-packages/numpy/core/_methods.py:44: RuntimeWarning: invalid value encountered in reduce\n",
      "  return umr_minimum(a, axis, None, out, keepdims, initial, where)\n",
      "/Users/henri/Documents/GitHub/frlearn-cl-nca/venv/lib/python3.10/site-packages/numpy/core/_methods.py:44: RuntimeWarning: invalid value encountered in reduce\n",
      "  return umr_minimum(a, axis, None, out, keepdims, initial, where)\n",
      "/Users/henri/Documents/GitHub/frlearn-cl-nca/venv/lib/python3.10/site-packages/numpy/core/_methods.py:44: RuntimeWarning: invalid value encountered in reduce\n",
      "  return umr_minimum(a, axis, None, out, keepdims, initial, where)\n",
      "/Users/henri/Documents/GitHub/frlearn-cl-nca/venv/lib/python3.10/site-packages/numpy/core/_methods.py:44: RuntimeWarning: invalid value encountered in reduce\n",
      "  return umr_minimum(a, axis, None, out, keepdims, initial, where)\n",
      "/Users/henri/Documents/GitHub/frlearn-cl-nca/venv/lib/python3.10/site-packages/numpy/core/_methods.py:44: RuntimeWarning: invalid value encountered in reduce\n",
      "  return umr_minimum(a, axis, None, out, keepdims, initial, where)\n",
      "/Users/henri/Documents/GitHub/frlearn-cl-nca/venv/lib/python3.10/site-packages/numpy/core/_methods.py:44: RuntimeWarning: invalid value encountered in reduce\n",
      "  return umr_minimum(a, axis, None, out, keepdims, initial, where)\n",
      "/Users/henri/Documents/GitHub/frlearn-cl-nca/venv/lib/python3.10/site-packages/numpy/core/_methods.py:44: RuntimeWarning: invalid value encountered in reduce\n",
      "  return umr_minimum(a, axis, None, out, keepdims, initial, where)\n",
      "/Users/henri/Documents/GitHub/frlearn-cl-nca/venv/lib/python3.10/site-packages/numpy/core/_methods.py:44: RuntimeWarning: invalid value encountered in reduce\n",
      "  return umr_minimum(a, axis, None, out, keepdims, initial, where)\n",
      "/Users/henri/Documents/GitHub/frlearn-cl-nca/venv/lib/python3.10/site-packages/numpy/core/_methods.py:44: RuntimeWarning: invalid value encountered in reduce\n",
      "  return umr_minimum(a, axis, None, out, keepdims, initial, where)\n",
      "/Users/henri/Documents/GitHub/frlearn-cl-nca/venv/lib/python3.10/site-packages/numpy/core/_methods.py:44: RuntimeWarning: invalid value encountered in reduce\n",
      "  return umr_minimum(a, axis, None, out, keepdims, initial, where)\n",
      "/Users/henri/Documents/GitHub/frlearn-cl-nca/venv/lib/python3.10/site-packages/numpy/core/_methods.py:44: RuntimeWarning: invalid value encountered in reduce\n",
      "  return umr_minimum(a, axis, None, out, keepdims, initial, where)\n",
      "/Users/henri/Documents/GitHub/frlearn-cl-nca/venv/lib/python3.10/site-packages/numpy/core/_methods.py:44: RuntimeWarning: invalid value encountered in reduce\n",
      "  return umr_minimum(a, axis, None, out, keepdims, initial, where)\n",
      "/Users/henri/Documents/GitHub/frlearn-cl-nca/venv/lib/python3.10/site-packages/numpy/core/_methods.py:44: RuntimeWarning: invalid value encountered in reduce\n",
      "  return umr_minimum(a, axis, None, out, keepdims, initial, where)\n",
      "/Users/henri/Documents/GitHub/frlearn-cl-nca/venv/lib/python3.10/site-packages/numpy/core/_methods.py:44: RuntimeWarning: invalid value encountered in reduce\n",
      "  return umr_minimum(a, axis, None, out, keepdims, initial, where)\n",
      "/Users/henri/Documents/GitHub/frlearn-cl-nca/venv/lib/python3.10/site-packages/numpy/core/_methods.py:44: RuntimeWarning: invalid value encountered in reduce\n",
      "  return umr_minimum(a, axis, None, out, keepdims, initial, where)\n",
      "/Users/henri/Documents/GitHub/frlearn-cl-nca/venv/lib/python3.10/site-packages/numpy/core/_methods.py:44: RuntimeWarning: invalid value encountered in reduce\n",
      "  return umr_minimum(a, axis, None, out, keepdims, initial, where)\n",
      "/Users/henri/Documents/GitHub/frlearn-cl-nca/venv/lib/python3.10/site-packages/numpy/core/_methods.py:44: RuntimeWarning: invalid value encountered in reduce\n",
      "  return umr_minimum(a, axis, None, out, keepdims, initial, where)\n",
      "/Users/henri/Documents/GitHub/frlearn-cl-nca/venv/lib/python3.10/site-packages/numpy/core/_methods.py:44: RuntimeWarning: invalid value encountered in reduce\n",
      "  return umr_minimum(a, axis, None, out, keepdims, initial, where)\n",
      "/Users/henri/Documents/GitHub/frlearn-cl-nca/venv/lib/python3.10/site-packages/numpy/core/_methods.py:44: RuntimeWarning: invalid value encountered in reduce\n",
      "  return umr_minimum(a, axis, None, out, keepdims, initial, where)\n",
      "/Users/henri/Documents/GitHub/frlearn-cl-nca/venv/lib/python3.10/site-packages/numpy/core/_methods.py:44: RuntimeWarning: invalid value encountered in reduce\n",
      "  return umr_minimum(a, axis, None, out, keepdims, initial, where)\n",
      "/Users/henri/Documents/GitHub/frlearn-cl-nca/venv/lib/python3.10/site-packages/numpy/core/_methods.py:44: RuntimeWarning: invalid value encountered in reduce\n",
      "  return umr_minimum(a, axis, None, out, keepdims, initial, where)\n",
      "/Users/henri/Documents/GitHub/frlearn-cl-nca/venv/lib/python3.10/site-packages/numpy/core/_methods.py:44: RuntimeWarning: invalid value encountered in reduce\n",
      "  return umr_minimum(a, axis, None, out, keepdims, initial, where)\n",
      "/Users/henri/Documents/GitHub/frlearn-cl-nca/venv/lib/python3.10/site-packages/numpy/core/_methods.py:44: RuntimeWarning: invalid value encountered in reduce\n",
      "  return umr_minimum(a, axis, None, out, keepdims, initial, where)\n",
      "/Users/henri/Documents/GitHub/frlearn-cl-nca/venv/lib/python3.10/site-packages/numpy/core/_methods.py:44: RuntimeWarning: invalid value encountered in reduce\n",
      "  return umr_minimum(a, axis, None, out, keepdims, initial, where)\n",
      "/Users/henri/Documents/GitHub/frlearn-cl-nca/venv/lib/python3.10/site-packages/numpy/core/_methods.py:44: RuntimeWarning: invalid value encountered in reduce\n",
      "  return umr_minimum(a, axis, None, out, keepdims, initial, where)\n",
      "/Users/henri/Documents/GitHub/frlearn-cl-nca/venv/lib/python3.10/site-packages/numpy/core/_methods.py:44: RuntimeWarning: invalid value encountered in reduce\n",
      "  return umr_minimum(a, axis, None, out, keepdims, initial, where)\n"
     ]
    }
   ],
   "source": [
    "min_nrs = {}\n",
    "for dataset_dir in data_path.iterdir():\n",
    "     if dataset_dir.name != \".gitignore\":\n",
    "          short_name = dataset_dir.name[:search(r'\\d', dataset_dir.name).start()][:-1]\n",
    "          min_nrs[short_name] = []\n",
    "          for fold in range(10):\n",
    "               _, y = get_dataset(dataset_dir, f\"{fold + 1}tra\")\n",
    "               min_nrs[short_name].append(np.bincount(np.unique(y, return_inverse=True)[1]).min(initial=np.infty))"
   ],
   "metadata": {
    "collapsed": false,
    "pycharm": {
     "name": "#%%\n"
    }
   }
  },
  {
   "cell_type": "code",
   "execution_count": 152,
   "outputs": [
    {
     "data": {
      "text/plain": "[18, 18, 18, 18, 18, 18, 18, 18, 18, 18]"
     },
     "execution_count": 152,
     "metadata": {},
     "output_type": "execute_result"
    }
   ],
   "source": [
    "min_nrs['dermatology']"
   ],
   "metadata": {
    "collapsed": false,
    "pycharm": {
     "name": "#%%\n"
    }
   }
  },
  {
   "cell_type": "code",
   "execution_count": null,
   "outputs": [],
   "source": [],
   "metadata": {
    "collapsed": false,
    "pycharm": {
     "name": "#%%\n"
    }
   }
  }
 ],
 "metadata": {
  "kernelspec": {
   "display_name": "Python 3",
   "language": "python",
   "name": "python3"
  },
  "language_info": {
   "codemirror_mode": {
    "name": "ipython",
    "version": 2
   },
   "file_extension": ".py",
   "mimetype": "text/x-python",
   "name": "python",
   "nbconvert_exporter": "python",
   "pygments_lexer": "ipython2",
   "version": "2.7.6"
  }
 },
 "nbformat": 4,
 "nbformat_minor": 0
}