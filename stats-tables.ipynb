{
 "cells": [
  {
   "cell_type": "code",
   "execution_count": 1,
   "metadata": {
    "collapsed": true,
    "pycharm": {
     "name": "#%%\n"
    }
   },
   "outputs": [],
   "source": [
    "%load_ext autoreload\n",
    "%autoreload 2"
   ]
  },
  {
   "cell_type": "markdown",
   "source": [
    "Calculating accuracy and such"
   ],
   "metadata": {
    "collapsed": false,
    "pycharm": {
     "name": "#%% md\n"
    }
   }
  },
  {
   "cell_type": "code",
   "execution_count": 2,
   "outputs": [],
   "source": [
    "from pathlib import Path\n",
    "\n",
    "import numpy as np\n",
    "\n",
    "from relations.experiment_help import get_dataset, calculate_score\n",
    "import pandas as pd\n",
    "from sklearn.metrics import balanced_accuracy_score, f1_score"
   ],
   "metadata": {
    "collapsed": false,
    "pycharm": {
     "name": "#%%\n"
    }
   }
  },
  {
   "cell_type": "code",
   "execution_count": 25,
   "outputs": [],
   "source": [
    "p = Path.cwd() / 'keel-data'\n",
    "q = Path.cwd() / 'full_results' / 'k3-range'"
   ],
   "metadata": {
    "collapsed": false,
    "pycharm": {
     "name": "#%%\n"
    }
   }
  },
  {
   "cell_type": "code",
   "execution_count": 26,
   "outputs": [
    {
     "name": "stdout",
     "output_type": "stream",
     "text": [
      "ecoli {}\n",
      "wisconsin {'cl-NCA': 10}\n",
      "thyroid {}\n",
      "sonar {}\n",
      "dermatology {}\n",
      "monk {}\n",
      "saheart {}\n",
      "page-blocks {}\n",
      "haberman {}\n",
      "cleveland {}\n",
      "spambase {}\n",
      "crx {}\n",
      "texture {}\n",
      "winequality-red {}\n",
      "contraceptive {}\n",
      "spectfheart {}\n",
      "bupa {}\n",
      "yeast {}\n",
      "titanic {}\n",
      "marketing {}\n",
      "ring {}\n",
      "heart {}\n",
      "balance {}\n",
      "twonorm {}\n",
      "australian {}\n",
      "segment {}\n",
      "mammographic {}\n",
      "winequality-white {}\n",
      "satimage {}\n",
      "glass {}\n",
      "pima {}\n",
      "vowel {}\n",
      "abalone {}\n",
      "vehicle {}\n",
      "wine {}\n",
      "automobile {}\n",
      "phoneme {}\n",
      "banana {}\n",
      "german {}\n",
      "ionosphere {}\n",
      "bands {}\n",
      "movement_libras {}\n"
     ]
    }
   ],
   "source": [
    "results = calculate_score(p, q, balanced_accuracy_score, ['cl-NCA'], excluded_sets=['wdbc'])"
   ],
   "metadata": {
    "collapsed": false,
    "pycharm": {
     "name": "#%%\n"
    }
   }
  },
  {
   "cell_type": "code",
   "execution_count": 27,
   "outputs": [
    {
     "data": {
      "text/plain": "                     cl-NCA\necoli                   NaN\nwisconsin          0.952429\nthyroid                 NaN\nsonar                   NaN\ndermatology             NaN\nmonk                    NaN\nsaheart                 NaN\npage-blocks             NaN\nhaberman                NaN\ncleveland               NaN\nspambase                NaN\ncrx                     NaN\ntexture                 NaN\nwinequality-red         NaN\ncontraceptive           NaN\nspectfheart             NaN\nbupa                    NaN\nyeast                   NaN\ntitanic                 NaN\nmarketing               NaN\nring                    NaN\nheart                   NaN\nbalance                 NaN\ntwonorm                 NaN\naustralian              NaN\nsegment                 NaN\nmammographic            NaN\nwinequality-white       NaN\nsatimage                NaN\nglass                   NaN\npima                    NaN\nvowel                   NaN\nabalone                 NaN\nvehicle                 NaN\nwine                    NaN\nautomobile              NaN\nphoneme                 NaN\nbanana                  NaN\ngerman                  NaN\nionosphere              NaN\nbands                   NaN\nmovement_libras         NaN",
      "text/html": "<div>\n<style scoped>\n    .dataframe tbody tr th:only-of-type {\n        vertical-align: middle;\n    }\n\n    .dataframe tbody tr th {\n        vertical-align: top;\n    }\n\n    .dataframe thead th {\n        text-align: right;\n    }\n</style>\n<table border=\"1\" class=\"dataframe\">\n  <thead>\n    <tr style=\"text-align: right;\">\n      <th></th>\n      <th>cl-NCA</th>\n    </tr>\n  </thead>\n  <tbody>\n    <tr>\n      <th>ecoli</th>\n      <td>NaN</td>\n    </tr>\n    <tr>\n      <th>wisconsin</th>\n      <td>0.952429</td>\n    </tr>\n    <tr>\n      <th>thyroid</th>\n      <td>NaN</td>\n    </tr>\n    <tr>\n      <th>sonar</th>\n      <td>NaN</td>\n    </tr>\n    <tr>\n      <th>dermatology</th>\n      <td>NaN</td>\n    </tr>\n    <tr>\n      <th>monk</th>\n      <td>NaN</td>\n    </tr>\n    <tr>\n      <th>saheart</th>\n      <td>NaN</td>\n    </tr>\n    <tr>\n      <th>page-blocks</th>\n      <td>NaN</td>\n    </tr>\n    <tr>\n      <th>haberman</th>\n      <td>NaN</td>\n    </tr>\n    <tr>\n      <th>cleveland</th>\n      <td>NaN</td>\n    </tr>\n    <tr>\n      <th>spambase</th>\n      <td>NaN</td>\n    </tr>\n    <tr>\n      <th>crx</th>\n      <td>NaN</td>\n    </tr>\n    <tr>\n      <th>texture</th>\n      <td>NaN</td>\n    </tr>\n    <tr>\n      <th>winequality-red</th>\n      <td>NaN</td>\n    </tr>\n    <tr>\n      <th>contraceptive</th>\n      <td>NaN</td>\n    </tr>\n    <tr>\n      <th>spectfheart</th>\n      <td>NaN</td>\n    </tr>\n    <tr>\n      <th>bupa</th>\n      <td>NaN</td>\n    </tr>\n    <tr>\n      <th>yeast</th>\n      <td>NaN</td>\n    </tr>\n    <tr>\n      <th>titanic</th>\n      <td>NaN</td>\n    </tr>\n    <tr>\n      <th>marketing</th>\n      <td>NaN</td>\n    </tr>\n    <tr>\n      <th>ring</th>\n      <td>NaN</td>\n    </tr>\n    <tr>\n      <th>heart</th>\n      <td>NaN</td>\n    </tr>\n    <tr>\n      <th>balance</th>\n      <td>NaN</td>\n    </tr>\n    <tr>\n      <th>twonorm</th>\n      <td>NaN</td>\n    </tr>\n    <tr>\n      <th>australian</th>\n      <td>NaN</td>\n    </tr>\n    <tr>\n      <th>segment</th>\n      <td>NaN</td>\n    </tr>\n    <tr>\n      <th>mammographic</th>\n      <td>NaN</td>\n    </tr>\n    <tr>\n      <th>winequality-white</th>\n      <td>NaN</td>\n    </tr>\n    <tr>\n      <th>satimage</th>\n      <td>NaN</td>\n    </tr>\n    <tr>\n      <th>glass</th>\n      <td>NaN</td>\n    </tr>\n    <tr>\n      <th>pima</th>\n      <td>NaN</td>\n    </tr>\n    <tr>\n      <th>vowel</th>\n      <td>NaN</td>\n    </tr>\n    <tr>\n      <th>abalone</th>\n      <td>NaN</td>\n    </tr>\n    <tr>\n      <th>vehicle</th>\n      <td>NaN</td>\n    </tr>\n    <tr>\n      <th>wine</th>\n      <td>NaN</td>\n    </tr>\n    <tr>\n      <th>automobile</th>\n      <td>NaN</td>\n    </tr>\n    <tr>\n      <th>phoneme</th>\n      <td>NaN</td>\n    </tr>\n    <tr>\n      <th>banana</th>\n      <td>NaN</td>\n    </tr>\n    <tr>\n      <th>german</th>\n      <td>NaN</td>\n    </tr>\n    <tr>\n      <th>ionosphere</th>\n      <td>NaN</td>\n    </tr>\n    <tr>\n      <th>bands</th>\n      <td>NaN</td>\n    </tr>\n    <tr>\n      <th>movement_libras</th>\n      <td>NaN</td>\n    </tr>\n  </tbody>\n</table>\n</div>"
     },
     "execution_count": 27,
     "metadata": {},
     "output_type": "execute_result"
    }
   ],
   "source": [
    "results[results.notna()]"
   ],
   "metadata": {
    "collapsed": false,
    "pycharm": {
     "name": "#%%\n"
    }
   }
  },
  {
   "cell_type": "code",
   "execution_count": null,
   "outputs": [],
   "source": [],
   "metadata": {
    "collapsed": false,
    "pycharm": {
     "name": "#%%\n"
    }
   }
  }
 ],
 "metadata": {
  "kernelspec": {
   "display_name": "Python 3",
   "language": "python",
   "name": "python3"
  },
  "language_info": {
   "codemirror_mode": {
    "name": "ipython",
    "version": 2
   },
   "file_extension": ".py",
   "mimetype": "text/x-python",
   "name": "python",
   "nbconvert_exporter": "python",
   "pygments_lexer": "ipython2",
   "version": "2.7.6"
  }
 },
 "nbformat": 4,
 "nbformat_minor": 0
}