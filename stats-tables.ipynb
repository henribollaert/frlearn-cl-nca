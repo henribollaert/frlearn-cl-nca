{
 "cells": [
  {
   "cell_type": "code",
   "execution_count": 1,
   "metadata": {
    "collapsed": true,
    "pycharm": {
     "name": "#%%\n"
    }
   },
   "outputs": [],
   "source": [
    "%load_ext autoreload\n",
    "%autoreload 2"
   ]
  },
  {
   "cell_type": "markdown",
   "source": [
    "Calculating accuracy and such"
   ],
   "metadata": {
    "collapsed": false,
    "pycharm": {
     "name": "#%% md\n"
    }
   }
  },
  {
   "cell_type": "code",
   "execution_count": 2,
   "outputs": [],
   "source": [
    "from pathlib import Path\n",
    "\n",
    "import numpy as np\n",
    "\n",
    "from relations.experiment_help import get_dataset, calculate_score\n",
    "import pandas as pd\n",
    "from sklearn.metrics import balanced_accuracy_score, f1_score"
   ],
   "metadata": {
    "collapsed": false,
    "pycharm": {
     "name": "#%%\n"
    }
   }
  },
  {
   "cell_type": "code",
   "execution_count": 21,
   "outputs": [],
   "source": [
    "p = Path.cwd() / 'keel-data'\n",
    "q = Path.cwd() / 'full_results' / 'k5-range'"
   ],
   "metadata": {
    "collapsed": false,
    "pycharm": {
     "name": "#%%\n"
    }
   }
  },
  {
   "cell_type": "code",
   "execution_count": 22,
   "outputs": [
    {
     "name": "stderr",
     "output_type": "stream",
     "text": [
      "/Users/henri/Documents/GitHub/frlearn-cl-nca/venv/lib/python3.10/site-packages/sklearn/metrics/_classification.py:2006: UserWarning: y_pred contains classes not in y_true\n",
      "  warnings.warn(\"y_pred contains classes not in y_true\")\n",
      "/Users/henri/Documents/GitHub/frlearn-cl-nca/venv/lib/python3.10/site-packages/sklearn/metrics/_classification.py:2006: UserWarning: y_pred contains classes not in y_true\n",
      "  warnings.warn(\"y_pred contains classes not in y_true\")\n",
      "/Users/henri/Documents/GitHub/frlearn-cl-nca/venv/lib/python3.10/site-packages/sklearn/metrics/_classification.py:2006: UserWarning: y_pred contains classes not in y_true\n",
      "  warnings.warn(\"y_pred contains classes not in y_true\")\n"
     ]
    }
   ],
   "source": [
    "results = calculate_score(p, q, balanced_accuracy_score, ['nca', 'dmlmj'])"
   ],
   "metadata": {
    "collapsed": false,
    "pycharm": {
     "name": "#%%\n"
    }
   }
  },
  {
   "cell_type": "code",
   "execution_count": 23,
   "outputs": [
    {
     "data": {
      "text/plain": "                        nca     dmlmj\necoli              0.742706       NaN\nwisconsin          0.965172  0.969413\nthyroid                 NaN       NaN\nwdbc               0.973273  0.970015\nsonar              0.867146  0.864545\ndermatology         0.96373       NaN\nmonk                    NaN       NaN\nsaheart                 NaN       NaN\npage-blocks             NaN       NaN\nhaberman           0.596412  0.522974\ncleveland          0.270569       NaN\nspambase                NaN       NaN\ncrx                0.733924  0.713803\ntexture                 NaN       NaN\nwinequality-red    0.329864       NaN\ncontraceptive      0.469632  0.449872\nspectfheart        0.586212  0.640476\nbupa               0.649205  0.660611\nyeast              0.511596       NaN\ntitanic            0.631327  0.631327\nmarketing               NaN       NaN\nring                    NaN       NaN\nheart                0.8025  0.789167\nbalance                 NaN       NaN\ntwonorm                 NaN       NaN\naustralian          0.83782    0.8472\nsegment                 NaN       NaN\nmammographic       0.822357  0.803097\nwinequality-white       NaN       NaN\nsatimage                NaN       NaN\nglass              0.585397       NaN\npima               0.674253  0.674004\nvowel              0.984848  0.984848\nvehicle            0.764973  0.768041\nwine               0.979643       NaN\nautomobile         0.831833       NaN\nphoneme                 NaN       NaN\nbanana                  NaN       NaN\ngerman             0.559524   0.52881\nionosphere         0.857354  0.827674\nbands              0.655144  0.711094\nmovement_libras    0.852222       NaN",
      "text/html": "<div>\n<style scoped>\n    .dataframe tbody tr th:only-of-type {\n        vertical-align: middle;\n    }\n\n    .dataframe tbody tr th {\n        vertical-align: top;\n    }\n\n    .dataframe thead th {\n        text-align: right;\n    }\n</style>\n<table border=\"1\" class=\"dataframe\">\n  <thead>\n    <tr style=\"text-align: right;\">\n      <th></th>\n      <th>nca</th>\n      <th>dmlmj</th>\n    </tr>\n  </thead>\n  <tbody>\n    <tr>\n      <th>ecoli</th>\n      <td>0.742706</td>\n      <td>NaN</td>\n    </tr>\n    <tr>\n      <th>wisconsin</th>\n      <td>0.965172</td>\n      <td>0.969413</td>\n    </tr>\n    <tr>\n      <th>thyroid</th>\n      <td>NaN</td>\n      <td>NaN</td>\n    </tr>\n    <tr>\n      <th>wdbc</th>\n      <td>0.973273</td>\n      <td>0.970015</td>\n    </tr>\n    <tr>\n      <th>sonar</th>\n      <td>0.867146</td>\n      <td>0.864545</td>\n    </tr>\n    <tr>\n      <th>dermatology</th>\n      <td>0.96373</td>\n      <td>NaN</td>\n    </tr>\n    <tr>\n      <th>monk</th>\n      <td>NaN</td>\n      <td>NaN</td>\n    </tr>\n    <tr>\n      <th>saheart</th>\n      <td>NaN</td>\n      <td>NaN</td>\n    </tr>\n    <tr>\n      <th>page-blocks</th>\n      <td>NaN</td>\n      <td>NaN</td>\n    </tr>\n    <tr>\n      <th>haberman</th>\n      <td>0.596412</td>\n      <td>0.522974</td>\n    </tr>\n    <tr>\n      <th>cleveland</th>\n      <td>0.270569</td>\n      <td>NaN</td>\n    </tr>\n    <tr>\n      <th>spambase</th>\n      <td>NaN</td>\n      <td>NaN</td>\n    </tr>\n    <tr>\n      <th>crx</th>\n      <td>0.733924</td>\n      <td>0.713803</td>\n    </tr>\n    <tr>\n      <th>texture</th>\n      <td>NaN</td>\n      <td>NaN</td>\n    </tr>\n    <tr>\n      <th>winequality-red</th>\n      <td>0.329864</td>\n      <td>NaN</td>\n    </tr>\n    <tr>\n      <th>contraceptive</th>\n      <td>0.469632</td>\n      <td>0.449872</td>\n    </tr>\n    <tr>\n      <th>spectfheart</th>\n      <td>0.586212</td>\n      <td>0.640476</td>\n    </tr>\n    <tr>\n      <th>bupa</th>\n      <td>0.649205</td>\n      <td>0.660611</td>\n    </tr>\n    <tr>\n      <th>yeast</th>\n      <td>0.511596</td>\n      <td>NaN</td>\n    </tr>\n    <tr>\n      <th>titanic</th>\n      <td>0.631327</td>\n      <td>0.631327</td>\n    </tr>\n    <tr>\n      <th>marketing</th>\n      <td>NaN</td>\n      <td>NaN</td>\n    </tr>\n    <tr>\n      <th>ring</th>\n      <td>NaN</td>\n      <td>NaN</td>\n    </tr>\n    <tr>\n      <th>heart</th>\n      <td>0.8025</td>\n      <td>0.789167</td>\n    </tr>\n    <tr>\n      <th>balance</th>\n      <td>NaN</td>\n      <td>NaN</td>\n    </tr>\n    <tr>\n      <th>twonorm</th>\n      <td>NaN</td>\n      <td>NaN</td>\n    </tr>\n    <tr>\n      <th>australian</th>\n      <td>0.83782</td>\n      <td>0.8472</td>\n    </tr>\n    <tr>\n      <th>segment</th>\n      <td>NaN</td>\n      <td>NaN</td>\n    </tr>\n    <tr>\n      <th>mammographic</th>\n      <td>0.822357</td>\n      <td>0.803097</td>\n    </tr>\n    <tr>\n      <th>winequality-white</th>\n      <td>NaN</td>\n      <td>NaN</td>\n    </tr>\n    <tr>\n      <th>satimage</th>\n      <td>NaN</td>\n      <td>NaN</td>\n    </tr>\n    <tr>\n      <th>glass</th>\n      <td>0.585397</td>\n      <td>NaN</td>\n    </tr>\n    <tr>\n      <th>pima</th>\n      <td>0.674253</td>\n      <td>0.674004</td>\n    </tr>\n    <tr>\n      <th>vowel</th>\n      <td>0.984848</td>\n      <td>0.984848</td>\n    </tr>\n    <tr>\n      <th>vehicle</th>\n      <td>0.764973</td>\n      <td>0.768041</td>\n    </tr>\n    <tr>\n      <th>wine</th>\n      <td>0.979643</td>\n      <td>NaN</td>\n    </tr>\n    <tr>\n      <th>automobile</th>\n      <td>0.831833</td>\n      <td>NaN</td>\n    </tr>\n    <tr>\n      <th>phoneme</th>\n      <td>NaN</td>\n      <td>NaN</td>\n    </tr>\n    <tr>\n      <th>banana</th>\n      <td>NaN</td>\n      <td>NaN</td>\n    </tr>\n    <tr>\n      <th>german</th>\n      <td>0.559524</td>\n      <td>0.52881</td>\n    </tr>\n    <tr>\n      <th>ionosphere</th>\n      <td>0.857354</td>\n      <td>0.827674</td>\n    </tr>\n    <tr>\n      <th>bands</th>\n      <td>0.655144</td>\n      <td>0.711094</td>\n    </tr>\n    <tr>\n      <th>movement_libras</th>\n      <td>0.852222</td>\n      <td>NaN</td>\n    </tr>\n  </tbody>\n</table>\n</div>"
     },
     "execution_count": 23,
     "metadata": {},
     "output_type": "execute_result"
    }
   ],
   "source": [
    "results  # ['abalone', 'balance', 'marketing', 'ring', 'satimage', 'segment', 'spambase', 'twonorm', 'saheart', 'monk']"
   ],
   "metadata": {
    "collapsed": false,
    "pycharm": {
     "name": "#%%\n"
    }
   }
  },
  {
   "cell_type": "code",
   "execution_count": 20,
   "outputs": [
    {
     "data": {
      "text/plain": "              my-max-nca my-dmlmj-max\nwisconsin       0.960455     0.969292\nwdbc            0.969246     0.962211\nsonar           0.870227        0.845\nmonk                 1.0     0.790386\nsaheart         0.568931     0.572056\nhaberman        0.625832     0.536951\ncrx             0.699969      0.69467\ncontraceptive   0.459817     0.436972\nspectfheart     0.596558     0.634156\nbupa            0.635097     0.662515\nheart           0.790833     0.799167\nbalance         0.956672     0.622558\naustralian      0.833696     0.847146\nmammographic    0.807938     0.797267\npima            0.680594     0.679126\nvowel           0.986869     0.990909\nvehicle          0.75559     0.763598\nwine            0.984405     0.976786\ngerman          0.540714     0.546667\nionosphere      0.875332     0.836608\nbands           0.685233     0.724635",
      "text/html": "<div>\n<style scoped>\n    .dataframe tbody tr th:only-of-type {\n        vertical-align: middle;\n    }\n\n    .dataframe tbody tr th {\n        vertical-align: top;\n    }\n\n    .dataframe thead th {\n        text-align: right;\n    }\n</style>\n<table border=\"1\" class=\"dataframe\">\n  <thead>\n    <tr style=\"text-align: right;\">\n      <th></th>\n      <th>my-max-nca</th>\n      <th>my-dmlmj-max</th>\n    </tr>\n  </thead>\n  <tbody>\n    <tr>\n      <th>wisconsin</th>\n      <td>0.960455</td>\n      <td>0.969292</td>\n    </tr>\n    <tr>\n      <th>wdbc</th>\n      <td>0.969246</td>\n      <td>0.962211</td>\n    </tr>\n    <tr>\n      <th>sonar</th>\n      <td>0.870227</td>\n      <td>0.845</td>\n    </tr>\n    <tr>\n      <th>monk</th>\n      <td>1.0</td>\n      <td>0.790386</td>\n    </tr>\n    <tr>\n      <th>saheart</th>\n      <td>0.568931</td>\n      <td>0.572056</td>\n    </tr>\n    <tr>\n      <th>haberman</th>\n      <td>0.625832</td>\n      <td>0.536951</td>\n    </tr>\n    <tr>\n      <th>crx</th>\n      <td>0.699969</td>\n      <td>0.69467</td>\n    </tr>\n    <tr>\n      <th>contraceptive</th>\n      <td>0.459817</td>\n      <td>0.436972</td>\n    </tr>\n    <tr>\n      <th>spectfheart</th>\n      <td>0.596558</td>\n      <td>0.634156</td>\n    </tr>\n    <tr>\n      <th>bupa</th>\n      <td>0.635097</td>\n      <td>0.662515</td>\n    </tr>\n    <tr>\n      <th>heart</th>\n      <td>0.790833</td>\n      <td>0.799167</td>\n    </tr>\n    <tr>\n      <th>balance</th>\n      <td>0.956672</td>\n      <td>0.622558</td>\n    </tr>\n    <tr>\n      <th>australian</th>\n      <td>0.833696</td>\n      <td>0.847146</td>\n    </tr>\n    <tr>\n      <th>mammographic</th>\n      <td>0.807938</td>\n      <td>0.797267</td>\n    </tr>\n    <tr>\n      <th>pima</th>\n      <td>0.680594</td>\n      <td>0.679126</td>\n    </tr>\n    <tr>\n      <th>vowel</th>\n      <td>0.986869</td>\n      <td>0.990909</td>\n    </tr>\n    <tr>\n      <th>vehicle</th>\n      <td>0.75559</td>\n      <td>0.763598</td>\n    </tr>\n    <tr>\n      <th>wine</th>\n      <td>0.984405</td>\n      <td>0.976786</td>\n    </tr>\n    <tr>\n      <th>german</th>\n      <td>0.540714</td>\n      <td>0.546667</td>\n    </tr>\n    <tr>\n      <th>ionosphere</th>\n      <td>0.875332</td>\n      <td>0.836608</td>\n    </tr>\n    <tr>\n      <th>bands</th>\n      <td>0.685233</td>\n      <td>0.724635</td>\n    </tr>\n  </tbody>\n</table>\n</div>"
     },
     "execution_count": 20,
     "metadata": {},
     "output_type": "execute_result"
    }
   ],
   "source": [
    "results_no_nan = results.dropna()\n",
    "results_no_nan"
   ],
   "metadata": {
    "collapsed": false,
    "pycharm": {
     "name": "#%%\n"
    }
   }
  },
  {
   "cell_type": "code",
   "execution_count": 13,
   "outputs": [
    {
     "name": "stderr",
     "output_type": "stream",
     "text": [
      "/var/folders/_f/yf3dkr5x1397v4ntwhncxfhw0000gn/T/ipykernel_12156/3936094751.py:1: SettingWithCopyWarning: \n",
      "A value is trying to be set on a copy of a slice from a DataFrame\n",
      "\n",
      "See the caveats in the documentation: https://pandas.pydata.org/pandas-docs/stable/user_guide/indexing.html#returning-a-view-versus-a-copy\n",
      "  results_no_nan.loc['mean'] = results_no_nan.mean(axis='rows')\n"
     ]
    }
   ],
   "source": [
    "results_no_nan.loc['mean'] = results_no_nan.mean(axis='rows')"
   ],
   "metadata": {
    "collapsed": false,
    "pycharm": {
     "name": "#%%\n"
    }
   }
  },
  {
   "cell_type": "code",
   "execution_count": 14,
   "outputs": [
    {
     "data": {
      "text/plain": "                        mah\nwisconsin          0.926965\nwdbc               0.785552\ndermatology        0.927904\nmonk               0.773719\nsaheart            0.565491\npage-blocks        0.818311\nhaberman           0.550686\ncleveland          0.295006\nspambase           0.900588\ncrx                0.720783\nwinequality-red    0.372768\ncontraceptive      0.449554\nbupa               0.680046\nyeast              0.523878\ntitanic            0.532115\nheart                 0.765\naustralian          0.82128\nmammographic       0.800826\nwinequality-white  0.430903\nglass              0.673512\npima               0.666224\nvowel              0.980808\nvehicle            0.797413\nwine               0.939643\nautomobile         0.621852\nphoneme            0.869311\nbanana             0.888703\ngerman              0.54881\nionosphere          0.79851\nbands              0.715686\nmean               0.704728",
      "text/html": "<div>\n<style scoped>\n    .dataframe tbody tr th:only-of-type {\n        vertical-align: middle;\n    }\n\n    .dataframe tbody tr th {\n        vertical-align: top;\n    }\n\n    .dataframe thead th {\n        text-align: right;\n    }\n</style>\n<table border=\"1\" class=\"dataframe\">\n  <thead>\n    <tr style=\"text-align: right;\">\n      <th></th>\n      <th>mah</th>\n    </tr>\n  </thead>\n  <tbody>\n    <tr>\n      <th>wisconsin</th>\n      <td>0.926965</td>\n    </tr>\n    <tr>\n      <th>wdbc</th>\n      <td>0.785552</td>\n    </tr>\n    <tr>\n      <th>dermatology</th>\n      <td>0.927904</td>\n    </tr>\n    <tr>\n      <th>monk</th>\n      <td>0.773719</td>\n    </tr>\n    <tr>\n      <th>saheart</th>\n      <td>0.565491</td>\n    </tr>\n    <tr>\n      <th>page-blocks</th>\n      <td>0.818311</td>\n    </tr>\n    <tr>\n      <th>haberman</th>\n      <td>0.550686</td>\n    </tr>\n    <tr>\n      <th>cleveland</th>\n      <td>0.295006</td>\n    </tr>\n    <tr>\n      <th>spambase</th>\n      <td>0.900588</td>\n    </tr>\n    <tr>\n      <th>crx</th>\n      <td>0.720783</td>\n    </tr>\n    <tr>\n      <th>winequality-red</th>\n      <td>0.372768</td>\n    </tr>\n    <tr>\n      <th>contraceptive</th>\n      <td>0.449554</td>\n    </tr>\n    <tr>\n      <th>bupa</th>\n      <td>0.680046</td>\n    </tr>\n    <tr>\n      <th>yeast</th>\n      <td>0.523878</td>\n    </tr>\n    <tr>\n      <th>titanic</th>\n      <td>0.532115</td>\n    </tr>\n    <tr>\n      <th>heart</th>\n      <td>0.765</td>\n    </tr>\n    <tr>\n      <th>australian</th>\n      <td>0.82128</td>\n    </tr>\n    <tr>\n      <th>mammographic</th>\n      <td>0.800826</td>\n    </tr>\n    <tr>\n      <th>winequality-white</th>\n      <td>0.430903</td>\n    </tr>\n    <tr>\n      <th>glass</th>\n      <td>0.673512</td>\n    </tr>\n    <tr>\n      <th>pima</th>\n      <td>0.666224</td>\n    </tr>\n    <tr>\n      <th>vowel</th>\n      <td>0.980808</td>\n    </tr>\n    <tr>\n      <th>vehicle</th>\n      <td>0.797413</td>\n    </tr>\n    <tr>\n      <th>wine</th>\n      <td>0.939643</td>\n    </tr>\n    <tr>\n      <th>automobile</th>\n      <td>0.621852</td>\n    </tr>\n    <tr>\n      <th>phoneme</th>\n      <td>0.869311</td>\n    </tr>\n    <tr>\n      <th>banana</th>\n      <td>0.888703</td>\n    </tr>\n    <tr>\n      <th>german</th>\n      <td>0.54881</td>\n    </tr>\n    <tr>\n      <th>ionosphere</th>\n      <td>0.79851</td>\n    </tr>\n    <tr>\n      <th>bands</th>\n      <td>0.715686</td>\n    </tr>\n    <tr>\n      <th>mean</th>\n      <td>0.704728</td>\n    </tr>\n  </tbody>\n</table>\n</div>"
     },
     "execution_count": 14,
     "metadata": {},
     "output_type": "execute_result"
    }
   ],
   "source": [
    "results_no_nan"
   ],
   "metadata": {
    "collapsed": false,
    "pycharm": {
     "name": "#%%\n"
    }
   }
  },
  {
   "cell_type": "code",
   "execution_count": null,
   "outputs": [],
   "source": [],
   "metadata": {
    "collapsed": false,
    "pycharm": {
     "name": "#%%\n"
    }
   }
  }
 ],
 "metadata": {
  "kernelspec": {
   "display_name": "Python 3",
   "language": "python",
   "name": "python3"
  },
  "language_info": {
   "codemirror_mode": {
    "name": "ipython",
    "version": 2
   },
   "file_extension": ".py",
   "mimetype": "text/x-python",
   "name": "python",
   "nbconvert_exporter": "python",
   "pygments_lexer": "ipython2",
   "version": "2.7.6"
  }
 },
 "nbformat": 4,
 "nbformat_minor": 0
}